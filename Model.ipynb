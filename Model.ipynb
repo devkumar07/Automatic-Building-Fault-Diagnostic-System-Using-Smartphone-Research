{
 "cells": [
  {
   "cell_type": "code",
   "execution_count": 1,
   "metadata": {},
   "outputs": [
    {
     "data": {
      "text/html": [
       "<div>\n",
       "<style scoped>\n",
       "    .dataframe tbody tr th:only-of-type {\n",
       "        vertical-align: middle;\n",
       "    }\n",
       "\n",
       "    .dataframe tbody tr th {\n",
       "        vertical-align: top;\n",
       "    }\n",
       "\n",
       "    .dataframe thead th {\n",
       "        text-align: right;\n",
       "    }\n",
       "</style>\n",
       "<table border=\"1\" class=\"dataframe\">\n",
       "  <thead>\n",
       "    <tr style=\"text-align: right;\">\n",
       "      <th></th>\n",
       "      <th>outdoor_temp</th>\n",
       "      <th>zone_temp</th>\n",
       "      <th>occupancy</th>\n",
       "      <th>supply_temp</th>\n",
       "      <th>air_flow</th>\n",
       "    </tr>\n",
       "    <tr>\n",
       "      <th>time</th>\n",
       "      <th></th>\n",
       "      <th></th>\n",
       "      <th></th>\n",
       "      <th></th>\n",
       "      <th></th>\n",
       "    </tr>\n",
       "  </thead>\n",
       "  <tbody>\n",
       "    <tr>\n",
       "      <th>2017-01-01 00:00:00</th>\n",
       "      <td>2.200</td>\n",
       "      <td>22.832449</td>\n",
       "      <td>0</td>\n",
       "      <td>25.000003</td>\n",
       "      <td>0.733767</td>\n",
       "    </tr>\n",
       "    <tr>\n",
       "      <th>2017-01-01 00:05:00</th>\n",
       "      <td>1.825</td>\n",
       "      <td>22.824465</td>\n",
       "      <td>0</td>\n",
       "      <td>25.000003</td>\n",
       "      <td>0.733767</td>\n",
       "    </tr>\n",
       "    <tr>\n",
       "      <th>2017-01-01 00:10:00</th>\n",
       "      <td>1.450</td>\n",
       "      <td>22.812760</td>\n",
       "      <td>0</td>\n",
       "      <td>25.000003</td>\n",
       "      <td>0.733767</td>\n",
       "    </tr>\n",
       "    <tr>\n",
       "      <th>2017-01-01 00:15:00</th>\n",
       "      <td>1.075</td>\n",
       "      <td>22.799019</td>\n",
       "      <td>0</td>\n",
       "      <td>25.000003</td>\n",
       "      <td>0.733767</td>\n",
       "    </tr>\n",
       "    <tr>\n",
       "      <th>2017-01-01 00:20:00</th>\n",
       "      <td>0.700</td>\n",
       "      <td>22.784421</td>\n",
       "      <td>0</td>\n",
       "      <td>25.000003</td>\n",
       "      <td>0.733767</td>\n",
       "    </tr>\n",
       "    <tr>\n",
       "      <th>...</th>\n",
       "      <td>...</td>\n",
       "      <td>...</td>\n",
       "      <td>...</td>\n",
       "      <td>...</td>\n",
       "      <td>...</td>\n",
       "    </tr>\n",
       "    <tr>\n",
       "      <th>2017-12-31 23:40:00</th>\n",
       "      <td>6.000</td>\n",
       "      <td>22.990503</td>\n",
       "      <td>0</td>\n",
       "      <td>25.000004</td>\n",
       "      <td>0.733767</td>\n",
       "    </tr>\n",
       "    <tr>\n",
       "      <th>2017-12-31 23:45:00</th>\n",
       "      <td>6.000</td>\n",
       "      <td>22.988552</td>\n",
       "      <td>0</td>\n",
       "      <td>25.000004</td>\n",
       "      <td>0.733767</td>\n",
       "    </tr>\n",
       "    <tr>\n",
       "      <th>2017-12-31 23:50:00</th>\n",
       "      <td>6.000</td>\n",
       "      <td>22.986715</td>\n",
       "      <td>0</td>\n",
       "      <td>25.000004</td>\n",
       "      <td>0.733767</td>\n",
       "    </tr>\n",
       "    <tr>\n",
       "      <th>2017-12-31 23:55:00</th>\n",
       "      <td>6.000</td>\n",
       "      <td>22.984990</td>\n",
       "      <td>0</td>\n",
       "      <td>25.000004</td>\n",
       "      <td>0.733767</td>\n",
       "    </tr>\n",
       "    <tr>\n",
       "      <th>2018-01-01 00:00:00</th>\n",
       "      <td>6.000</td>\n",
       "      <td>22.983374</td>\n",
       "      <td>0</td>\n",
       "      <td>25.000004</td>\n",
       "      <td>0.733767</td>\n",
       "    </tr>\n",
       "  </tbody>\n",
       "</table>\n",
       "<p>105121 rows × 5 columns</p>\n",
       "</div>"
      ],
      "text/plain": [
       "                     outdoor_temp  zone_temp  occupancy  supply_temp  air_flow\n",
       "time                                                                          \n",
       "2017-01-01 00:00:00         2.200  22.832449          0    25.000003  0.733767\n",
       "2017-01-01 00:05:00         1.825  22.824465          0    25.000003  0.733767\n",
       "2017-01-01 00:10:00         1.450  22.812760          0    25.000003  0.733767\n",
       "2017-01-01 00:15:00         1.075  22.799019          0    25.000003  0.733767\n",
       "2017-01-01 00:20:00         0.700  22.784421          0    25.000003  0.733767\n",
       "...                           ...        ...        ...          ...       ...\n",
       "2017-12-31 23:40:00         6.000  22.990503          0    25.000004  0.733767\n",
       "2017-12-31 23:45:00         6.000  22.988552          0    25.000004  0.733767\n",
       "2017-12-31 23:50:00         6.000  22.986715          0    25.000004  0.733767\n",
       "2017-12-31 23:55:00         6.000  22.984990          0    25.000004  0.733767\n",
       "2018-01-01 00:00:00         6.000  22.983374          0    25.000004  0.733767\n",
       "\n",
       "[105121 rows x 5 columns]"
      ]
     },
     "execution_count": 1,
     "metadata": {},
     "output_type": "execute_result"
    }
   ],
   "source": [
    "import pandas as pd\n",
    "data = pd.read_csv('data/result.csv', parse_dates=['time'], index_col=['time'])\n",
    "\"\"\"\n",
    "live_data = pd.read_csv('ra_data.csv', parse_dates=['time'], index_col=['time'])\n",
    "temp = pd.read_csv('zone_temp.csv', parse_dates=['time'], index_col=['time'])\n",
    "t = live_data.loc['2020-11-14 09:40:00':'2020-11-14 10:29:00']\n",
    "t = t.asfreq(freq='60S')\n",
    "t\n",
    "\"\"\"\n",
    "data"
   ]
  },
  {
   "cell_type": "code",
   "execution_count": 2,
   "metadata": {},
   "outputs": [
    {
     "data": {
      "text/html": [
       "<div>\n",
       "<style scoped>\n",
       "    .dataframe tbody tr th:only-of-type {\n",
       "        vertical-align: middle;\n",
       "    }\n",
       "\n",
       "    .dataframe tbody tr th {\n",
       "        vertical-align: top;\n",
       "    }\n",
       "\n",
       "    .dataframe thead th {\n",
       "        text-align: right;\n",
       "    }\n",
       "</style>\n",
       "<table border=\"1\" class=\"dataframe\">\n",
       "  <thead>\n",
       "    <tr style=\"text-align: right;\">\n",
       "      <th></th>\n",
       "      <th>outdoor_temp</th>\n",
       "      <th>zone_temp</th>\n",
       "      <th>occupancy</th>\n",
       "      <th>supply_temp</th>\n",
       "      <th>air_flow</th>\n",
       "    </tr>\n",
       "    <tr>\n",
       "      <th>time</th>\n",
       "      <th></th>\n",
       "      <th></th>\n",
       "      <th></th>\n",
       "      <th></th>\n",
       "      <th></th>\n",
       "    </tr>\n",
       "  </thead>\n",
       "  <tbody>\n",
       "    <tr>\n",
       "      <th>2017-04-07 07:00:00</th>\n",
       "      <td>8.000000</td>\n",
       "      <td>21.335866</td>\n",
       "      <td>0</td>\n",
       "      <td>21.484909</td>\n",
       "      <td>0.170118</td>\n",
       "    </tr>\n",
       "    <tr>\n",
       "      <th>2017-04-07 07:05:00</th>\n",
       "      <td>8.333333</td>\n",
       "      <td>21.272072</td>\n",
       "      <td>0</td>\n",
       "      <td>21.276894</td>\n",
       "      <td>0.144468</td>\n",
       "    </tr>\n",
       "    <tr>\n",
       "      <th>2017-04-07 07:10:00</th>\n",
       "      <td>8.666667</td>\n",
       "      <td>21.221613</td>\n",
       "      <td>0</td>\n",
       "      <td>21.073953</td>\n",
       "      <td>0.124680</td>\n",
       "    </tr>\n",
       "    <tr>\n",
       "      <th>2017-04-07 07:15:00</th>\n",
       "      <td>9.000000</td>\n",
       "      <td>21.184263</td>\n",
       "      <td>0</td>\n",
       "      <td>20.874572</td>\n",
       "      <td>0.109259</td>\n",
       "    </tr>\n",
       "    <tr>\n",
       "      <th>2017-04-07 07:20:00</th>\n",
       "      <td>9.333333</td>\n",
       "      <td>21.165918</td>\n",
       "      <td>0</td>\n",
       "      <td>20.678631</td>\n",
       "      <td>0.096485</td>\n",
       "    </tr>\n",
       "    <tr>\n",
       "      <th>2017-04-07 07:25:00</th>\n",
       "      <td>9.666667</td>\n",
       "      <td>21.161664</td>\n",
       "      <td>0</td>\n",
       "      <td>20.474943</td>\n",
       "      <td>0.085833</td>\n",
       "    </tr>\n",
       "    <tr>\n",
       "      <th>2017-04-07 07:30:00</th>\n",
       "      <td>10.000000</td>\n",
       "      <td>21.167633</td>\n",
       "      <td>0</td>\n",
       "      <td>20.272742</td>\n",
       "      <td>0.076874</td>\n",
       "    </tr>\n",
       "    <tr>\n",
       "      <th>2017-04-07 07:35:00</th>\n",
       "      <td>10.333333</td>\n",
       "      <td>21.181543</td>\n",
       "      <td>0</td>\n",
       "      <td>20.146979</td>\n",
       "      <td>0.073377</td>\n",
       "    </tr>\n",
       "    <tr>\n",
       "      <th>2017-04-07 07:40:00</th>\n",
       "      <td>10.666667</td>\n",
       "      <td>21.201129</td>\n",
       "      <td>0</td>\n",
       "      <td>20.031257</td>\n",
       "      <td>0.073377</td>\n",
       "    </tr>\n",
       "    <tr>\n",
       "      <th>2017-04-07 07:45:00</th>\n",
       "      <td>11.000000</td>\n",
       "      <td>21.225580</td>\n",
       "      <td>0</td>\n",
       "      <td>19.922252</td>\n",
       "      <td>0.073377</td>\n",
       "    </tr>\n",
       "    <tr>\n",
       "      <th>2017-04-07 07:50:00</th>\n",
       "      <td>11.333333</td>\n",
       "      <td>21.254784</td>\n",
       "      <td>0</td>\n",
       "      <td>19.819547</td>\n",
       "      <td>0.073377</td>\n",
       "    </tr>\n",
       "    <tr>\n",
       "      <th>2017-04-07 07:55:00</th>\n",
       "      <td>11.666667</td>\n",
       "      <td>21.288681</td>\n",
       "      <td>0</td>\n",
       "      <td>19.722365</td>\n",
       "      <td>0.073377</td>\n",
       "    </tr>\n",
       "    <tr>\n",
       "      <th>2017-04-07 08:00:00</th>\n",
       "      <td>12.000000</td>\n",
       "      <td>21.327095</td>\n",
       "      <td>0</td>\n",
       "      <td>19.630517</td>\n",
       "      <td>0.073377</td>\n",
       "    </tr>\n",
       "    <tr>\n",
       "      <th>2017-04-07 08:05:00</th>\n",
       "      <td>12.250000</td>\n",
       "      <td>21.368660</td>\n",
       "      <td>0</td>\n",
       "      <td>19.545564</td>\n",
       "      <td>0.073377</td>\n",
       "    </tr>\n",
       "    <tr>\n",
       "      <th>2017-04-07 08:10:00</th>\n",
       "      <td>12.500000</td>\n",
       "      <td>21.412869</td>\n",
       "      <td>0</td>\n",
       "      <td>19.465678</td>\n",
       "      <td>0.073377</td>\n",
       "    </tr>\n",
       "    <tr>\n",
       "      <th>2017-04-07 08:15:00</th>\n",
       "      <td>12.750000</td>\n",
       "      <td>21.459817</td>\n",
       "      <td>0</td>\n",
       "      <td>19.390742</td>\n",
       "      <td>0.073377</td>\n",
       "    </tr>\n",
       "    <tr>\n",
       "      <th>2017-04-07 08:20:00</th>\n",
       "      <td>13.000000</td>\n",
       "      <td>21.509663</td>\n",
       "      <td>0</td>\n",
       "      <td>19.320932</td>\n",
       "      <td>0.073377</td>\n",
       "    </tr>\n",
       "    <tr>\n",
       "      <th>2017-04-07 08:25:00</th>\n",
       "      <td>13.250000</td>\n",
       "      <td>21.562417</td>\n",
       "      <td>0</td>\n",
       "      <td>19.255760</td>\n",
       "      <td>0.073377</td>\n",
       "    </tr>\n",
       "    <tr>\n",
       "      <th>2017-04-07 08:30:00</th>\n",
       "      <td>13.500000</td>\n",
       "      <td>21.617974</td>\n",
       "      <td>0</td>\n",
       "      <td>19.194924</td>\n",
       "      <td>0.073377</td>\n",
       "    </tr>\n",
       "  </tbody>\n",
       "</table>\n",
       "</div>"
      ],
      "text/plain": [
       "                     outdoor_temp  zone_temp  occupancy  supply_temp  air_flow\n",
       "time                                                                          \n",
       "2017-04-07 07:00:00      8.000000  21.335866          0    21.484909  0.170118\n",
       "2017-04-07 07:05:00      8.333333  21.272072          0    21.276894  0.144468\n",
       "2017-04-07 07:10:00      8.666667  21.221613          0    21.073953  0.124680\n",
       "2017-04-07 07:15:00      9.000000  21.184263          0    20.874572  0.109259\n",
       "2017-04-07 07:20:00      9.333333  21.165918          0    20.678631  0.096485\n",
       "2017-04-07 07:25:00      9.666667  21.161664          0    20.474943  0.085833\n",
       "2017-04-07 07:30:00     10.000000  21.167633          0    20.272742  0.076874\n",
       "2017-04-07 07:35:00     10.333333  21.181543          0    20.146979  0.073377\n",
       "2017-04-07 07:40:00     10.666667  21.201129          0    20.031257  0.073377\n",
       "2017-04-07 07:45:00     11.000000  21.225580          0    19.922252  0.073377\n",
       "2017-04-07 07:50:00     11.333333  21.254784          0    19.819547  0.073377\n",
       "2017-04-07 07:55:00     11.666667  21.288681          0    19.722365  0.073377\n",
       "2017-04-07 08:00:00     12.000000  21.327095          0    19.630517  0.073377\n",
       "2017-04-07 08:05:00     12.250000  21.368660          0    19.545564  0.073377\n",
       "2017-04-07 08:10:00     12.500000  21.412869          0    19.465678  0.073377\n",
       "2017-04-07 08:15:00     12.750000  21.459817          0    19.390742  0.073377\n",
       "2017-04-07 08:20:00     13.000000  21.509663          0    19.320932  0.073377\n",
       "2017-04-07 08:25:00     13.250000  21.562417          0    19.255760  0.073377\n",
       "2017-04-07 08:30:00     13.500000  21.617974          0    19.194924  0.073377"
      ]
     },
     "execution_count": 2,
     "metadata": {},
     "output_type": "execute_result"
    }
   ],
   "source": [
    "train_data = data.loc['2017-04-07 07:00:00':'2017-04-07 08:30:00']\n",
    "train_data"
   ]
  },
  {
   "cell_type": "code",
   "execution_count": 3,
   "metadata": {},
   "outputs": [
    {
     "data": {
      "text/html": [
       "<div>\n",
       "<style scoped>\n",
       "    .dataframe tbody tr th:only-of-type {\n",
       "        vertical-align: middle;\n",
       "    }\n",
       "\n",
       "    .dataframe tbody tr th {\n",
       "        vertical-align: top;\n",
       "    }\n",
       "\n",
       "    .dataframe thead th {\n",
       "        text-align: right;\n",
       "    }\n",
       "</style>\n",
       "<table border=\"1\" class=\"dataframe\">\n",
       "  <thead>\n",
       "    <tr style=\"text-align: right;\">\n",
       "      <th></th>\n",
       "      <th>outdoor_temp</th>\n",
       "      <th>zone_temp</th>\n",
       "      <th>occupancy</th>\n",
       "      <th>supply_temp</th>\n",
       "      <th>air_flow</th>\n",
       "    </tr>\n",
       "    <tr>\n",
       "      <th>time</th>\n",
       "      <th></th>\n",
       "      <th></th>\n",
       "      <th></th>\n",
       "      <th></th>\n",
       "      <th></th>\n",
       "    </tr>\n",
       "  </thead>\n",
       "  <tbody>\n",
       "    <tr>\n",
       "      <th>2017-04-07 09:00:00</th>\n",
       "      <td>15.000000</td>\n",
       "      <td>21.995291</td>\n",
       "      <td>0</td>\n",
       "      <td>18.937511</td>\n",
       "      <td>0.073377</td>\n",
       "    </tr>\n",
       "    <tr>\n",
       "      <th>2017-04-07 09:05:00</th>\n",
       "      <td>15.166667</td>\n",
       "      <td>22.063832</td>\n",
       "      <td>0</td>\n",
       "      <td>18.911480</td>\n",
       "      <td>0.073377</td>\n",
       "    </tr>\n",
       "    <tr>\n",
       "      <th>2017-04-07 09:10:00</th>\n",
       "      <td>15.333333</td>\n",
       "      <td>22.132965</td>\n",
       "      <td>0</td>\n",
       "      <td>18.890256</td>\n",
       "      <td>0.073377</td>\n",
       "    </tr>\n",
       "    <tr>\n",
       "      <th>2017-04-07 09:15:00</th>\n",
       "      <td>15.500000</td>\n",
       "      <td>22.202793</td>\n",
       "      <td>0</td>\n",
       "      <td>18.873699</td>\n",
       "      <td>0.073377</td>\n",
       "    </tr>\n",
       "    <tr>\n",
       "      <th>2017-04-07 09:20:00</th>\n",
       "      <td>15.666667</td>\n",
       "      <td>22.273604</td>\n",
       "      <td>0</td>\n",
       "      <td>18.861843</td>\n",
       "      <td>0.073377</td>\n",
       "    </tr>\n",
       "    <tr>\n",
       "      <th>2017-04-07 09:25:00</th>\n",
       "      <td>15.833333</td>\n",
       "      <td>22.346069</td>\n",
       "      <td>0</td>\n",
       "      <td>18.854609</td>\n",
       "      <td>0.073377</td>\n",
       "    </tr>\n",
       "    <tr>\n",
       "      <th>2017-04-07 09:30:00</th>\n",
       "      <td>16.000000</td>\n",
       "      <td>22.421139</td>\n",
       "      <td>0</td>\n",
       "      <td>18.851951</td>\n",
       "      <td>0.073377</td>\n",
       "    </tr>\n",
       "    <tr>\n",
       "      <th>2017-04-07 09:35:00</th>\n",
       "      <td>16.166667</td>\n",
       "      <td>22.498504</td>\n",
       "      <td>0</td>\n",
       "      <td>18.865005</td>\n",
       "      <td>0.073377</td>\n",
       "    </tr>\n",
       "    <tr>\n",
       "      <th>2017-04-07 09:40:00</th>\n",
       "      <td>16.333333</td>\n",
       "      <td>22.577820</td>\n",
       "      <td>0</td>\n",
       "      <td>18.883712</td>\n",
       "      <td>0.073377</td>\n",
       "    </tr>\n",
       "    <tr>\n",
       "      <th>2017-04-07 09:45:00</th>\n",
       "      <td>16.500000</td>\n",
       "      <td>22.658952</td>\n",
       "      <td>0</td>\n",
       "      <td>18.907468</td>\n",
       "      <td>0.073377</td>\n",
       "    </tr>\n",
       "    <tr>\n",
       "      <th>2017-04-07 09:50:00</th>\n",
       "      <td>16.666667</td>\n",
       "      <td>22.741851</td>\n",
       "      <td>0</td>\n",
       "      <td>18.936050</td>\n",
       "      <td>0.073377</td>\n",
       "    </tr>\n",
       "    <tr>\n",
       "      <th>2017-04-07 09:55:00</th>\n",
       "      <td>16.833333</td>\n",
       "      <td>22.829241</td>\n",
       "      <td>0</td>\n",
       "      <td>18.994069</td>\n",
       "      <td>0.073377</td>\n",
       "    </tr>\n",
       "    <tr>\n",
       "      <th>2017-04-07 10:00:00</th>\n",
       "      <td>17.000000</td>\n",
       "      <td>22.918316</td>\n",
       "      <td>0</td>\n",
       "      <td>19.038707</td>\n",
       "      <td>0.073377</td>\n",
       "    </tr>\n",
       "  </tbody>\n",
       "</table>\n",
       "</div>"
      ],
      "text/plain": [
       "                     outdoor_temp  zone_temp  occupancy  supply_temp  air_flow\n",
       "time                                                                          \n",
       "2017-04-07 09:00:00     15.000000  21.995291          0    18.937511  0.073377\n",
       "2017-04-07 09:05:00     15.166667  22.063832          0    18.911480  0.073377\n",
       "2017-04-07 09:10:00     15.333333  22.132965          0    18.890256  0.073377\n",
       "2017-04-07 09:15:00     15.500000  22.202793          0    18.873699  0.073377\n",
       "2017-04-07 09:20:00     15.666667  22.273604          0    18.861843  0.073377\n",
       "2017-04-07 09:25:00     15.833333  22.346069          0    18.854609  0.073377\n",
       "2017-04-07 09:30:00     16.000000  22.421139          0    18.851951  0.073377\n",
       "2017-04-07 09:35:00     16.166667  22.498504          0    18.865005  0.073377\n",
       "2017-04-07 09:40:00     16.333333  22.577820          0    18.883712  0.073377\n",
       "2017-04-07 09:45:00     16.500000  22.658952          0    18.907468  0.073377\n",
       "2017-04-07 09:50:00     16.666667  22.741851          0    18.936050  0.073377\n",
       "2017-04-07 09:55:00     16.833333  22.829241          0    18.994069  0.073377\n",
       "2017-04-07 10:00:00     17.000000  22.918316          0    19.038707  0.073377"
      ]
     },
     "execution_count": 3,
     "metadata": {},
     "output_type": "execute_result"
    }
   ],
   "source": [
    "test_data = data.loc['2017-04-07 09:00:00':'2017-04-07 10:00:00']\n",
    "test_data"
   ]
  },
  {
   "cell_type": "code",
   "execution_count": 4,
   "metadata": {},
   "outputs": [
    {
     "data": {
      "image/png": "[encoded data removed]",
      "text/plain": [
       "<Figure size 1008x576 with 1 Axes>"
      ]
     },
     "metadata": {
      "needs_background": "light"
     },
     "output_type": "display_data"
    }
   ],
   "source": [
    "import matplotlib.pyplot as plt\n",
    "import matplotlib.dates as mdates\n",
    "from datetime import datetime\n",
    "\n",
    "fig, ax = plt.subplots()\n",
    "hours = mdates.HourLocator(interval = 1)\n",
    "h_fmt = mdates.DateFormatter('%H:%M:%S')\n",
    "\n",
    "ax.plot(train_data.index, train_data['supply_temp'].values, color = 'black', linewidth = 0.8)\n",
    "#or use\n",
    "train_data['supply_temp'].plot(ax = ax, color = 'black', linewidth = 0.4, x_compat=True)\n",
    "#Then tick and format with matplotlib:\n",
    "ax.xaxis.set_major_locator(hours)\n",
    "ax.xaxis.set_major_formatter(h_fmt)\n",
    "\n",
    "fig.autofmt_xdate()\n",
    "fig.set_size_inches(14, 8)\n",
    "plt.show()"
   ]
  },
  {
   "cell_type": "code",
   "execution_count": 5,
   "metadata": {},
   "outputs": [
    {
     "data": {
      "image/png": "[encoded data removed]",
      "text/plain": [
       "<Figure size 1008x576 with 1 Axes>"
      ]
     },
     "metadata": {
      "needs_background": "light"
     },
     "output_type": "display_data"
    }
   ],
   "source": [
    "import matplotlib.pyplot as plt\n",
    "import matplotlib.dates as mdates\n",
    "from datetime import datetime\n",
    "\n",
    "fig, ax = plt.subplots()\n",
    "hours = mdates.HourLocator(interval = 1)\n",
    "h_fmt = mdates.DateFormatter('%H:%M:%S')\n",
    "\n",
    "ax.plot(train_data.index, train_data['zone_temp'].values, color = 'red', linewidth = 0.8)\n",
    "ax.plot(train_data.index, train_data['supply_temp'].values, color = 'green', linewidth = 0.8)\n",
    "ax.plot(train_data.index, train_data['occupancy'].values, color = 'black', linewidth = 0.8)\n",
    "ax.plot(train_data.index, train_data['outdoor_temp'].values, color = 'violet', linewidth = 0.8)\n",
    "#or use\n",
    "train_data['zone_temp'].plot(ax = ax, color = 'black', linewidth = 0.4, x_compat=True)\n",
    "train_data['supply_temp'].plot(ax = ax, color = 'black', linewidth = 0.4, x_compat=True)\n",
    "train_data['occupancy'].plot(ax = ax, color = 'black', linewidth = 0.4, x_compat=True)\n",
    "train_data['outdoor_temp'].plot(ax = ax, color = 'black', linewidth = 0.4, x_compat=True)\n",
    "#Then tick and format with matplotlib:\n",
    "ax.xaxis.set_major_locator(hours)\n",
    "ax.xaxis.set_major_formatter(h_fmt)\n",
    "\n",
    "fig.autofmt_xdate()\n",
    "fig.set_size_inches(14, 8)\n",
    "plt.show()"
   ]
  },
  {
   "cell_type": "code",
   "execution_count": 6,
   "metadata": {},
   "outputs": [
    {
     "data": {
      "image/png": "[encoded data removed]",
      "text/plain": [
       "<Figure size 1008x576 with 1 Axes>"
      ]
     },
     "metadata": {
      "needs_background": "light"
     },
     "output_type": "display_data"
    }
   ],
   "source": [
    "import matplotlib.pyplot as plt\n",
    "import matplotlib.dates as mdates\n",
    "from datetime import datetime\n",
    "\n",
    "fig, ax = plt.subplots()\n",
    "hours = mdates.HourLocator(interval = 1)\n",
    "h_fmt = mdates.DateFormatter('%H:%M:%S')\n",
    "\n",
    "ax.plot(train_data.index, train_data['occupancy'].values, color = 'red', linewidth = 0.8)\n",
    "#or use\n",
    "train_data['occupancy'].plot(ax = ax, color = 'black', linewidth = 0.4, x_compat=True)\n",
    "#Then tick and format with matplotlib:\n",
    "ax.xaxis.set_major_locator(hours)\n",
    "ax.xaxis.set_major_formatter(h_fmt)\n",
    "\n",
    "fig.autofmt_xdate()\n",
    "fig.set_size_inches(14, 8)\n",
    "plt.show()"
   ]
  },
  {
   "cell_type": "code",
   "execution_count": 7,
   "metadata": {},
   "outputs": [
    {
     "data": {
      "text/plain": [
       "<matplotlib.collections.PathCollection at 0x7fb73231af10>"
      ]
     },
     "execution_count": 7,
     "metadata": {},
     "output_type": "execute_result"
    },
    {
     "data": {
      "image/png": "[encoded data removed]",
      "text/plain": [
       "<Figure size 432x288 with 1 Axes>"
      ]
     },
     "metadata": {
      "needs_background": "light"
     },
     "output_type": "display_data"
    }
   ],
   "source": [
    "import matplotlib.pyplot as plt \n",
    "\n",
    "plt.scatter(train_data['supply_temp'],train_data['zone_temp'])"
   ]
  },
  {
   "cell_type": "code",
   "execution_count": 8,
   "metadata": {
    "scrolled": true
   },
   "outputs": [
    {
     "data": {
      "text/plain": [
       "<matplotlib.collections.PathCollection at 0x7fb7323d5700>"
      ]
     },
     "execution_count": 8,
     "metadata": {},
     "output_type": "execute_result"
    },
    {
     "data": {
      "image/png": "[encoded data removed]",
      "text/plain": [
       "<Figure size 432x288 with 1 Axes>"
      ]
     },
     "metadata": {
      "needs_background": "light"
     },
     "output_type": "display_data"
    }
   ],
   "source": [
    "plt.scatter(train_data['air_flow'],train_data['zone_temp'])"
   ]
  },
  {
   "cell_type": "code",
   "execution_count": 9,
   "metadata": {},
   "outputs": [
    {
     "data": {
      "text/plain": [
       "<matplotlib.axes._subplots.AxesSubplot at 0x7fb733a70f10>"
      ]
     },
     "execution_count": 9,
     "metadata": {},
     "output_type": "execute_result"
    },
    {
     "data": {
      "image/png": "[encoded data removed]",
      "text/plain": [
       "<Figure size 864x864 with 2 Axes>"
      ]
     },
     "metadata": {
      "needs_background": "light"
     },
     "output_type": "display_data"
    }
   ],
   "source": [
    "import seaborn as sns\n",
    "plt.figure(figsize=(12,12))\n",
    "sns.heatmap(data.corr())"
   ]
  },
  {
   "cell_type": "code",
   "execution_count": 10,
   "metadata": {},
   "outputs": [
    {
     "name": "stdout",
     "output_type": "stream",
     "text": [
      "Intercept: \n",
      " [7.57644508]\n",
      "Coefficients: \n",
      " [[0.51889665 1.6156054  0.29064915 0.        ]]\n"
     ]
    },
    {
     "data": {
      "text/plain": [
       "-0.04661289681733227"
      ]
     },
     "execution_count": 10,
     "metadata": {},
     "output_type": "execute_result"
    }
   ],
   "source": [
    "from sklearn import linear_model\n",
    "import statsmodels.api as sm\n",
    "from sklearn.metrics import r2_score\n",
    "\n",
    "x = train_data[['supply_temp', 'air_flow','outdoor_temp','occupancy']]\n",
    "y = train_data[['zone_temp']]\n",
    "\n",
    "regr = linear_model.LinearRegression()\n",
    "regr.fit(x, y)\n",
    "\n",
    "print('Intercept: \\n', regr.intercept_)\n",
    "print('Coefficients: \\n', regr.coef_)\n",
    "\n",
    "x_test = test_data[['supply_temp', 'air_flow','outdoor_temp','occupancy']]\n",
    "y_test = test_data[['zone_temp']]\n",
    "y_test_predict = regr.predict(x_test)\n",
    "r2_score(y_test, y_test_predict)"
   ]
  },
  {
   "cell_type": "code",
   "execution_count": 11,
   "metadata": {},
   "outputs": [
    {
     "name": "stdout",
     "output_type": "stream",
     "text": [
      "                                 OLS Regression Results                                \n",
      "=======================================================================================\n",
      "Dep. Variable:              zone_temp   R-squared (uncentered):                   1.000\n",
      "Model:                            OLS   Adj. R-squared (uncentered):              1.000\n",
      "Method:                 Least Squares   F-statistic:                          4.006e+06\n",
      "Date:                Wed, 18 Nov 2020   Prob (F-statistic):                    3.29e-47\n",
      "Time:                        15:49:26   Log-Likelihood:                          43.443\n",
      "No. Observations:                  19   AIC:                                     -80.89\n",
      "Df Residuals:                      16   BIC:                                     -78.05\n",
      "Df Model:                           3                                                  \n",
      "Covariance Type:            nonrobust                                                  \n",
      "================================================================================\n",
      "                   coef    std err          t      P>|t|      [0.025      0.975]\n",
      "--------------------------------------------------------------------------------\n",
      "supply_temp      0.8486      0.004    214.054      0.000       0.840       0.857\n",
      "air_flow        -0.5422      0.384     -1.414      0.177      -1.355       0.271\n",
      "outdoor_temp     0.3958      0.005     85.915      0.000       0.386       0.406\n",
      "occupancy             0          0        nan        nan           0           0\n",
      "==============================================================================\n",
      "Omnibus:                        1.283   Durbin-Watson:                   0.557\n",
      "Prob(Omnibus):                  0.526   Jarque-Bera (JB):                0.884\n",
      "Skew:                           0.172   Prob(JB):                        0.643\n",
      "Kurtosis:                       2.001   Cond. No.                          inf\n",
      "==============================================================================\n",
      "\n",
      "Warnings:\n",
      "[1] Standard Errors assume that the covariance matrix of the errors is correctly specified.\n",
      "[2] The smallest eigenvalue is      0. This might indicate that there are\n",
      "strong multicollinearity problems or that the design matrix is singular.\n",
      "0.8726523855690455\n"
     ]
    },
    {
     "name": "stderr",
     "output_type": "stream",
     "text": [
      "/Users/devanshukumar/opt/anaconda3/lib/python3.8/site-packages/scipy/stats/stats.py:1603: UserWarning: kurtosistest only valid for n>=20 ... continuing anyway, n=19\n",
      "  warnings.warn(\"kurtosistest only valid for n>=20 ... continuing \"\n",
      "/Users/devanshukumar/opt/anaconda3/lib/python3.8/site-packages/statsmodels/regression/linear_model.py:1830: RuntimeWarning: divide by zero encountered in double_scalars\n",
      "  return np.sqrt(eigvals[0]/eigvals[-1])\n",
      "/Users/devanshukumar/opt/anaconda3/lib/python3.8/site-packages/statsmodels/base/model.py:1362: RuntimeWarning: invalid value encountered in true_divide\n",
      "  return self.params / self.bse\n",
      "/Users/devanshukumar/opt/anaconda3/lib/python3.8/site-packages/scipy/stats/_distn_infrastructure.py:1932: RuntimeWarning: invalid value encountered in less_equal\n",
      "  cond2 = cond0 & (x <= _a)\n"
     ]
    }
   ],
   "source": [
    "#x = sm.add_constant(train_data['outdoor_temp']) # adding a constant\n",
    " \n",
    "model = sm.OLS(y, x).fit()\n",
    "y_pred = model.predict(x_test) \n",
    "\n",
    "print_model = model.summary()\n",
    "print(print_model)\n",
    "print(r2_score(y_test, y_pred))"
   ]
  },
  {
   "cell_type": "code",
   "execution_count": 12,
   "metadata": {},
   "outputs": [
    {
     "data": {
      "text/plain": [
       "array([0.54900846, 0.51210203, 0.47312707, 0.43296943, 0.3928195 ,\n",
       "       0.35461183, 0.3212602 , 0.29460593, 0.28698011, 0.30357153,\n",
       "       0.34398987, 0.41882338, 0.49961577])"
      ]
     },
     "execution_count": 12,
     "metadata": {},
     "output_type": "execute_result"
    }
   ],
   "source": [
    "from statsmodels.tools.eval_measures import rmse\n",
    "\n",
    "error = rmse(y_test, y_pred)\n",
    "error"
   ]
  },
  {
   "cell_type": "code",
   "execution_count": 13,
   "metadata": {},
   "outputs": [
    {
     "data": {
      "text/html": [
       "<div>\n",
       "<style scoped>\n",
       "    .dataframe tbody tr th:only-of-type {\n",
       "        vertical-align: middle;\n",
       "    }\n",
       "\n",
       "    .dataframe tbody tr th {\n",
       "        vertical-align: top;\n",
       "    }\n",
       "\n",
       "    .dataframe thead th {\n",
       "        text-align: right;\n",
       "    }\n",
       "</style>\n",
       "<table border=\"1\" class=\"dataframe\">\n",
       "  <thead>\n",
       "    <tr style=\"text-align: right;\">\n",
       "      <th></th>\n",
       "      <th>zone_temp</th>\n",
       "    </tr>\n",
       "    <tr>\n",
       "      <th>time</th>\n",
       "      <th></th>\n",
       "    </tr>\n",
       "  </thead>\n",
       "  <tbody>\n",
       "    <tr>\n",
       "      <th>2017-04-07 09:00:00</th>\n",
       "      <td>21.995291</td>\n",
       "    </tr>\n",
       "    <tr>\n",
       "      <th>2017-04-07 09:05:00</th>\n",
       "      <td>22.063832</td>\n",
       "    </tr>\n",
       "    <tr>\n",
       "      <th>2017-04-07 09:10:00</th>\n",
       "      <td>22.132965</td>\n",
       "    </tr>\n",
       "    <tr>\n",
       "      <th>2017-04-07 09:15:00</th>\n",
       "      <td>22.202793</td>\n",
       "    </tr>\n",
       "    <tr>\n",
       "      <th>2017-04-07 09:20:00</th>\n",
       "      <td>22.273604</td>\n",
       "    </tr>\n",
       "    <tr>\n",
       "      <th>2017-04-07 09:25:00</th>\n",
       "      <td>22.346069</td>\n",
       "    </tr>\n",
       "    <tr>\n",
       "      <th>2017-04-07 09:30:00</th>\n",
       "      <td>22.421139</td>\n",
       "    </tr>\n",
       "    <tr>\n",
       "      <th>2017-04-07 09:35:00</th>\n",
       "      <td>22.498504</td>\n",
       "    </tr>\n",
       "    <tr>\n",
       "      <th>2017-04-07 09:40:00</th>\n",
       "      <td>22.577820</td>\n",
       "    </tr>\n",
       "    <tr>\n",
       "      <th>2017-04-07 09:45:00</th>\n",
       "      <td>22.658952</td>\n",
       "    </tr>\n",
       "    <tr>\n",
       "      <th>2017-04-07 09:50:00</th>\n",
       "      <td>22.741851</td>\n",
       "    </tr>\n",
       "    <tr>\n",
       "      <th>2017-04-07 09:55:00</th>\n",
       "      <td>22.829241</td>\n",
       "    </tr>\n",
       "    <tr>\n",
       "      <th>2017-04-07 10:00:00</th>\n",
       "      <td>22.918316</td>\n",
       "    </tr>\n",
       "  </tbody>\n",
       "</table>\n",
       "</div>"
      ],
      "text/plain": [
       "                     zone_temp\n",
       "time                          \n",
       "2017-04-07 09:00:00  21.995291\n",
       "2017-04-07 09:05:00  22.063832\n",
       "2017-04-07 09:10:00  22.132965\n",
       "2017-04-07 09:15:00  22.202793\n",
       "2017-04-07 09:20:00  22.273604\n",
       "2017-04-07 09:25:00  22.346069\n",
       "2017-04-07 09:30:00  22.421139\n",
       "2017-04-07 09:35:00  22.498504\n",
       "2017-04-07 09:40:00  22.577820\n",
       "2017-04-07 09:45:00  22.658952\n",
       "2017-04-07 09:50:00  22.741851\n",
       "2017-04-07 09:55:00  22.829241\n",
       "2017-04-07 10:00:00  22.918316"
      ]
     },
     "execution_count": 13,
     "metadata": {},
     "output_type": "execute_result"
    }
   ],
   "source": [
    "y_test"
   ]
  },
  {
   "cell_type": "code",
   "execution_count": 14,
   "metadata": {},
   "outputs": [
    {
     "data": {
      "text/plain": [
       "time\n",
       "2017-04-07 09:00:00    21.967179\n",
       "2017-04-07 09:05:00    22.011053\n",
       "2017-04-07 09:10:00    22.059006\n",
       "2017-04-07 09:15:00    22.110920\n",
       "2017-04-07 09:20:00    22.166823\n",
       "2017-04-07 09:25:00    22.226648\n",
       "2017-04-07 09:30:00    22.290356\n",
       "2017-04-07 09:35:00    22.367398\n",
       "2017-04-07 09:40:00    22.449236\n",
       "2017-04-07 09:45:00    22.535359\n",
       "2017-04-07 09:50:00    22.625578\n",
       "2017-04-07 09:55:00    22.740776\n",
       "2017-04-07 10:00:00    22.844619\n",
       "dtype: float64"
      ]
     },
     "execution_count": 14,
     "metadata": {},
     "output_type": "execute_result"
    }
   ],
   "source": [
    "y_pred"
   ]
  },
  {
   "cell_type": "code",
   "execution_count": 15,
   "metadata": {},
   "outputs": [
    {
     "name": "stdout",
     "output_type": "stream",
     "text": [
      "0.937717704964992\n",
      "y_test:  [21.99529052 22.06383244 22.1329653  22.20279264 22.27360372 22.34606917\n",
      " 22.42113874 22.4985038  22.57781951 22.65895218 22.74185101 22.82924107\n",
      " 22.91831567]\n",
      "y_pred:  [21.49676088 21.5036703  21.51047113 21.51716155 21.52373827 21.53019911\n",
      " 21.53654167 21.54266364 21.5486532  21.55451303 21.56024236 21.56562025\n",
      " 21.57102365]\n"
     ]
    },
    {
     "name": "stderr",
     "output_type": "stream",
     "text": [
      "/Users/devanshukumar/opt/anaconda3/lib/python3.8/site-packages/sklearn/utils/validation.py:73: DataConversionWarning: A column-vector y was passed when a 1d array was expected. Please change the shape of y to (n_samples, ), for example using ravel().\n",
      "  return f(**kwargs)\n"
     ]
    }
   ],
   "source": [
    "from sklearn.svm import SVR\n",
    "from sklearn.metrics import r2_score, mean_squared_error\n",
    "import numpy as np\n",
    "regressor = SVR()\n",
    "model = regressor.fit(x, y)\n",
    "y_pred = model.predict(x_test)\n",
    "mse = mean_squared_error(y_test, y_pred)\n",
    "rmse = np.sqrt(mse)\n",
    "print(rmse)\n",
    "print('y_test: ',y_test.zone_temp.values)\n",
    "print('y_pred: ',y_pred)"
   ]
  },
  {
   "cell_type": "code",
   "execution_count": 16,
   "metadata": {},
   "outputs": [
    {
     "data": {
      "text/html": [
       "<div>\n",
       "<style scoped>\n",
       "    .dataframe tbody tr th:only-of-type {\n",
       "        vertical-align: middle;\n",
       "    }\n",
       "\n",
       "    .dataframe tbody tr th {\n",
       "        vertical-align: top;\n",
       "    }\n",
       "\n",
       "    .dataframe thead th {\n",
       "        text-align: right;\n",
       "    }\n",
       "</style>\n",
       "<table border=\"1\" class=\"dataframe\">\n",
       "  <thead>\n",
       "    <tr style=\"text-align: right;\">\n",
       "      <th></th>\n",
       "      <th>outdoor_temp</th>\n",
       "      <th>zone_temp</th>\n",
       "      <th>occupancy</th>\n",
       "      <th>supply_temp</th>\n",
       "      <th>air_flow</th>\n",
       "    </tr>\n",
       "    <tr>\n",
       "      <th>time</th>\n",
       "      <th></th>\n",
       "      <th></th>\n",
       "      <th></th>\n",
       "      <th></th>\n",
       "      <th></th>\n",
       "    </tr>\n",
       "  </thead>\n",
       "  <tbody>\n",
       "    <tr>\n",
       "      <th>2017-01-01 00:00:00</th>\n",
       "      <td>2.200</td>\n",
       "      <td>22.832449</td>\n",
       "      <td>0</td>\n",
       "      <td>25.000003</td>\n",
       "      <td>0.733767</td>\n",
       "    </tr>\n",
       "    <tr>\n",
       "      <th>2017-01-01 00:05:00</th>\n",
       "      <td>1.825</td>\n",
       "      <td>22.824465</td>\n",
       "      <td>0</td>\n",
       "      <td>25.000003</td>\n",
       "      <td>0.733767</td>\n",
       "    </tr>\n",
       "    <tr>\n",
       "      <th>2017-01-01 00:10:00</th>\n",
       "      <td>1.450</td>\n",
       "      <td>22.812760</td>\n",
       "      <td>0</td>\n",
       "      <td>25.000003</td>\n",
       "      <td>0.733767</td>\n",
       "    </tr>\n",
       "    <tr>\n",
       "      <th>2017-01-01 00:15:00</th>\n",
       "      <td>1.075</td>\n",
       "      <td>22.799019</td>\n",
       "      <td>0</td>\n",
       "      <td>25.000003</td>\n",
       "      <td>0.733767</td>\n",
       "    </tr>\n",
       "    <tr>\n",
       "      <th>2017-01-01 00:20:00</th>\n",
       "      <td>0.700</td>\n",
       "      <td>22.784421</td>\n",
       "      <td>0</td>\n",
       "      <td>25.000003</td>\n",
       "      <td>0.733767</td>\n",
       "    </tr>\n",
       "    <tr>\n",
       "      <th>...</th>\n",
       "      <td>...</td>\n",
       "      <td>...</td>\n",
       "      <td>...</td>\n",
       "      <td>...</td>\n",
       "      <td>...</td>\n",
       "    </tr>\n",
       "    <tr>\n",
       "      <th>2017-12-31 23:40:00</th>\n",
       "      <td>6.000</td>\n",
       "      <td>22.990503</td>\n",
       "      <td>0</td>\n",
       "      <td>25.000004</td>\n",
       "      <td>0.733767</td>\n",
       "    </tr>\n",
       "    <tr>\n",
       "      <th>2017-12-31 23:45:00</th>\n",
       "      <td>6.000</td>\n",
       "      <td>22.988552</td>\n",
       "      <td>0</td>\n",
       "      <td>25.000004</td>\n",
       "      <td>0.733767</td>\n",
       "    </tr>\n",
       "    <tr>\n",
       "      <th>2017-12-31 23:50:00</th>\n",
       "      <td>6.000</td>\n",
       "      <td>22.986715</td>\n",
       "      <td>0</td>\n",
       "      <td>25.000004</td>\n",
       "      <td>0.733767</td>\n",
       "    </tr>\n",
       "    <tr>\n",
       "      <th>2017-12-31 23:55:00</th>\n",
       "      <td>6.000</td>\n",
       "      <td>22.984990</td>\n",
       "      <td>0</td>\n",
       "      <td>25.000004</td>\n",
       "      <td>0.733767</td>\n",
       "    </tr>\n",
       "    <tr>\n",
       "      <th>2018-01-01 00:00:00</th>\n",
       "      <td>6.000</td>\n",
       "      <td>22.983374</td>\n",
       "      <td>0</td>\n",
       "      <td>25.000004</td>\n",
       "      <td>0.733767</td>\n",
       "    </tr>\n",
       "  </tbody>\n",
       "</table>\n",
       "<p>105121 rows × 5 columns</p>\n",
       "</div>"
      ],
      "text/plain": [
       "                     outdoor_temp  zone_temp  occupancy  supply_temp  air_flow\n",
       "time                                                                          \n",
       "2017-01-01 00:00:00         2.200  22.832449          0    25.000003  0.733767\n",
       "2017-01-01 00:05:00         1.825  22.824465          0    25.000003  0.733767\n",
       "2017-01-01 00:10:00         1.450  22.812760          0    25.000003  0.733767\n",
       "2017-01-01 00:15:00         1.075  22.799019          0    25.000003  0.733767\n",
       "2017-01-01 00:20:00         0.700  22.784421          0    25.000003  0.733767\n",
       "...                           ...        ...        ...          ...       ...\n",
       "2017-12-31 23:40:00         6.000  22.990503          0    25.000004  0.733767\n",
       "2017-12-31 23:45:00         6.000  22.988552          0    25.000004  0.733767\n",
       "2017-12-31 23:50:00         6.000  22.986715          0    25.000004  0.733767\n",
       "2017-12-31 23:55:00         6.000  22.984990          0    25.000004  0.733767\n",
       "2018-01-01 00:00:00         6.000  22.983374          0    25.000004  0.733767\n",
       "\n",
       "[105121 rows x 5 columns]"
      ]
     },
     "execution_count": 16,
     "metadata": {},
     "output_type": "execute_result"
    }
   ],
   "source": [
    "data"
   ]
  },
  {
   "cell_type": "code",
   "execution_count": 17,
   "metadata": {},
   "outputs": [],
   "source": [
    "x = data[['supply_temp', 'air_flow','outdoor_temp','occupancy']]\n",
    "y = data[['zone_temp']]"
   ]
  },
  {
   "cell_type": "code",
   "execution_count": 28,
   "metadata": {},
   "outputs": [
    {
     "name": "stdout",
     "output_type": "stream",
     "text": [
      "[21.49676088 21.5036703  21.51047113 21.51716155 21.52373827 21.53019911\n",
      " 21.53654167 21.54266364 21.5486532  21.55451303 21.56024236 21.56562025\n",
      " 21.57102365]\n",
      "[[21.99529052]\n",
      " [22.06383244]\n",
      " [22.1329653 ]\n",
      " [22.20279264]\n",
      " [22.27360372]\n",
      " [22.34606917]\n",
      " [22.42113874]\n",
      " [22.4985038 ]\n",
      " [22.57781951]\n",
      " [22.65895218]\n",
      " [22.74185101]\n",
      " [22.82924107]\n",
      " [22.91831567]]\n"
     ]
    }
   ],
   "source": [
    "print(y_pred)\n",
    "print(y_test.values)"
   ]
  },
  {
   "cell_type": "code",
   "execution_count": 32,
   "metadata": {},
   "outputs": [
    {
     "name": "stdout",
     "output_type": "stream",
     "text": [
      "[0.15384615 0.07692308 0.07692308 0.07692308 0.07692308 0.07692308\n",
      " 0.15384615 0.07692308 0.07692308 0.15384615]\n",
      "[0.15384615 0.07692308 0.07692308 0.15384615 0.07692308 0.07692308\n",
      " 0.07692308 0.07692308 0.07692308 0.15384615]\n",
      "1.0\n"
     ]
    }
   ],
   "source": [
    "from sklearn import preprocessing\n",
    "\n",
    "p = np.histogram(y_pred)[0] / len(y_pred)    \n",
    "q = np.histogram(y_test.values)[0] / len(y_test)\n",
    "print(p)\n",
    "print(q)\n",
    "print(np.sum(q))"
   ]
  },
  {
   "cell_type": "code",
   "execution_count": 30,
   "metadata": {},
   "outputs": [
    {
     "data": {
      "text/plain": [
       "0.013069156676569021"
      ]
     },
     "execution_count": 30,
     "metadata": {},
     "output_type": "execute_result"
    }
   ],
   "source": [
    "from scipy.spatial import distance\n",
    "distance.jensenshannon(p, q) ** 2"
   ]
  },
  {
   "cell_type": "code",
   "execution_count": null,
   "metadata": {},
   "outputs": [],
   "source": []
  }
 ],
 "metadata": {
  "kernelspec": {
   "display_name": "Python 3",
   "language": "python",
   "name": "python3"
  },
  "language_info": {
   "codemirror_mode": {
    "name": "ipython",
    "version": 3
   },
   "file_extension": ".py",
   "mimetype": "text/x-python",
   "name": "python",
   "nbconvert_exporter": "python",
   "pygments_lexer": "ipython3",
   "version": "3.8.3"
  }
 },
 "nbformat": 4,
 "nbformat_minor": 4
}
