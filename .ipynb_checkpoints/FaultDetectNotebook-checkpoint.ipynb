{
 "cells": [
  {
   "cell_type": "code",
   "execution_count": 269,
   "metadata": {},
   "outputs": [
    {
     "data": {
      "text/html": [
       "<div>\n",
       "<style scoped>\n",
       "    .dataframe tbody tr th:only-of-type {\n",
       "        vertical-align: middle;\n",
       "    }\n",
       "\n",
       "    .dataframe tbody tr th {\n",
       "        vertical-align: top;\n",
       "    }\n",
       "\n",
       "    .dataframe thead th {\n",
       "        text-align: right;\n",
       "    }\n",
       "</style>\n",
       "<table border=\"1\" class=\"dataframe\">\n",
       "  <thead>\n",
       "    <tr style=\"text-align: right;\">\n",
       "      <th></th>\n",
       "      <th>outdoor_temp</th>\n",
       "      <th>zone_temp</th>\n",
       "      <th>occupancy</th>\n",
       "      <th>supply_temp</th>\n",
       "      <th>air_flow</th>\n",
       "    </tr>\n",
       "    <tr>\n",
       "      <th>time</th>\n",
       "      <th></th>\n",
       "      <th></th>\n",
       "      <th></th>\n",
       "      <th></th>\n",
       "      <th></th>\n",
       "    </tr>\n",
       "  </thead>\n",
       "  <tbody>\n",
       "    <tr>\n",
       "      <th>2017-01-01 00:00:00</th>\n",
       "      <td>2.200</td>\n",
       "      <td>22.832449</td>\n",
       "      <td>0</td>\n",
       "      <td>25.000003</td>\n",
       "      <td>0.733767</td>\n",
       "    </tr>\n",
       "    <tr>\n",
       "      <th>2017-01-01 00:05:00</th>\n",
       "      <td>1.825</td>\n",
       "      <td>22.824465</td>\n",
       "      <td>0</td>\n",
       "      <td>25.000003</td>\n",
       "      <td>0.733767</td>\n",
       "    </tr>\n",
       "    <tr>\n",
       "      <th>2017-01-01 00:10:00</th>\n",
       "      <td>1.450</td>\n",
       "      <td>22.812760</td>\n",
       "      <td>0</td>\n",
       "      <td>25.000003</td>\n",
       "      <td>0.733767</td>\n",
       "    </tr>\n",
       "    <tr>\n",
       "      <th>2017-01-01 00:15:00</th>\n",
       "      <td>1.075</td>\n",
       "      <td>22.799019</td>\n",
       "      <td>0</td>\n",
       "      <td>25.000003</td>\n",
       "      <td>0.733767</td>\n",
       "    </tr>\n",
       "    <tr>\n",
       "      <th>2017-01-01 00:20:00</th>\n",
       "      <td>0.700</td>\n",
       "      <td>22.784421</td>\n",
       "      <td>0</td>\n",
       "      <td>25.000003</td>\n",
       "      <td>0.733767</td>\n",
       "    </tr>\n",
       "    <tr>\n",
       "      <th>...</th>\n",
       "      <td>...</td>\n",
       "      <td>...</td>\n",
       "      <td>...</td>\n",
       "      <td>...</td>\n",
       "      <td>...</td>\n",
       "    </tr>\n",
       "    <tr>\n",
       "      <th>2017-12-31 23:40:00</th>\n",
       "      <td>6.000</td>\n",
       "      <td>22.990503</td>\n",
       "      <td>0</td>\n",
       "      <td>25.000004</td>\n",
       "      <td>0.733767</td>\n",
       "    </tr>\n",
       "    <tr>\n",
       "      <th>2017-12-31 23:45:00</th>\n",
       "      <td>6.000</td>\n",
       "      <td>22.988552</td>\n",
       "      <td>0</td>\n",
       "      <td>25.000004</td>\n",
       "      <td>0.733767</td>\n",
       "    </tr>\n",
       "    <tr>\n",
       "      <th>2017-12-31 23:50:00</th>\n",
       "      <td>6.000</td>\n",
       "      <td>22.986715</td>\n",
       "      <td>0</td>\n",
       "      <td>25.000004</td>\n",
       "      <td>0.733767</td>\n",
       "    </tr>\n",
       "    <tr>\n",
       "      <th>2017-12-31 23:55:00</th>\n",
       "      <td>6.000</td>\n",
       "      <td>22.984990</td>\n",
       "      <td>0</td>\n",
       "      <td>25.000004</td>\n",
       "      <td>0.733767</td>\n",
       "    </tr>\n",
       "    <tr>\n",
       "      <th>2018-01-01 00:00:00</th>\n",
       "      <td>6.000</td>\n",
       "      <td>22.983374</td>\n",
       "      <td>0</td>\n",
       "      <td>25.000004</td>\n",
       "      <td>0.733767</td>\n",
       "    </tr>\n",
       "  </tbody>\n",
       "</table>\n",
       "<p>105121 rows × 5 columns</p>\n",
       "</div>"
      ],
      "text/plain": [
       "                     outdoor_temp  zone_temp  occupancy  supply_temp  air_flow\n",
       "time                                                                          \n",
       "2017-01-01 00:00:00         2.200  22.832449          0    25.000003  0.733767\n",
       "2017-01-01 00:05:00         1.825  22.824465          0    25.000003  0.733767\n",
       "2017-01-01 00:10:00         1.450  22.812760          0    25.000003  0.733767\n",
       "2017-01-01 00:15:00         1.075  22.799019          0    25.000003  0.733767\n",
       "2017-01-01 00:20:00         0.700  22.784421          0    25.000003  0.733767\n",
       "...                           ...        ...        ...          ...       ...\n",
       "2017-12-31 23:40:00         6.000  22.990503          0    25.000004  0.733767\n",
       "2017-12-31 23:45:00         6.000  22.988552          0    25.000004  0.733767\n",
       "2017-12-31 23:50:00         6.000  22.986715          0    25.000004  0.733767\n",
       "2017-12-31 23:55:00         6.000  22.984990          0    25.000004  0.733767\n",
       "2018-01-01 00:00:00         6.000  22.983374          0    25.000004  0.733767\n",
       "\n",
       "[105121 rows x 5 columns]"
      ]
     },
     "execution_count": 269,
     "metadata": {},
     "output_type": "execute_result"
    }
   ],
   "source": [
    "import pandas as pd\n",
    "import numpy as np\n",
    "data = pd.read_csv('data/result.csv', parse_dates=['time'], index_col=['time'])\n",
    "data"
   ]
  },
  {
   "cell_type": "code",
   "execution_count": 270,
   "metadata": {},
   "outputs": [],
   "source": [
    "train_data = data.loc['2017-04-09 07:00:00':'2017-04-09 09:00:00']\n",
    "test_data = data.loc['2017-04-09 09:05:00':'2017-04-09 09:55:00']"
   ]
  },
  {
   "cell_type": "code",
   "execution_count": 271,
   "metadata": {},
   "outputs": [
    {
     "data": {
      "image/png": "[encoded data removed]",
      "text/plain": [
       "<Figure size 1008x576 with 1 Axes>"
      ]
     },
     "metadata": {
      "needs_background": "light"
     },
     "output_type": "display_data"
    }
   ],
   "source": [
    "import matplotlib.pyplot as plt\n",
    "import matplotlib.dates as mdates\n",
    "from datetime import datetime\n",
    "\n",
    "fig, ax = plt.subplots()\n",
    "hours = mdates.HourLocator(interval = 1)\n",
    "h_fmt = mdates.DateFormatter('%H:%M:%S')\n",
    "\n",
    "ax.plot(train_data.index, train_data['zone_temp'].values, color = 'red', linewidth = 0.8, label = 'zone temp')\n",
    "ax.plot(train_data.index, train_data['supply_temp'].values, color = 'green', linewidth = 0.8, label = 'supply temp')\n",
    "ax.plot(train_data.index, train_data['occupancy'].values, color = 'black', linewidth = 0.8, label = 'occupancy')\n",
    "ax.plot(train_data.index, train_data['outdoor_temp'].values, color = 'violet', linewidth = 0.8, label = 'outdoor temp')\n",
    "#Then tick and format with matplotlib:\n",
    "ax.xaxis.set_major_locator(hours)\n",
    "ax.xaxis.set_major_formatter(h_fmt)\n",
    "\n",
    "fig.autofmt_xdate()\n",
    "fig.set_size_inches(14, 8)\n",
    "plt.legend()\n",
    "plt.show()"
   ]
  },
  {
   "cell_type": "code",
   "execution_count": 272,
   "metadata": {},
   "outputs": [
    {
     "data": {
      "text/plain": [
       "<matplotlib.axes._subplots.AxesSubplot at 0x7fb097a9ef10>"
      ]
     },
     "execution_count": 272,
     "metadata": {},
     "output_type": "execute_result"
    },
    {
     "data": {
      "image/png": "[encoded data removed]",
      "text/plain": [
       "<Figure size 864x864 with 2 Axes>"
      ]
     },
     "metadata": {
      "needs_background": "light"
     },
     "output_type": "display_data"
    }
   ],
   "source": [
    "import seaborn as sns\n",
    "plt.figure(figsize=(12,12))\n",
    "sns.heatmap(data.corr())"
   ]
  },
  {
   "cell_type": "code",
   "execution_count": 273,
   "metadata": {},
   "outputs": [
    {
     "data": {
      "text/plain": [
       "3.4874566863238514"
      ]
     },
     "execution_count": 273,
     "metadata": {},
     "output_type": "execute_result"
    }
   ],
   "source": [
    "from sklearn import linear_model\n",
    "import statsmodels.api as sm\n",
    "from sklearn.metrics import r2_score\n",
    "from sklearn.preprocessing import StandardScaler\n",
    "\n",
    "x = train_data[['supply_temp', 'air_flow','outdoor_temp','occupancy']]\n",
    "y = train_data[['zone_temp']]\n",
    "\n",
    "scale = StandardScaler()\n",
    "\n",
    "#x = scale.fit_transform(x)\n",
    "#y = scale.fit_transform(y)\n",
    "regr = linear_model.LinearRegression()\n",
    "regr.fit(x, y)\n",
    "\n",
    "x_test = test_data[['supply_temp', 'air_flow','outdoor_temp','occupancy']]\n",
    "y_test = test_data[['zone_temp']]\n",
    "#x_test = scale.fit_transform(x_test)\n",
    "#y_test = scale.fit_transform(y_test)\n",
    "y_pred = regr.predict(x_test)\n",
    "mse = mean_squared_error(y_test, y_pred)\n",
    "np.sqrt(mse)"
   ]
  },
  {
   "cell_type": "code",
   "execution_count": 274,
   "metadata": {},
   "outputs": [
    {
     "name": "stdout",
     "output_type": "stream",
     "text": [
      "                                 OLS Regression Results                                \n",
      "=======================================================================================\n",
      "Dep. Variable:              zone_temp   R-squared (uncentered):                   1.000\n",
      "Model:                            OLS   Adj. R-squared (uncentered):              1.000\n",
      "Method:                 Least Squares   F-statistic:                          1.940e+04\n",
      "Date:                Tue, 08 Dec 2020   Prob (F-statistic):                    3.98e-37\n",
      "Time:                        23:30:23   Log-Likelihood:                         -10.387\n",
      "No. Observations:                  25   AIC:                                      28.77\n",
      "Df Residuals:                      21   BIC:                                      33.65\n",
      "Df Model:                           4                                                  \n",
      "Covariance Type:            nonrobust                                                  \n",
      "================================================================================\n",
      "                   coef    std err          t      P>|t|      [0.025      0.975]\n",
      "--------------------------------------------------------------------------------\n",
      "supply_temp      0.4679      0.073      6.384      0.000       0.315       0.620\n",
      "air_flow         8.8821      2.033      4.368      0.000       4.654      13.111\n",
      "outdoor_temp     0.6849      0.079      8.632      0.000       0.520       0.850\n",
      "occupancy        0.1242      0.040      3.138      0.005       0.042       0.206\n",
      "==============================================================================\n",
      "Omnibus:                       11.650   Durbin-Watson:                   0.553\n",
      "Prob(Omnibus):                  0.003   Jarque-Bera (JB):               11.698\n",
      "Skew:                          -1.075   Prob(JB):                      0.00288\n",
      "Kurtosis:                       5.571   Cond. No.                         652.\n",
      "==============================================================================\n",
      "\n",
      "Warnings:\n",
      "[1] Standard Errors assume that the covariance matrix of the errors is correctly specified.\n"
     ]
    }
   ],
   "source": [
    "#x = sm.add_constant(train_data['outdoor_temp']) # adding a constant\n",
    " \n",
    "model = sm.OLS(y, x).fit()\n",
    "y_pred = model.predict(x_test) \n",
    "\n",
    "print_model = model.summary()\n",
    "print(print_model)"
   ]
  },
  {
   "cell_type": "code",
   "execution_count": 275,
   "metadata": {},
   "outputs": [
    {
     "data": {
      "text/plain": [
       "7.848822147666325"
      ]
     },
     "execution_count": 275,
     "metadata": {},
     "output_type": "execute_result"
    }
   ],
   "source": [
    "from statsmodels.tools.eval_measures import rmse\n",
    "from sklearn.metrics import r2_score, mean_squared_error\n",
    "\n",
    "error = rmse(y_test, y_pred)\n",
    "mse = mean_squared_error(y_test, y_pred)\n",
    "np.sqrt(mse)"
   ]
  },
  {
   "cell_type": "code",
   "execution_count": 278,
   "metadata": {},
   "outputs": [
    {
     "name": "stdout",
     "output_type": "stream",
     "text": [
      "                     zone_temp\n",
      "time                          \n",
      "2017-04-09 09:05:00  22.944538\n",
      "2017-04-09 09:10:00  22.097150\n",
      "2017-04-09 09:15:00  22.054237\n",
      "2017-04-09 09:20:00  21.983050\n",
      "2017-04-09 09:25:00  21.863581\n",
      "2017-04-09 09:30:00  21.783116\n",
      "2017-04-09 09:35:00  21.759282\n",
      "2017-04-09 09:40:00  21.768163\n",
      "2017-04-09 09:45:00  21.789539\n",
      "2017-04-09 09:50:00  21.816508\n",
      "2017-04-09 09:55:00  21.848786\n"
     ]
    },
    {
     "data": {
      "text/plain": [
       "time\n",
       "2017-04-09 09:05:00    28.966522\n",
       "2017-04-09 09:10:00    29.117566\n",
       "2017-04-09 09:15:00    29.271660\n",
       "2017-04-09 09:20:00    29.428655\n",
       "2017-04-09 09:25:00    29.589602\n",
       "2017-04-09 09:30:00    29.753938\n",
       "2017-04-09 09:35:00    29.929255\n",
       "2017-04-09 09:40:00    30.108845\n",
       "2017-04-09 09:45:00    30.291700\n",
       "2017-04-09 09:50:00    30.477220\n",
       "2017-04-09 09:55:00    30.665238\n",
       "dtype: float64"
      ]
     },
     "execution_count": 278,
     "metadata": {},
     "output_type": "execute_result"
    }
   ],
   "source": [
    "print(y_test)\n",
    "y_pred"
   ]
  },
  {
   "cell_type": "code",
   "execution_count": 279,
   "metadata": {},
   "outputs": [
    {
     "name": "stdout",
     "output_type": "stream",
     "text": [
      "1.6284096530780656\n",
      "y_test:  [22.94453836 22.09715022 22.05423657 21.98304977 21.86358077 21.78311596\n",
      " 21.75928173 21.76816334 21.78953917 21.81650768 21.84878617]\n",
      "y_pred:  [23.49290419 23.50966431 23.5255515  23.5405695  23.55461462 23.56773145\n",
      " 23.57924743 23.58975531 23.59933567 23.60803217 23.61585089]\n"
     ]
    },
    {
     "name": "stderr",
     "output_type": "stream",
     "text": [
      "/Users/devanshukumar/opt/anaconda3/lib/python3.8/site-packages/sklearn/utils/validation.py:73: DataConversionWarning: A column-vector y was passed when a 1d array was expected. Please change the shape of y to (n_samples, ), for example using ravel().\n",
      "  return f(**kwargs)\n"
     ]
    }
   ],
   "source": [
    "from sklearn.svm import SVR\n",
    "from sklearn.metrics import r2_score, mean_squared_error\n",
    "import numpy as np\n",
    "regressor = SVR()\n",
    "model = regressor.fit(x, y)\n",
    "y_pred = model.predict(x_test)\n",
    "mse = mean_squared_error(y_test, y_pred)\n",
    "rmse = np.sqrt(mse)\n",
    "print(rmse)\n",
    "print('y_test: ',y_test.zone_temp.values)\n",
    "print('y_pred: ',y_pred)"
   ]
  },
  {
   "cell_type": "code",
   "execution_count": 265,
   "metadata": {},
   "outputs": [],
   "source": [
    "x = data[['supply_temp', 'air_flow','outdoor_temp','occupancy']]\n",
    "y = data[['zone_temp']]"
   ]
  },
  {
   "cell_type": "code",
   "execution_count": 266,
   "metadata": {},
   "outputs": [
    {
     "name": "stdout",
     "output_type": "stream",
     "text": [
      "[21.90951669 21.91082764 21.91205926 21.91329758 21.91453932 21.91578366\n",
      " 21.91622415 21.91703232 21.91787555 21.91870197 21.91952914 21.92035946]\n",
      "[43.81903338 43.82165529 43.82411853 43.82659517 43.82907864 43.83156732\n",
      " 43.8324483  43.83406465 43.83575109 43.83740395 43.83905829 43.84071893]\n"
     ]
    }
   ],
   "source": [
    "print(y_pred)\n",
    "test = 2*y_pred\n",
    "print(test)"
   ]
  },
  {
   "cell_type": "code",
   "execution_count": 214,
   "metadata": {},
   "outputs": [
    {
     "name": "stdout",
     "output_type": "stream",
     "text": [
      "[0.16666667 0.         0.         0.08333333 0.16666667 0.\n",
      " 0.16666667 0.08333333 0.16666667 0.16666667]\n",
      "[0.08333333 0.08333333 0.08333333 0.08333333 0.08333333 0.08333333\n",
      " 0.08333333 0.16666667 0.08333333 0.16666667]\n",
      "0.9999999999999999\n"
     ]
    }
   ],
   "source": [
    "from sklearn import preprocessing\n",
    "y_pred1 = np.round(y_pred, 2)\n",
    "test1 = np.round(test, 2)\n",
    "p = np.histogram(y_pred1)[0] / len(y_pred1)    \n",
    "q = np.histogram(test1)[0] / len(test1)\n",
    "#print(np.histogram(y_pred1))\n",
    "print(p)\n",
    "print(q)\n",
    "print(np.sum(p))"
   ]
  },
  {
   "cell_type": "code",
   "execution_count": 34,
   "metadata": {},
   "outputs": [
    {
     "data": {
      "text/plain": [
       "0.06884114906231906"
      ]
     },
     "execution_count": 34,
     "metadata": {},
     "output_type": "execute_result"
    }
   ],
   "source": [
    "from scipy.spatial import distance\n",
    "distance.jensenshannon(p, q) ** 2"
   ]
  },
  {
   "cell_type": "code",
   "execution_count": 130,
   "metadata": {},
   "outputs": [
    {
     "name": "stdout",
     "output_type": "stream",
     "text": [
      "[23.1  23.11 23.26]\n",
      "[23.9 23.9 23.9]\n",
      "23.9\n",
      "23.1\n",
      "[23.1 23.2 23.3 23.4 23.5 23.6 23.7 23.8 23.9]\n"
     ]
    }
   ],
   "source": [
    "vec1 = [23.10465662,23.11223222, 23.25762798]\n",
    "vec2 = [23.90325824,23.90325824,23.90325824]\n",
    "vec1 = np.round(vec1, 2)\n",
    "vec2 = np.round(vec2, 2)\n",
    "min_vec1 = min(vec1)\n",
    "min_vec2 = min(vec2)\n",
    "max_vec1 = max(vec1)\n",
    "max_vec2 = max(vec2)\n",
    "mini = min_vec1\n",
    "maxi = max_vec1\n",
    "if min_vec1 > min_vec2:\n",
    "    mini = min_vec2\n",
    "if max_vec1 < max_vec2:\n",
    "    maxi = max_vec2\n",
    "b = []\n",
    "i = mini\n",
    "while i <= maxi+0.1:\n",
    "    b.append(i)\n",
    "    i = i + 0.1\n",
    "vec3 = np.random.uniform(low=0, high=60, size=(10,))\n",
    "vec4 = np.random.uniform(low=0, high=60, size=(10,))\n",
    "print(vec1)\n",
    "print(vec2)\n",
    "print(maxi)\n",
    "print(mini)\n",
    "b = np.round(b, 2)\n",
    "print(b)"
   ]
  },
  {
   "cell_type": "code",
   "execution_count": 132,
   "metadata": {},
   "outputs": [
    {
     "name": "stdout",
     "output_type": "stream",
     "text": [
      "[2 1 0 0 0 0 0 0]\n",
      "[0 0 0 0 0 0 0 3]\n",
      "[0.66666667 0.33333333 0.         0.         0.         0.\n",
      " 0.         0.        ]\n",
      "[0. 0. 0. 0. 0. 0. 0. 1.]\n",
      "1.0\n"
     ]
    }
   ],
   "source": [
    "p = np.histogram(vec1, bins = b)[0] / len(vec1)\n",
    "print(np.histogram(vec1, bins = b)[0])\n",
    "q = np.histogram(vec2, bins = b)[0] / len(vec2)\n",
    "print(np.histogram(vec2, bins = b)[0])\n",
    "#print(np.histogram(y_pred1))\n",
    "print(p)\n",
    "print(q)\n",
    "print(np.sum(p))"
   ]
  },
  {
   "cell_type": "code",
   "execution_count": 133,
   "metadata": {},
   "outputs": [
    {
     "data": {
      "text/plain": [
       "0.6931471805599452"
      ]
     },
     "execution_count": 133,
     "metadata": {},
     "output_type": "execute_result"
    }
   ],
   "source": [
    "distance.jensenshannon(p, q) ** 2"
   ]
  },
  {
   "cell_type": "code",
   "execution_count": 72,
   "metadata": {},
   "outputs": [
    {
     "name": "stdout",
     "output_type": "stream",
     "text": [
      "[0.05 0.09 0.1  0.04 0.09 0.03 0.04 0.04 0.02 0.  ]\n",
      "[0.   0.07 0.08 0.   0.03 0.1  0.05 0.01 0.03 0.05]\n",
      "[0.04 0.08 0.05 0.06 0.1  0.04 0.06 0.05 0.05 0.03]\n",
      "[0.02 0.08 0.05 0.06 0.09 0.02 0.01 0.08 0.03 0.02]\n",
      "[0.08 0.03 0.08 0.01 0.07 0.05 0.02 0.   0.08 0.07]\n",
      "[0.06 0.05 0.02 0.1  0.08 0.05 0.09 0.04 0.09 0.06]\n",
      "[0.03 0.05 0.05 0.06 0.1  0.08 0.01 0.08 0.03 0.  ]\n",
      "[0.1  0.02 0.06 0.09 0.09 0.08 0.03 0.03 0.01 0.02]\n",
      "[0.03 0.05 0.09 0.03 0.08 0.08 0.03 0.   0.07 0.02]\n",
      "[0.03 0.02 0.03 0.05 0.01 0.03 0.03 0.   0.03 0.05]\n",
      "[0.02 0.05 0.07 0.02 0.03 0.06 0.02 0.04 0.09 0.05]\n",
      "[0.05 0.09 0.   0.04 0.06 0.04 0.08 0.08 0.06 0.02]\n",
      "[0.09 0.05 0.09 0.06 0.03 0.05 0.02 0.04 0.03 0.03]\n",
      "[0.1  0.03 0.   0.01 0.01 0.09 0.09 0.07 0.07 0.1 ]\n",
      "[0.09 0.02 0.01 0.03 0.04 0.07 0.03 0.08 0.06 0.01]\n",
      "[0.04 0.06 0.04 0.04 0.06 0.01 0.1  0.05 0.   0.01]\n",
      "[0.07 0.04 0.01 0.   0.1  0.02 0.1  0.07 0.03 0.09]\n",
      "[0.03 0.06 0.07 0.08 0.01 0.01 0.05 0.08 0.08 0.03]\n",
      "[0.04 0.07 0.07 0.05 0.09 0.03 0.04 0.07 0.04 0.05]\n",
      "[0.07 0.   0.02 0.   0.02 0.04 0.05 0.02 0.04 0.07]\n",
      "0.5188371737914681\n",
      "0.5407129639190011\n"
     ]
    }
   ],
   "source": [
    "s = []\n",
    "for i in range(10):\n",
    "    vec3 = np.random.uniform(low=0, high=0.1, size=(10,))\n",
    "    vec4 = np.random.uniform(low=0, high=0.1, size=(10,))\n",
    "    vec3 = np.round(vec3, 2)\n",
    "    vec4 = np.round(vec4, 2)\n",
    "    print(vec3)\n",
    "    print(vec4)\n",
    "    p = np.histogram(vec3)[0] / len(vec3)    \n",
    "    q = np.histogram(vec4)[0] / len(vec4)\n",
    "    s.append(distance.jensenshannon(p, q))\n",
    "s = np.array(s)\n",
    "print(np.median(s))\n",
    "print(np.mean(s))"
   ]
  },
  {
   "cell_type": "code",
   "execution_count": null,
   "metadata": {},
   "outputs": [],
   "source": []
  }
 ],
 "metadata": {
  "kernelspec": {
   "display_name": "Python 3",
   "language": "python",
   "name": "python3"
  },
  "language_info": {
   "codemirror_mode": {
    "name": "ipython",
    "version": 3
   },
   "file_extension": ".py",
   "mimetype": "text/x-python",
   "name": "python",
   "nbconvert_exporter": "python",
   "pygments_lexer": "ipython3",
   "version": "3.8.3"
  }
 },
 "nbformat": 4,
 "nbformat_minor": 4
}
