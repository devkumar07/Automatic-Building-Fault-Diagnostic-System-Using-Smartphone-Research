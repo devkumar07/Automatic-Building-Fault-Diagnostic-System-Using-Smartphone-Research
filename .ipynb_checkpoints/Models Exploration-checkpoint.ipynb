{
 "cells": [
  {
   "cell_type": "code",
   "execution_count": 33,
   "metadata": {},
   "outputs": [
    {
     "data": {
      "text/html": [
       "<div>\n",
       "<style scoped>\n",
       "    .dataframe tbody tr th:only-of-type {\n",
       "        vertical-align: middle;\n",
       "    }\n",
       "\n",
       "    .dataframe tbody tr th {\n",
       "        vertical-align: top;\n",
       "    }\n",
       "\n",
       "    .dataframe thead th {\n",
       "        text-align: right;\n",
       "    }\n",
       "</style>\n",
       "<table border=\"1\" class=\"dataframe\">\n",
       "  <thead>\n",
       "    <tr style=\"text-align: right;\">\n",
       "      <th></th>\n",
       "      <th>outdoor_temp</th>\n",
       "      <th>zone_temp</th>\n",
       "      <th>occupancy</th>\n",
       "      <th>supply_temp</th>\n",
       "      <th>air_flow</th>\n",
       "    </tr>\n",
       "    <tr>\n",
       "      <th>time</th>\n",
       "      <th></th>\n",
       "      <th></th>\n",
       "      <th></th>\n",
       "      <th></th>\n",
       "      <th></th>\n",
       "    </tr>\n",
       "  </thead>\n",
       "  <tbody>\n",
       "    <tr>\n",
       "      <th>2017-01-01 00:00:00</th>\n",
       "      <td>2.200</td>\n",
       "      <td>22.832449</td>\n",
       "      <td>0</td>\n",
       "      <td>25.000003</td>\n",
       "      <td>0.733767</td>\n",
       "    </tr>\n",
       "    <tr>\n",
       "      <th>2017-01-01 00:05:00</th>\n",
       "      <td>1.825</td>\n",
       "      <td>22.824465</td>\n",
       "      <td>0</td>\n",
       "      <td>25.000003</td>\n",
       "      <td>0.733767</td>\n",
       "    </tr>\n",
       "    <tr>\n",
       "      <th>2017-01-01 00:10:00</th>\n",
       "      <td>1.450</td>\n",
       "      <td>22.812760</td>\n",
       "      <td>0</td>\n",
       "      <td>25.000003</td>\n",
       "      <td>0.733767</td>\n",
       "    </tr>\n",
       "    <tr>\n",
       "      <th>2017-01-01 00:15:00</th>\n",
       "      <td>1.075</td>\n",
       "      <td>22.799019</td>\n",
       "      <td>0</td>\n",
       "      <td>25.000003</td>\n",
       "      <td>0.733767</td>\n",
       "    </tr>\n",
       "    <tr>\n",
       "      <th>2017-01-01 00:20:00</th>\n",
       "      <td>0.700</td>\n",
       "      <td>22.784421</td>\n",
       "      <td>0</td>\n",
       "      <td>25.000003</td>\n",
       "      <td>0.733767</td>\n",
       "    </tr>\n",
       "    <tr>\n",
       "      <th>...</th>\n",
       "      <td>...</td>\n",
       "      <td>...</td>\n",
       "      <td>...</td>\n",
       "      <td>...</td>\n",
       "      <td>...</td>\n",
       "    </tr>\n",
       "    <tr>\n",
       "      <th>2017-12-31 23:40:00</th>\n",
       "      <td>6.000</td>\n",
       "      <td>22.990503</td>\n",
       "      <td>0</td>\n",
       "      <td>25.000004</td>\n",
       "      <td>0.733767</td>\n",
       "    </tr>\n",
       "    <tr>\n",
       "      <th>2017-12-31 23:45:00</th>\n",
       "      <td>6.000</td>\n",
       "      <td>22.988552</td>\n",
       "      <td>0</td>\n",
       "      <td>25.000004</td>\n",
       "      <td>0.733767</td>\n",
       "    </tr>\n",
       "    <tr>\n",
       "      <th>2017-12-31 23:50:00</th>\n",
       "      <td>6.000</td>\n",
       "      <td>22.986715</td>\n",
       "      <td>0</td>\n",
       "      <td>25.000004</td>\n",
       "      <td>0.733767</td>\n",
       "    </tr>\n",
       "    <tr>\n",
       "      <th>2017-12-31 23:55:00</th>\n",
       "      <td>6.000</td>\n",
       "      <td>22.984990</td>\n",
       "      <td>0</td>\n",
       "      <td>25.000004</td>\n",
       "      <td>0.733767</td>\n",
       "    </tr>\n",
       "    <tr>\n",
       "      <th>2018-01-01 00:00:00</th>\n",
       "      <td>6.000</td>\n",
       "      <td>22.983374</td>\n",
       "      <td>0</td>\n",
       "      <td>25.000004</td>\n",
       "      <td>0.733767</td>\n",
       "    </tr>\n",
       "  </tbody>\n",
       "</table>\n",
       "<p>105121 rows × 5 columns</p>\n",
       "</div>"
      ],
      "text/plain": [
       "                     outdoor_temp  zone_temp  occupancy  supply_temp  air_flow\n",
       "time                                                                          \n",
       "2017-01-01 00:00:00         2.200  22.832449          0    25.000003  0.733767\n",
       "2017-01-01 00:05:00         1.825  22.824465          0    25.000003  0.733767\n",
       "2017-01-01 00:10:00         1.450  22.812760          0    25.000003  0.733767\n",
       "2017-01-01 00:15:00         1.075  22.799019          0    25.000003  0.733767\n",
       "2017-01-01 00:20:00         0.700  22.784421          0    25.000003  0.733767\n",
       "...                           ...        ...        ...          ...       ...\n",
       "2017-12-31 23:40:00         6.000  22.990503          0    25.000004  0.733767\n",
       "2017-12-31 23:45:00         6.000  22.988552          0    25.000004  0.733767\n",
       "2017-12-31 23:50:00         6.000  22.986715          0    25.000004  0.733767\n",
       "2017-12-31 23:55:00         6.000  22.984990          0    25.000004  0.733767\n",
       "2018-01-01 00:00:00         6.000  22.983374          0    25.000004  0.733767\n",
       "\n",
       "[105121 rows x 5 columns]"
      ]
     },
     "execution_count": 33,
     "metadata": {},
     "output_type": "execute_result"
    }
   ],
   "source": [
    "import pandas as pd\n",
    "import numpy as np\n",
    "\n",
    "data = pd.read_csv('data/result.csv', parse_dates=['time'], index_col=['time'])\n",
    "data"
   ]
  },
  {
   "cell_type": "code",
   "execution_count": 34,
   "metadata": {},
   "outputs": [],
   "source": [
    "train_data = data.loc['2017-07-04 07:00:00':'2017-07-04 08:30:00']\n",
    "test_data = data.loc['2017-07-04 08:35:00':'2017-07-04 09:30:00']"
   ]
  },
  {
   "cell_type": "markdown",
   "metadata": {},
   "source": [
    "# Data Visualization"
   ]
  },
  {
   "cell_type": "code",
   "execution_count": 35,
   "metadata": {},
   "outputs": [
    {
     "data": {
      "image/png": "[encoded data removed]",
      "text/plain": [
       "<Figure size 1008x576 with 1 Axes>"
      ]
     },
     "metadata": {
      "needs_background": "light"
     },
     "output_type": "display_data"
    }
   ],
   "source": [
    "import matplotlib.pyplot as plt\n",
    "import matplotlib.dates as mdates\n",
    "from datetime import datetime\n",
    "\n",
    "fig, ax = plt.subplots()\n",
    "hours = mdates.HourLocator(interval = 1)\n",
    "h_fmt = mdates.DateFormatter('%H:%M:%S')\n",
    "\n",
    "ax.plot(train_data.index, train_data['zone_temp'].values, color = 'red', linewidth = 0.8, label = 'zone temp')\n",
    "ax.plot(train_data.index, train_data['supply_temp'].values, color = 'green', linewidth = 0.8, label = 'supply temp')\n",
    "ax.plot(train_data.index, train_data['occupancy'].values, color = 'black', linewidth = 0.8, label = 'occupancy')\n",
    "ax.plot(train_data.index, train_data['outdoor_temp'].values, color = 'violet', linewidth = 0.8, label = 'outdoor temp')\n",
    "#Then tick and format with matplotlib:\n",
    "ax.xaxis.set_major_locator(hours)\n",
    "ax.xaxis.set_major_formatter(h_fmt)\n",
    "\n",
    "fig.autofmt_xdate()\n",
    "fig.set_size_inches(14, 8)\n",
    "plt.legend()\n",
    "plt.show()"
   ]
  },
  {
   "cell_type": "code",
   "execution_count": 36,
   "metadata": {},
   "outputs": [
    {
     "data": {
      "text/plain": [
       "<AxesSubplot:>"
      ]
     },
     "execution_count": 36,
     "metadata": {},
     "output_type": "execute_result"
    },
    {
     "data": {
      "image/png": "[encoded data removed]",
      "text/plain": [
       "<Figure size 864x864 with 2 Axes>"
      ]
     },
     "metadata": {
      "needs_background": "light"
     },
     "output_type": "display_data"
    }
   ],
   "source": [
    "import seaborn as sns\n",
    "plt.figure(figsize=(12,12))\n",
    "sns.heatmap(train.corr())"
   ]
  },
  {
   "cell_type": "markdown",
   "metadata": {},
   "source": [
    "# Data Preprocessing"
   ]
  },
  {
   "cell_type": "code",
   "execution_count": 37,
   "metadata": {},
   "outputs": [],
   "source": [
    "from sklearn.preprocessing import MinMaxScaler\n",
    "\n",
    "x_train = train_data[['supply_temp', 'air_flow','outdoor_temp','occupancy']]\n",
    "y_train = train_data[['zone_temp']]\n",
    "\n",
    "x_test = test_data[['supply_temp', 'air_flow','outdoor_temp','occupancy']]\n",
    "y_test = test_data[['zone_temp']]\n",
    "\n",
    "\n",
    "scaler = MinMaxScaler().fit(x_train)\n",
    "\n",
    "x_train_norm = scaler.transform(x_train)\n",
    "x_test_norm = scaler.transform(x_test)"
   ]
  },
  {
   "cell_type": "markdown",
   "metadata": {},
   "source": [
    "# Linear Regression"
   ]
  },
  {
   "cell_type": "code",
   "execution_count": 38,
   "metadata": {},
   "outputs": [
    {
     "name": "stderr",
     "output_type": "stream",
     "text": [
      "/Users/devanshukumar/opt/anaconda3/lib/python3.8/site-packages/scipy/stats/stats.py:1603: UserWarning: kurtosistest only valid for n>=20 ... continuing anyway, n=19\n",
      "  warnings.warn(\"kurtosistest only valid for n>=20 ... continuing \"\n"
     ]
    },
    {
     "data": {
      "text/html": [
       "<table class=\"simpletable\">\n",
       "<caption>OLS Regression Results</caption>\n",
       "<tr>\n",
       "  <th>Dep. Variable:</th>        <td>zone_temp</td>    <th>  R-squared (uncentered):</th>      <td>   0.997</td>\n",
       "</tr>\n",
       "<tr>\n",
       "  <th>Model:</th>                   <td>OLS</td>       <th>  Adj. R-squared (uncentered):</th> <td>   0.997</td>\n",
       "</tr>\n",
       "<tr>\n",
       "  <th>Method:</th>             <td>Least Squares</td>  <th>  F-statistic:       </th>          <td>   1936.</td>\n",
       "</tr>\n",
       "<tr>\n",
       "  <th>Date:</th>             <td>Mon, 08 Mar 2021</td> <th>  Prob (F-statistic):</th>          <td>1.08e-20</td>\n",
       "</tr>\n",
       "<tr>\n",
       "  <th>Time:</th>                 <td>19:19:53</td>     <th>  Log-Likelihood:    </th>          <td> -29.052</td>\n",
       "</tr>\n",
       "<tr>\n",
       "  <th>No. Observations:</th>      <td>    19</td>      <th>  AIC:               </th>          <td>   64.10</td>\n",
       "</tr>\n",
       "<tr>\n",
       "  <th>Df Residuals:</th>          <td>    16</td>      <th>  BIC:               </th>          <td>   66.94</td>\n",
       "</tr>\n",
       "<tr>\n",
       "  <th>Df Model:</th>              <td>     3</td>      <th>                     </th>              <td> </td>   \n",
       "</tr>\n",
       "<tr>\n",
       "  <th>Covariance Type:</th>      <td>nonrobust</td>    <th>                     </th>              <td> </td>   \n",
       "</tr>\n",
       "</table>\n",
       "<table class=\"simpletable\">\n",
       "<tr>\n",
       "   <td></td>     <th>coef</th>     <th>std err</th>      <th>t</th>      <th>P>|t|</th>  <th>[0.025</th>    <th>0.975]</th>  \n",
       "</tr>\n",
       "<tr>\n",
       "  <th>x1</th> <td>   26.4822</td> <td>    0.751</td> <td>   35.267</td> <td> 0.000</td> <td>   24.890</td> <td>   28.074</td>\n",
       "</tr>\n",
       "<tr>\n",
       "  <th>x2</th> <td>   11.7812</td> <td>    0.780</td> <td>   15.102</td> <td> 0.000</td> <td>   10.127</td> <td>   13.435</td>\n",
       "</tr>\n",
       "<tr>\n",
       "  <th>x3</th> <td>   -4.9600</td> <td>    1.855</td> <td>   -2.674</td> <td> 0.017</td> <td>   -8.892</td> <td>   -1.028</td>\n",
       "</tr>\n",
       "<tr>\n",
       "  <th>x4</th> <td>   11.7812</td> <td>    0.780</td> <td>   15.102</td> <td> 0.000</td> <td>   10.127</td> <td>   13.435</td>\n",
       "</tr>\n",
       "</table>\n",
       "<table class=\"simpletable\">\n",
       "<tr>\n",
       "  <th>Omnibus:</th>       <td> 3.693</td> <th>  Durbin-Watson:     </th> <td>   0.865</td>\n",
       "</tr>\n",
       "<tr>\n",
       "  <th>Prob(Omnibus):</th> <td> 0.158</td> <th>  Jarque-Bera (JB):  </th> <td>   2.574</td>\n",
       "</tr>\n",
       "<tr>\n",
       "  <th>Skew:</th>          <td>-0.900</td> <th>  Prob(JB):          </th> <td>   0.276</td>\n",
       "</tr>\n",
       "<tr>\n",
       "  <th>Kurtosis:</th>      <td> 2.896</td> <th>  Cond. No.          </th> <td>1.64e+16</td>\n",
       "</tr>\n",
       "</table><br/><br/>Notes:<br/>[1] R² is computed without centering (uncentered) since the model does not contain a constant.<br/>[2] Standard Errors assume that the covariance matrix of the errors is correctly specified.<br/>[3] The smallest eigenvalue is 6.46e-32. This might indicate that there are<br/>strong multicollinearity problems or that the design matrix is singular."
      ],
      "text/plain": [
       "<class 'statsmodels.iolib.summary.Summary'>\n",
       "\"\"\"\n",
       "                                 OLS Regression Results                                \n",
       "=======================================================================================\n",
       "Dep. Variable:              zone_temp   R-squared (uncentered):                   0.997\n",
       "Model:                            OLS   Adj. R-squared (uncentered):              0.997\n",
       "Method:                 Least Squares   F-statistic:                              1936.\n",
       "Date:                Mon, 08 Mar 2021   Prob (F-statistic):                    1.08e-20\n",
       "Time:                        19:19:53   Log-Likelihood:                         -29.052\n",
       "No. Observations:                  19   AIC:                                      64.10\n",
       "Df Residuals:                      16   BIC:                                      66.94\n",
       "Df Model:                           3                                                  \n",
       "Covariance Type:            nonrobust                                                  \n",
       "==============================================================================\n",
       "                 coef    std err          t      P>|t|      [0.025      0.975]\n",
       "------------------------------------------------------------------------------\n",
       "x1            26.4822      0.751     35.267      0.000      24.890      28.074\n",
       "x2            11.7812      0.780     15.102      0.000      10.127      13.435\n",
       "x3            -4.9600      1.855     -2.674      0.017      -8.892      -1.028\n",
       "x4            11.7812      0.780     15.102      0.000      10.127      13.435\n",
       "==============================================================================\n",
       "Omnibus:                        3.693   Durbin-Watson:                   0.865\n",
       "Prob(Omnibus):                  0.158   Jarque-Bera (JB):                2.574\n",
       "Skew:                          -0.900   Prob(JB):                        0.276\n",
       "Kurtosis:                       2.896   Cond. No.                     1.64e+16\n",
       "==============================================================================\n",
       "\n",
       "Notes:\n",
       "[1] R² is computed without centering (uncentered) since the model does not contain a constant.\n",
       "[2] Standard Errors assume that the covariance matrix of the errors is correctly specified.\n",
       "[3] The smallest eigenvalue is 6.46e-32. This might indicate that there are\n",
       "strong multicollinearity problems or that the design matrix is singular.\n",
       "\"\"\""
      ]
     },
     "execution_count": 38,
     "metadata": {},
     "output_type": "execute_result"
    }
   ],
   "source": [
    "import statsmodels.api as sm\n",
    "\n",
    "model = sm.OLS(y_train, x_train_norm)\n",
    "results = model.fit()\n",
    "results.summary()"
   ]
  },
  {
   "cell_type": "code",
   "execution_count": 39,
   "metadata": {},
   "outputs": [
    {
     "name": "stdout",
     "output_type": "stream",
     "text": [
      "[21.66126879 22.30271216 23.02173245 23.82254884 24.67001974 25.55285069\n",
      " 17.52006112 18.44645845 19.25057961 20.16275935 21.01938632 21.18527212]\n",
      "                     zone_temp\n",
      "time                          \n",
      "2017-07-04 08:35:00  21.528289\n",
      "2017-07-04 08:40:00  21.610417\n",
      "2017-07-04 08:45:00  21.696889\n",
      "2017-07-04 08:50:00  21.786183\n",
      "2017-07-04 08:55:00  21.877137\n",
      "2017-07-04 09:00:00  21.969014\n",
      "2017-07-04 09:05:00  22.063374\n",
      "2017-07-04 09:10:00  22.159507\n",
      "2017-07-04 09:15:00  22.253181\n",
      "2017-07-04 09:20:00  22.345068\n",
      "2017-07-04 09:25:00  22.435268\n",
      "2017-07-04 09:30:00  22.514583\n"
     ]
    }
   ],
   "source": [
    "pred = results.predict(x_test_norm)\n",
    "print(pred)\n",
    "print(y_test)"
   ]
  },
  {
   "cell_type": "code",
   "execution_count": 40,
   "metadata": {},
   "outputs": [
    {
     "data": {
      "text/plain": [
       "2.5661471155846014"
      ]
     },
     "execution_count": 40,
     "metadata": {},
     "output_type": "execute_result"
    }
   ],
   "source": [
    "from sklearn.metrics import mean_squared_error\n",
    "\n",
    "mean_squared_error(y_test, pred, squared = False)"
   ]
  },
  {
   "cell_type": "code",
   "execution_count": 41,
   "metadata": {},
   "outputs": [],
   "source": [
    "bounds = y_test.copy()\n",
    "bounds['pred'] = pred\n"
   ]
  },
  {
   "cell_type": "code",
   "execution_count": 42,
   "metadata": {},
   "outputs": [
    {
     "name": "stdout",
     "output_type": "stream",
     "text": [
      "0.71973958098604\n",
      "y_test:  [21.52828856 21.61041664 21.6968895  21.7861834  21.87713665 21.96901362\n",
      " 22.06337397 22.15950701 22.25318125 22.34506785 22.43526826 22.51458333]\n",
      "y_pred:  [21.35443582 21.35758522 21.36070858 21.36380325 21.36686135 21.36987821\n",
      " 21.37069652 21.3727115  21.37468632 21.376652   21.37858504 21.38039892]\n"
     ]
    },
    {
     "name": "stderr",
     "output_type": "stream",
     "text": [
      "/Users/devanshukumar/opt/anaconda3/lib/python3.8/site-packages/sklearn/utils/validation.py:72: DataConversionWarning: A column-vector y was passed when a 1d array was expected. Please change the shape of y to (n_samples, ), for example using ravel().\n",
      "  return f(**kwargs)\n"
     ]
    }
   ],
   "source": [
    "from sklearn.svm import SVR\n",
    "from sklearn.metrics import r2_score, mean_squared_error\n",
    "import numpy as np\n",
    "regressor = SVR()\n",
    "model = regressor.fit(x_train, y_train)\n",
    "y_pred = model.predict(x_test)\n",
    "mse = mean_squared_error(y_test, y_pred)\n",
    "rmse = np.sqrt(mse)\n",
    "print(rmse)\n",
    "print('y_test: ',y_test.zone_temp.values)\n",
    "print('y_pred: ',y_pred)"
   ]
  },
  {
   "cell_type": "markdown",
   "metadata": {},
   "source": [
    "# Actual values vs Predicted values (Linear Regression)"
   ]
  },
  {
   "cell_type": "code",
   "execution_count": 43,
   "metadata": {},
   "outputs": [
    {
     "data": {
      "image/png": "[encoded data removed]",
      "text/plain": [
       "<Figure size 1008x576 with 1 Axes>"
      ]
     },
     "metadata": {
      "needs_background": "light"
     },
     "output_type": "display_data"
    }
   ],
   "source": [
    "fig, ax = plt.subplots()\n",
    "hours = mdates.MinuteLocator(interval = 10)\n",
    "h_fmt = mdates.DateFormatter('%H:%M:%S')\n",
    "\n",
    "ax.plot(bounds.index, bounds['zone_temp'].values, '--', color = 'green', label = 'Actual')\n",
    "ax.plot(bounds.index, bounds['pred'].values, '--', color = 'black', label = 'Predicted')\n",
    "\n",
    "#Then tick and format with matplotlib:\n",
    "ax.xaxis.set_major_locator(hours)\n",
    "ax.xaxis.set_major_formatter(h_fmt)\n",
    "\n",
    "fig.autofmt_xdate()\n",
    "fig.set_size_inches(14, 8)\n",
    "#plt.fill_between(bounds.index, bounds['upper'].values,bounds['lower'].values,color='cornflowerblue',alpha=.5)\n",
    "plt.legend()\n",
    "plt.show()"
   ]
  },
  {
   "cell_type": "code",
   "execution_count": 44,
   "metadata": {},
   "outputs": [],
   "source": [
    "from sklearn.gaussian_process import GaussianProcessRegressor\n",
    "from sklearn.gaussian_process.kernels import DotProduct, WhiteKernel\n",
    "\n",
    "kernel = DotProduct() + WhiteKernel()\n",
    "gpr = GaussianProcessRegressor(random_state=0).fit(x_train_norm, y_train)\n",
    "gpr.score(x_train_norm, y_train)\n",
    "\n",
    "pred = gpr.predict(x_test_norm, return_std=True)\n",
    "# print(pred)\n",
    "# print(y_test)"
   ]
  },
  {
   "cell_type": "code",
   "execution_count": 45,
   "metadata": {},
   "outputs": [
    {
     "data": {
      "text/plain": [
       "1.7854222559970943"
      ]
     },
     "execution_count": 45,
     "metadata": {},
     "output_type": "execute_result"
    }
   ],
   "source": [
    "mean_squared_error(y_test, pred[0],squared = False)"
   ]
  },
  {
   "cell_type": "code",
   "execution_count": 46,
   "metadata": {},
   "outputs": [
    {
     "data": {
      "text/html": [
       "<div>\n",
       "<style scoped>\n",
       "    .dataframe tbody tr th:only-of-type {\n",
       "        vertical-align: middle;\n",
       "    }\n",
       "\n",
       "    .dataframe tbody tr th {\n",
       "        vertical-align: top;\n",
       "    }\n",
       "\n",
       "    .dataframe thead th {\n",
       "        text-align: right;\n",
       "    }\n",
       "</style>\n",
       "<table border=\"1\" class=\"dataframe\">\n",
       "  <thead>\n",
       "    <tr style=\"text-align: right;\">\n",
       "      <th></th>\n",
       "      <th>zone_temp</th>\n",
       "      <th>pred</th>\n",
       "    </tr>\n",
       "    <tr>\n",
       "      <th>time</th>\n",
       "      <th></th>\n",
       "      <th></th>\n",
       "    </tr>\n",
       "  </thead>\n",
       "  <tbody>\n",
       "    <tr>\n",
       "      <th>2017-07-04 08:35:00</th>\n",
       "      <td>21.528289</td>\n",
       "      <td>21.467319</td>\n",
       "    </tr>\n",
       "    <tr>\n",
       "      <th>2017-07-04 08:40:00</th>\n",
       "      <td>21.610417</td>\n",
       "      <td>21.396669</td>\n",
       "    </tr>\n",
       "    <tr>\n",
       "      <th>2017-07-04 08:45:00</th>\n",
       "      <td>21.696889</td>\n",
       "      <td>21.210643</td>\n",
       "    </tr>\n",
       "    <tr>\n",
       "      <th>2017-07-04 08:50:00</th>\n",
       "      <td>21.786183</td>\n",
       "      <td>20.879123</td>\n",
       "    </tr>\n",
       "    <tr>\n",
       "      <th>2017-07-04 08:55:00</th>\n",
       "      <td>21.877137</td>\n",
       "      <td>20.389101</td>\n",
       "    </tr>\n",
       "    <tr>\n",
       "      <th>2017-07-04 09:00:00</th>\n",
       "      <td>21.969014</td>\n",
       "      <td>19.732558</td>\n",
       "    </tr>\n",
       "    <tr>\n",
       "      <th>2017-07-04 09:05:00</th>\n",
       "      <td>22.063374</td>\n",
       "      <td>21.863014</td>\n",
       "    </tr>\n",
       "    <tr>\n",
       "      <th>2017-07-04 09:10:00</th>\n",
       "      <td>22.159507</td>\n",
       "      <td>21.388948</td>\n",
       "    </tr>\n",
       "    <tr>\n",
       "      <th>2017-07-04 09:15:00</th>\n",
       "      <td>22.253181</td>\n",
       "      <td>20.844929</td>\n",
       "    </tr>\n",
       "    <tr>\n",
       "      <th>2017-07-04 09:20:00</th>\n",
       "      <td>22.345068</td>\n",
       "      <td>20.168924</td>\n",
       "    </tr>\n",
       "    <tr>\n",
       "      <th>2017-07-04 09:25:00</th>\n",
       "      <td>22.435268</td>\n",
       "      <td>19.417642</td>\n",
       "    </tr>\n",
       "    <tr>\n",
       "      <th>2017-07-04 09:30:00</th>\n",
       "      <td>22.514583</td>\n",
       "      <td>18.844507</td>\n",
       "    </tr>\n",
       "  </tbody>\n",
       "</table>\n",
       "</div>"
      ],
      "text/plain": [
       "                     zone_temp       pred\n",
       "time                                     \n",
       "2017-07-04 08:35:00  21.528289  21.467319\n",
       "2017-07-04 08:40:00  21.610417  21.396669\n",
       "2017-07-04 08:45:00  21.696889  21.210643\n",
       "2017-07-04 08:50:00  21.786183  20.879123\n",
       "2017-07-04 08:55:00  21.877137  20.389101\n",
       "2017-07-04 09:00:00  21.969014  19.732558\n",
       "2017-07-04 09:05:00  22.063374  21.863014\n",
       "2017-07-04 09:10:00  22.159507  21.388948\n",
       "2017-07-04 09:15:00  22.253181  20.844929\n",
       "2017-07-04 09:20:00  22.345068  20.168924\n",
       "2017-07-04 09:25:00  22.435268  19.417642\n",
       "2017-07-04 09:30:00  22.514583  18.844507"
      ]
     },
     "execution_count": 46,
     "metadata": {},
     "output_type": "execute_result"
    }
   ],
   "source": [
    "bounds = y_test.copy()\n",
    "bounds['pred'] = pred[0]\n",
    "bounds"
   ]
  },
  {
   "cell_type": "markdown",
   "metadata": {},
   "source": [
    "# Actual values vs Predicted values (Gaussain Process Regression)"
   ]
  },
  {
   "cell_type": "code",
   "execution_count": 47,
   "metadata": {},
   "outputs": [
    {
     "data": {
      "image/png": "[encoded data removed]",
      "text/plain": [
       "<Figure size 1008x576 with 1 Axes>"
      ]
     },
     "metadata": {
      "needs_background": "light"
     },
     "output_type": "display_data"
    }
   ],
   "source": [
    "fig, ax = plt.subplots()\n",
    "hours = mdates.MinuteLocator(interval = 10)\n",
    "h_fmt = mdates.DateFormatter('%H:%M:%S')\n",
    "\n",
    "ax.plot(bounds.index, bounds['zone_temp'].values, '--', color = 'green', label = 'Actual')\n",
    "ax.plot(bounds.index, bounds['pred'].values, '--', color = 'black', label = 'Predicted')\n",
    "\n",
    "#Then tick and format with matplotlib:\n",
    "ax.xaxis.set_major_locator(hours)\n",
    "ax.xaxis.set_major_formatter(h_fmt)\n",
    "\n",
    "fig.autofmt_xdate()\n",
    "fig.set_size_inches(14, 8)\n",
    "#plt.fill_between(bounds.index, bounds['upper'].values,bounds['lower'].values,color='cornflowerblue',alpha=.5)\n",
    "plt.legend()\n",
    "plt.show()"
   ]
  },
  {
   "cell_type": "markdown",
   "metadata": {},
   "source": [
    "# Sample set up for Model precision feedback"
   ]
  },
  {
   "cell_type": "code",
   "execution_count": 48,
   "metadata": {},
   "outputs": [
    {
     "name": "stdout",
     "output_type": "stream",
     "text": [
      "0.7840968248186593\n",
      "0.7838116367531135\n",
      "0.7835729411550352\n",
      "0.7835729411550352\n",
      "0.7835729411550352\n",
      "0.7835729411550352\n",
      "0.7835729411550352\n",
      "0.7835729411550352\n",
      "0.7835729411550352\n",
      "0.7835729411550352\n",
      "0.7835729411550352\n",
      "0.7835729411550352\n",
      "0.7835729411550352\n",
      "0.7835729411550352\n"
     ]
    },
    {
     "name": "stderr",
     "output_type": "stream",
     "text": [
      "/Users/devanshukumar/opt/anaconda3/lib/python3.8/site-packages/sklearn/utils/validation.py:72: DataConversionWarning: A column-vector y was passed when a 1d array was expected. Please change the shape of y to (n_samples, ), for example using ravel().\n",
      "  return f(**kwargs)\n",
      "/Users/devanshukumar/opt/anaconda3/lib/python3.8/site-packages/sklearn/utils/validation.py:72: DataConversionWarning: A column-vector y was passed when a 1d array was expected. Please change the shape of y to (n_samples, ), for example using ravel().\n",
      "  return f(**kwargs)\n",
      "/Users/devanshukumar/opt/anaconda3/lib/python3.8/site-packages/sklearn/utils/validation.py:72: DataConversionWarning: A column-vector y was passed when a 1d array was expected. Please change the shape of y to (n_samples, ), for example using ravel().\n",
      "  return f(**kwargs)\n",
      "/Users/devanshukumar/opt/anaconda3/lib/python3.8/site-packages/sklearn/utils/validation.py:72: DataConversionWarning: A column-vector y was passed when a 1d array was expected. Please change the shape of y to (n_samples, ), for example using ravel().\n",
      "  return f(**kwargs)\n",
      "/Users/devanshukumar/opt/anaconda3/lib/python3.8/site-packages/sklearn/utils/validation.py:72: DataConversionWarning: A column-vector y was passed when a 1d array was expected. Please change the shape of y to (n_samples, ), for example using ravel().\n",
      "  return f(**kwargs)\n",
      "/Users/devanshukumar/opt/anaconda3/lib/python3.8/site-packages/sklearn/utils/validation.py:72: DataConversionWarning: A column-vector y was passed when a 1d array was expected. Please change the shape of y to (n_samples, ), for example using ravel().\n",
      "  return f(**kwargs)\n",
      "/Users/devanshukumar/opt/anaconda3/lib/python3.8/site-packages/sklearn/utils/validation.py:72: DataConversionWarning: A column-vector y was passed when a 1d array was expected. Please change the shape of y to (n_samples, ), for example using ravel().\n",
      "  return f(**kwargs)\n",
      "/Users/devanshukumar/opt/anaconda3/lib/python3.8/site-packages/sklearn/utils/validation.py:72: DataConversionWarning: A column-vector y was passed when a 1d array was expected. Please change the shape of y to (n_samples, ), for example using ravel().\n",
      "  return f(**kwargs)\n",
      "/Users/devanshukumar/opt/anaconda3/lib/python3.8/site-packages/sklearn/utils/validation.py:72: DataConversionWarning: A column-vector y was passed when a 1d array was expected. Please change the shape of y to (n_samples, ), for example using ravel().\n",
      "  return f(**kwargs)\n",
      "/Users/devanshukumar/opt/anaconda3/lib/python3.8/site-packages/sklearn/utils/validation.py:72: DataConversionWarning: A column-vector y was passed when a 1d array was expected. Please change the shape of y to (n_samples, ), for example using ravel().\n",
      "  return f(**kwargs)\n",
      "/Users/devanshukumar/opt/anaconda3/lib/python3.8/site-packages/sklearn/utils/validation.py:72: DataConversionWarning: A column-vector y was passed when a 1d array was expected. Please change the shape of y to (n_samples, ), for example using ravel().\n",
      "  return f(**kwargs)\n",
      "/Users/devanshukumar/opt/anaconda3/lib/python3.8/site-packages/sklearn/utils/validation.py:72: DataConversionWarning: A column-vector y was passed when a 1d array was expected. Please change the shape of y to (n_samples, ), for example using ravel().\n",
      "  return f(**kwargs)\n",
      "/Users/devanshukumar/opt/anaconda3/lib/python3.8/site-packages/sklearn/utils/validation.py:72: DataConversionWarning: A column-vector y was passed when a 1d array was expected. Please change the shape of y to (n_samples, ), for example using ravel().\n",
      "  return f(**kwargs)\n",
      "/Users/devanshukumar/opt/anaconda3/lib/python3.8/site-packages/sklearn/utils/validation.py:72: DataConversionWarning: A column-vector y was passed when a 1d array was expected. Please change the shape of y to (n_samples, ), for example using ravel().\n",
      "  return f(**kwargs)\n"
     ]
    }
   ],
   "source": [
    "from sklearn.model_selection import train_test_split\n",
    "\n",
    "## loading dataset and initializations\n",
    "#train = pd.read_csv('data/train_test/train2.csv')\n",
    "#test = pd.read_csv('data/train_test/test2.csv')\n",
    "#non_date_data = pd.read_csv('data/result.csv')\n",
    "train = data.loc['2017-07-04 07:00:00':'2017-07-04 08:30:00']\n",
    "test = data.loc['2017-07-04 08:35:00':'2017-07-04 09:30:00']\n",
    "#train = data.loc['2017-06-01 07:45:00':'2017-06-01 08:45:00']\n",
    "#print(train)\n",
    "#train = train.set_index(pd.Index(range(0,13)),'time')\n",
    "#print(train)\n",
    "#test = data.loc['2017-06-01 08:50:00':'2017-06-01 09:20:00']\n",
    "#test = test.set_index(pd.Index(range(0,7)),'time')\n",
    "filtered_data = train[['supply_temp', 'air_flow','outdoor_temp','occupancy', 'zone_temp']]\n",
    "err = 100000\n",
    "end_index = 5\n",
    "kernel = DotProduct() + WhiteKernel()\n",
    "\n",
    "##Epochs configuration for the semi-active learning\n",
    "\n",
    "while err > 0.5 and end_index < len(train):\n",
    "    zone_data = filtered_data[0:end_index+1]\n",
    "    X = zone_data[['supply_temp', 'air_flow','outdoor_temp','occupancy']]\n",
    "    Y = zone_data[['zone_temp']]\n",
    "    #print(X)\n",
    "    \n",
    "    X1 = test[['supply_temp', 'air_flow','outdoor_temp','occupancy']]\n",
    "    Y1 = test[['zone_temp']]\n",
    "    \n",
    "    scaler = MinMaxScaler()\n",
    "    X_norm = scaler.fit_transform(X)\n",
    "    X1_norm = scaler.transform(X1)\n",
    "    \n",
    "    #x_train, x_test, y_train, y_test = train_test_split(X_norm, y, test_size=0.50)\n",
    "    regressor = SVR()\n",
    "    svr_model = regressor.fit(x_train, y_train)\n",
    "    #gpr = GaussianProcessRegressor().fit(X_norm, Y)\n",
    "    #ols = sm.OLS(Y, X_norm)\n",
    "    #model_linear = ols.fit()\n",
    "    \n",
    "    #pred = gpr.predict(x_test, return_std=True)\n",
    "    #pred1 = gpr.predict(X1_norm, return_std=True)\n",
    "    #pred_linear_model = model_linear.predict(X1_norm)\n",
    "    pred_svr_model = svr_model.predict(X1_norm)\n",
    "    \n",
    "    temp_error = mean_squared_error(Y1, pred_svr_model, squared = False) #For Gaussian Process\n",
    "    #temp_error = mean_squared_error(Y1, pred_linear_model, squared = False) #For Linear Regression\n",
    "    \n",
    "    if temp_error < err:\n",
    "        err = temp_error\n",
    "    print(err)\n",
    "    end_index = end_index + 1"
   ]
  },
  {
   "cell_type": "code",
   "execution_count": 49,
   "metadata": {},
   "outputs": [
    {
     "name": "stdout",
     "output_type": "stream",
     "text": [
      "                     zone_temp\n",
      "time                          \n",
      "2017-07-04 08:35:00  21.528289\n",
      "2017-07-04 08:40:00  21.610417\n",
      "2017-07-04 08:45:00  21.696889\n",
      "2017-07-04 08:50:00  21.786183\n",
      "2017-07-04 08:55:00  21.877137\n",
      "2017-07-04 09:00:00  21.969014\n",
      "2017-07-04 09:05:00  22.063374\n",
      "2017-07-04 09:10:00  22.159507\n",
      "2017-07-04 09:15:00  22.253181\n",
      "2017-07-04 09:20:00  22.345068\n",
      "2017-07-04 09:25:00  22.435268\n",
      "2017-07-04 09:30:00  22.514583\n"
     ]
    },
    {
     "ename": "NameError",
     "evalue": "name 'pred1' is not defined",
     "output_type": "error",
     "traceback": [
      "\u001b[0;31m-------------------------------------------------------------------\u001b[0m",
      "\u001b[0;31mNameError\u001b[0m                         Traceback (most recent call last)",
      "\u001b[0;32m<ipython-input-49-9c5883d98c1f>\u001b[0m in \u001b[0;36m<module>\u001b[0;34m\u001b[0m\n\u001b[1;32m      1\u001b[0m \u001b[0mprint\u001b[0m\u001b[0;34m(\u001b[0m\u001b[0mY1\u001b[0m\u001b[0;34m)\u001b[0m\u001b[0;34m\u001b[0m\u001b[0;34m\u001b[0m\u001b[0m\n\u001b[0;32m----> 2\u001b[0;31m \u001b[0mprint\u001b[0m\u001b[0;34m(\u001b[0m\u001b[0mpred1\u001b[0m\u001b[0;34m[\u001b[0m\u001b[0;36m0\u001b[0m\u001b[0;34m]\u001b[0m\u001b[0;34m)\u001b[0m\u001b[0;34m\u001b[0m\u001b[0;34m\u001b[0m\u001b[0m\n\u001b[0m",
      "\u001b[0;31mNameError\u001b[0m: name 'pred1' is not defined"
     ]
    }
   ],
   "source": [
    "print(Y1)\n",
    "print(pred_svr_model)"
   ]
  },
  {
   "cell_type": "markdown",
   "metadata": {},
   "source": [
    "# DataFrame setup for Post validation"
   ]
  },
  {
   "cell_type": "code",
   "execution_count": 32,
   "metadata": {},
   "outputs": [
    {
     "data": {
      "text/html": [
       "<div>\n",
       "<style scoped>\n",
       "    .dataframe tbody tr th:only-of-type {\n",
       "        vertical-align: middle;\n",
       "    }\n",
       "\n",
       "    .dataframe tbody tr th {\n",
       "        vertical-align: top;\n",
       "    }\n",
       "\n",
       "    .dataframe thead th {\n",
       "        text-align: right;\n",
       "    }\n",
       "</style>\n",
       "<table border=\"1\" class=\"dataframe\">\n",
       "  <thead>\n",
       "    <tr style=\"text-align: right;\">\n",
       "      <th></th>\n",
       "      <th>zone_temp</th>\n",
       "      <th>upper</th>\n",
       "      <th>lower</th>\n",
       "      <th>upper_BMS</th>\n",
       "      <th>lower_BMS</th>\n",
       "      <th>pred</th>\n",
       "    </tr>\n",
       "    <tr>\n",
       "      <th>date</th>\n",
       "      <th></th>\n",
       "      <th></th>\n",
       "      <th></th>\n",
       "      <th></th>\n",
       "      <th></th>\n",
       "      <th></th>\n",
       "    </tr>\n",
       "  </thead>\n",
       "  <tbody>\n",
       "    <tr>\n",
       "      <th>2017-07-04 08:35:00</th>\n",
       "      <td>21.528289</td>\n",
       "      <td>22.557319</td>\n",
       "      <td>20.377319</td>\n",
       "      <td>22.368289</td>\n",
       "      <td>20.688289</td>\n",
       "      <td>21.467319</td>\n",
       "    </tr>\n",
       "    <tr>\n",
       "      <th>2017-07-04 08:40:00</th>\n",
       "      <td>21.610417</td>\n",
       "      <td>22.486669</td>\n",
       "      <td>20.306669</td>\n",
       "      <td>22.450417</td>\n",
       "      <td>20.770417</td>\n",
       "      <td>21.396669</td>\n",
       "    </tr>\n",
       "    <tr>\n",
       "      <th>2017-07-04 08:45:00</th>\n",
       "      <td>21.696889</td>\n",
       "      <td>22.300643</td>\n",
       "      <td>20.120643</td>\n",
       "      <td>22.536889</td>\n",
       "      <td>20.856889</td>\n",
       "      <td>21.210643</td>\n",
       "    </tr>\n",
       "    <tr>\n",
       "      <th>2017-07-04 08:50:00</th>\n",
       "      <td>21.786183</td>\n",
       "      <td>21.969123</td>\n",
       "      <td>19.789123</td>\n",
       "      <td>22.626183</td>\n",
       "      <td>20.946183</td>\n",
       "      <td>20.879123</td>\n",
       "    </tr>\n",
       "    <tr>\n",
       "      <th>2017-07-04 08:55:00</th>\n",
       "      <td>21.877137</td>\n",
       "      <td>21.479101</td>\n",
       "      <td>19.299101</td>\n",
       "      <td>22.717137</td>\n",
       "      <td>21.037137</td>\n",
       "      <td>20.389101</td>\n",
       "    </tr>\n",
       "    <tr>\n",
       "      <th>2017-07-04 09:00:00</th>\n",
       "      <td>21.969014</td>\n",
       "      <td>20.822558</td>\n",
       "      <td>18.642558</td>\n",
       "      <td>22.809014</td>\n",
       "      <td>21.129014</td>\n",
       "      <td>19.732558</td>\n",
       "    </tr>\n",
       "    <tr>\n",
       "      <th>2017-07-04 09:05:00</th>\n",
       "      <td>22.063374</td>\n",
       "      <td>22.953014</td>\n",
       "      <td>20.773014</td>\n",
       "      <td>22.903374</td>\n",
       "      <td>21.223374</td>\n",
       "      <td>21.863014</td>\n",
       "    </tr>\n",
       "    <tr>\n",
       "      <th>2017-07-04 09:10:00</th>\n",
       "      <td>22.159507</td>\n",
       "      <td>22.478948</td>\n",
       "      <td>20.298948</td>\n",
       "      <td>22.999507</td>\n",
       "      <td>21.319507</td>\n",
       "      <td>21.388948</td>\n",
       "    </tr>\n",
       "    <tr>\n",
       "      <th>2017-07-04 09:15:00</th>\n",
       "      <td>22.253181</td>\n",
       "      <td>21.934929</td>\n",
       "      <td>19.754929</td>\n",
       "      <td>23.093181</td>\n",
       "      <td>21.413181</td>\n",
       "      <td>20.844929</td>\n",
       "    </tr>\n",
       "    <tr>\n",
       "      <th>2017-07-04 09:20:00</th>\n",
       "      <td>22.345068</td>\n",
       "      <td>21.258924</td>\n",
       "      <td>19.078924</td>\n",
       "      <td>23.185068</td>\n",
       "      <td>21.505068</td>\n",
       "      <td>20.168924</td>\n",
       "    </tr>\n",
       "    <tr>\n",
       "      <th>2017-07-04 09:25:00</th>\n",
       "      <td>22.435268</td>\n",
       "      <td>20.507642</td>\n",
       "      <td>18.327642</td>\n",
       "      <td>23.275268</td>\n",
       "      <td>21.595268</td>\n",
       "      <td>19.417642</td>\n",
       "    </tr>\n",
       "    <tr>\n",
       "      <th>2017-07-04 09:30:00</th>\n",
       "      <td>22.514583</td>\n",
       "      <td>19.934507</td>\n",
       "      <td>17.754507</td>\n",
       "      <td>23.354583</td>\n",
       "      <td>21.674583</td>\n",
       "      <td>18.844507</td>\n",
       "    </tr>\n",
       "  </tbody>\n",
       "</table>\n",
       "</div>"
      ],
      "text/plain": [
       "                     zone_temp      upper      lower  upper_BMS  lower_BMS  \\\n",
       "date                                                                         \n",
       "2017-07-04 08:35:00  21.528289  22.557319  20.377319  22.368289  20.688289   \n",
       "2017-07-04 08:40:00  21.610417  22.486669  20.306669  22.450417  20.770417   \n",
       "2017-07-04 08:45:00  21.696889  22.300643  20.120643  22.536889  20.856889   \n",
       "2017-07-04 08:50:00  21.786183  21.969123  19.789123  22.626183  20.946183   \n",
       "2017-07-04 08:55:00  21.877137  21.479101  19.299101  22.717137  21.037137   \n",
       "2017-07-04 09:00:00  21.969014  20.822558  18.642558  22.809014  21.129014   \n",
       "2017-07-04 09:05:00  22.063374  22.953014  20.773014  22.903374  21.223374   \n",
       "2017-07-04 09:10:00  22.159507  22.478948  20.298948  22.999507  21.319507   \n",
       "2017-07-04 09:15:00  22.253181  21.934929  19.754929  23.093181  21.413181   \n",
       "2017-07-04 09:20:00  22.345068  21.258924  19.078924  23.185068  21.505068   \n",
       "2017-07-04 09:25:00  22.435268  20.507642  18.327642  23.275268  21.595268   \n",
       "2017-07-04 09:30:00  22.514583  19.934507  17.754507  23.354583  21.674583   \n",
       "\n",
       "                          pred  \n",
       "date                            \n",
       "2017-07-04 08:35:00  21.467319  \n",
       "2017-07-04 08:40:00  21.396669  \n",
       "2017-07-04 08:45:00  21.210643  \n",
       "2017-07-04 08:50:00  20.879123  \n",
       "2017-07-04 08:55:00  20.389101  \n",
       "2017-07-04 09:00:00  19.732558  \n",
       "2017-07-04 09:05:00  21.863014  \n",
       "2017-07-04 09:10:00  21.388948  \n",
       "2017-07-04 09:15:00  20.844929  \n",
       "2017-07-04 09:20:00  20.168924  \n",
       "2017-07-04 09:25:00  19.417642  \n",
       "2017-07-04 09:30:00  18.844507  "
      ]
     },
     "execution_count": 32,
     "metadata": {},
     "output_type": "execute_result"
    }
   ],
   "source": [
    "upper_bound = []\n",
    "lower_bound = []\n",
    "\n",
    "upper_bound = pred1[0] + 0.5 + 0.59\n",
    "lower_bound = pred1[0] - 0.5 - 0.59\n",
    "bounds = Y1.copy()\n",
    "temp = pd.date_range(start='2017-07-04 08:35:00', periods=12, freq='300s')\n",
    "bounds['date'] = temp\n",
    "bounds['upper'] = upper_bound\n",
    "bounds['lower'] = lower_bound\n",
    "#bounds['zone_temp'] = bounds['zone_temp'] + 6\n",
    "bounds['upper_BMS'] = Y1['zone_temp'] + 0.25 + 0.59\n",
    "bounds['lower_BMS'] = Y1['zone_temp'] - 0.25 - 0.59\n",
    "bounds['pred'] = pred1[0]\n",
    "bounds.set_index('date',inplace=True)\n",
    "bounds"
   ]
  },
  {
   "cell_type": "markdown",
   "metadata": {},
   "source": [
    "# Bounds Visualization"
   ]
  },
  {
   "cell_type": "code",
   "execution_count": 17,
   "metadata": {},
   "outputs": [
    {
     "data": {
      "image/png": "[encoded data removed]",
      "text/plain": [
       "<Figure size 1008x576 with 1 Axes>"
      ]
     },
     "metadata": {
      "needs_background": "light"
     },
     "output_type": "display_data"
    }
   ],
   "source": [
    "fig, ax = plt.subplots()\n",
    "hours = mdates.HourLocator(interval = 1)\n",
    "h_fmt = mdates.DateFormatter('%H:%M:%S')\n",
    "\n",
    "#ax.plot(bounds.index, bounds['upper'].values, '--', color = 'red', label = 'Upper bound')\n",
    "ax.plot(bounds.index, bounds['zone_temp'].values, 'o', color = 'green', label = 'Actual')\n",
    "ax.plot(bounds.index, bounds['pred'].values, 'o', color = 'black', label = 'Predicted')\n",
    "#ax.plot(bounds.index, bounds['lower'].values, '--', color = 'violet', label = 'Lower Bound')\n",
    "\n",
    "#Then tick and format with matplotlib:\n",
    "ax.xaxis.set_major_locator(hours)\n",
    "ax.xaxis.set_major_formatter(h_fmt)\n",
    "\n",
    "fig.autofmt_xdate()\n",
    "fig.set_size_inches(14, 8)\n",
    "plt.fill_between(bounds.index, bounds['upper'].values,bounds['lower'].values,color='cornflowerblue',alpha=.5)\n",
    "plt.fill_between(bounds.index, bounds['upper_BMS'].values,bounds['lower_BMS'].values,color='coral',alpha=.5)\n",
    "plt.legend()\n",
    "plt.show()"
   ]
  },
  {
   "cell_type": "code",
   "execution_count": 18,
   "metadata": {},
   "outputs": [
    {
     "data": {
      "text/plain": [
       "<AxesSubplot:>"
      ]
     },
     "execution_count": 18,
     "metadata": {},
     "output_type": "execute_result"
    },
    {
     "data": {
      "image/png": "[encoded data removed]",
      "text/plain": [
       "<Figure size 864x864 with 2 Axes>"
      ]
     },
     "metadata": {
      "needs_background": "light"
     },
     "output_type": "display_data"
    }
   ],
   "source": []
  },
  {
   "cell_type": "code",
   "execution_count": null,
   "metadata": {},
   "outputs": [],
   "source": []
  }
 ],
 "metadata": {
  "kernelspec": {
   "display_name": "Python 3",
   "language": "python",
   "name": "python3"
  },
  "language_info": {
   "codemirror_mode": {
    "name": "ipython",
    "version": 3
   },
   "file_extension": ".py",
   "mimetype": "text/x-python",
   "name": "python",
   "nbconvert_exporter": "python",
   "pygments_lexer": "ipython3",
   "version": "3.8.5"
  }
 },
 "nbformat": 4,
 "nbformat_minor": 4
}
