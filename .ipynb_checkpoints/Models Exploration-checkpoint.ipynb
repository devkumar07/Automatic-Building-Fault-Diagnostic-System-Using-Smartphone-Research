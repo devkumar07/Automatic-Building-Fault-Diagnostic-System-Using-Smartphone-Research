{
 "cells": [
  {
   "cell_type": "code",
   "execution_count": 52,
   "metadata": {},
   "outputs": [
    {
     "data": {
      "text/html": [
       "<div>\n",
       "<style scoped>\n",
       "    .dataframe tbody tr th:only-of-type {\n",
       "        vertical-align: middle;\n",
       "    }\n",
       "\n",
       "    .dataframe tbody tr th {\n",
       "        vertical-align: top;\n",
       "    }\n",
       "\n",
       "    .dataframe thead th {\n",
       "        text-align: right;\n",
       "    }\n",
       "</style>\n",
       "<table border=\"1\" class=\"dataframe\">\n",
       "  <thead>\n",
       "    <tr style=\"text-align: right;\">\n",
       "      <th></th>\n",
       "      <th>outdoor_temp</th>\n",
       "      <th>zone_temp</th>\n",
       "      <th>occupancy</th>\n",
       "      <th>supply_temp</th>\n",
       "      <th>air_flow</th>\n",
       "    </tr>\n",
       "    <tr>\n",
       "      <th>time</th>\n",
       "      <th></th>\n",
       "      <th></th>\n",
       "      <th></th>\n",
       "      <th></th>\n",
       "      <th></th>\n",
       "    </tr>\n",
       "  </thead>\n",
       "  <tbody>\n",
       "    <tr>\n",
       "      <th>2017-01-01 00:00:00</th>\n",
       "      <td>2.200</td>\n",
       "      <td>22.832449</td>\n",
       "      <td>0</td>\n",
       "      <td>25.000003</td>\n",
       "      <td>0.733767</td>\n",
       "    </tr>\n",
       "    <tr>\n",
       "      <th>2017-01-01 00:05:00</th>\n",
       "      <td>1.825</td>\n",
       "      <td>22.824465</td>\n",
       "      <td>0</td>\n",
       "      <td>25.000003</td>\n",
       "      <td>0.733767</td>\n",
       "    </tr>\n",
       "    <tr>\n",
       "      <th>2017-01-01 00:10:00</th>\n",
       "      <td>1.450</td>\n",
       "      <td>22.812760</td>\n",
       "      <td>0</td>\n",
       "      <td>25.000003</td>\n",
       "      <td>0.733767</td>\n",
       "    </tr>\n",
       "    <tr>\n",
       "      <th>2017-01-01 00:15:00</th>\n",
       "      <td>1.075</td>\n",
       "      <td>22.799019</td>\n",
       "      <td>0</td>\n",
       "      <td>25.000003</td>\n",
       "      <td>0.733767</td>\n",
       "    </tr>\n",
       "    <tr>\n",
       "      <th>2017-01-01 00:20:00</th>\n",
       "      <td>0.700</td>\n",
       "      <td>22.784421</td>\n",
       "      <td>0</td>\n",
       "      <td>25.000003</td>\n",
       "      <td>0.733767</td>\n",
       "    </tr>\n",
       "    <tr>\n",
       "      <th>...</th>\n",
       "      <td>...</td>\n",
       "      <td>...</td>\n",
       "      <td>...</td>\n",
       "      <td>...</td>\n",
       "      <td>...</td>\n",
       "    </tr>\n",
       "    <tr>\n",
       "      <th>2017-12-31 23:40:00</th>\n",
       "      <td>6.000</td>\n",
       "      <td>22.990503</td>\n",
       "      <td>0</td>\n",
       "      <td>25.000004</td>\n",
       "      <td>0.733767</td>\n",
       "    </tr>\n",
       "    <tr>\n",
       "      <th>2017-12-31 23:45:00</th>\n",
       "      <td>6.000</td>\n",
       "      <td>22.988552</td>\n",
       "      <td>0</td>\n",
       "      <td>25.000004</td>\n",
       "      <td>0.733767</td>\n",
       "    </tr>\n",
       "    <tr>\n",
       "      <th>2017-12-31 23:50:00</th>\n",
       "      <td>6.000</td>\n",
       "      <td>22.986715</td>\n",
       "      <td>0</td>\n",
       "      <td>25.000004</td>\n",
       "      <td>0.733767</td>\n",
       "    </tr>\n",
       "    <tr>\n",
       "      <th>2017-12-31 23:55:00</th>\n",
       "      <td>6.000</td>\n",
       "      <td>22.984990</td>\n",
       "      <td>0</td>\n",
       "      <td>25.000004</td>\n",
       "      <td>0.733767</td>\n",
       "    </tr>\n",
       "    <tr>\n",
       "      <th>2018-01-01 00:00:00</th>\n",
       "      <td>6.000</td>\n",
       "      <td>22.983374</td>\n",
       "      <td>0</td>\n",
       "      <td>25.000004</td>\n",
       "      <td>0.733767</td>\n",
       "    </tr>\n",
       "  </tbody>\n",
       "</table>\n",
       "<p>105121 rows × 5 columns</p>\n",
       "</div>"
      ],
      "text/plain": [
       "                     outdoor_temp  zone_temp  occupancy  supply_temp  air_flow\n",
       "time                                                                          \n",
       "2017-01-01 00:00:00         2.200  22.832449          0    25.000003  0.733767\n",
       "2017-01-01 00:05:00         1.825  22.824465          0    25.000003  0.733767\n",
       "2017-01-01 00:10:00         1.450  22.812760          0    25.000003  0.733767\n",
       "2017-01-01 00:15:00         1.075  22.799019          0    25.000003  0.733767\n",
       "2017-01-01 00:20:00         0.700  22.784421          0    25.000003  0.733767\n",
       "...                           ...        ...        ...          ...       ...\n",
       "2017-12-31 23:40:00         6.000  22.990503          0    25.000004  0.733767\n",
       "2017-12-31 23:45:00         6.000  22.988552          0    25.000004  0.733767\n",
       "2017-12-31 23:50:00         6.000  22.986715          0    25.000004  0.733767\n",
       "2017-12-31 23:55:00         6.000  22.984990          0    25.000004  0.733767\n",
       "2018-01-01 00:00:00         6.000  22.983374          0    25.000004  0.733767\n",
       "\n",
       "[105121 rows x 5 columns]"
      ]
     },
     "execution_count": 52,
     "metadata": {},
     "output_type": "execute_result"
    }
   ],
   "source": [
    "import pandas as pd\n",
    "import numpy as np\n",
    "\n",
    "data = pd.read_csv('data/result.csv', parse_dates=['time'], index_col=['time'])\n",
    "data"
   ]
  },
  {
   "cell_type": "code",
   "execution_count": 53,
   "metadata": {},
   "outputs": [],
   "source": [
    "train_data = data.loc['2017-07-04 07:30:00':'2017-07-04 09:00:00']\n",
    "test_data = data.loc['2017-07-04 09:05:00':'2017-07-04 10:00:00']"
   ]
  },
  {
   "cell_type": "markdown",
   "metadata": {},
   "source": [
    "# Data Visualization"
   ]
  },
  {
   "cell_type": "code",
   "execution_count": 54,
   "metadata": {},
   "outputs": [
    {
     "data": {
      "image/png": "[encoded data removed]",
      "text/plain": [
       "<Figure size 1008x576 with 1 Axes>"
      ]
     },
     "metadata": {
      "needs_background": "light"
     },
     "output_type": "display_data"
    }
   ],
   "source": [
    "import matplotlib.pyplot as plt\n",
    "import matplotlib.dates as mdates\n",
    "from datetime import datetime\n",
    "\n",
    "fig, ax = plt.subplots()\n",
    "hours = mdates.HourLocator(interval = 1)\n",
    "h_fmt = mdates.DateFormatter('%H:%M:%S')\n",
    "\n",
    "ax.plot(train_data.index, train_data['zone_temp'].values, color = 'red', linewidth = 0.8, label = 'zone temp')\n",
    "ax.plot(train_data.index, train_data['supply_temp'].values, color = 'green', linewidth = 0.8, label = 'supply temp')\n",
    "ax.plot(train_data.index, train_data['occupancy'].values, color = 'black', linewidth = 0.8, label = 'occupancy')\n",
    "ax.plot(train_data.index, train_data['outdoor_temp'].values, color = 'violet', linewidth = 0.8, label = 'outdoor temp')\n",
    "#Then tick and format with matplotlib:\n",
    "ax.xaxis.set_major_locator(hours)\n",
    "ax.xaxis.set_major_formatter(h_fmt)\n",
    "\n",
    "fig.autofmt_xdate()\n",
    "fig.set_size_inches(14, 8)\n",
    "plt.legend()\n",
    "plt.show()"
   ]
  },
  {
   "cell_type": "markdown",
   "metadata": {},
   "source": [
    "# Data Preprocessing"
   ]
  },
  {
   "cell_type": "code",
   "execution_count": 55,
   "metadata": {},
   "outputs": [
    {
     "name": "stdout",
     "output_type": "stream",
     "text": [
      "19\n"
     ]
    }
   ],
   "source": [
    "from sklearn.preprocessing import MinMaxScaler\n",
    "\n",
    "x_train = train_data[['supply_temp', 'air_flow','outdoor_temp','occupancy']]\n",
    "y_train = train_data[['zone_temp']]\n",
    "\n",
    "x_test = test_data[['supply_temp', 'air_flow','outdoor_temp','occupancy']]\n",
    "y_test = test_data[['zone_temp']]\n",
    "\n",
    "print(len(x_train))\n",
    "\n",
    "scaler = MinMaxScaler().fit(x_train)\n",
    "\n",
    "x_train_norm = scaler.transform(x_train)\n",
    "x_test_norm = scaler.transform(x_test)"
   ]
  },
  {
   "cell_type": "markdown",
   "metadata": {},
   "source": [
    "# Linear Regression"
   ]
  },
  {
   "cell_type": "code",
   "execution_count": 56,
   "metadata": {},
   "outputs": [
    {
     "name": "stderr",
     "output_type": "stream",
     "text": [
      "/Users/devanshukumar/opt/anaconda3/lib/python3.8/site-packages/scipy/stats/stats.py:1603: UserWarning: kurtosistest only valid for n>=20 ... continuing anyway, n=19\n",
      "  warnings.warn(\"kurtosistest only valid for n>=20 ... continuing \"\n"
     ]
    },
    {
     "data": {
      "text/html": [
       "<table class=\"simpletable\">\n",
       "<caption>OLS Regression Results</caption>\n",
       "<tr>\n",
       "  <th>Dep. Variable:</th>        <td>zone_temp</td>    <th>  R-squared (uncentered):</th>      <td>   0.998</td>\n",
       "</tr>\n",
       "<tr>\n",
       "  <th>Model:</th>                   <td>OLS</td>       <th>  Adj. R-squared (uncentered):</th> <td>   0.997</td>\n",
       "</tr>\n",
       "<tr>\n",
       "  <th>Method:</th>             <td>Least Squares</td>  <th>  F-statistic:       </th>          <td>   2386.</td>\n",
       "</tr>\n",
       "<tr>\n",
       "  <th>Date:</th>             <td>Mon, 01 Mar 2021</td> <th>  Prob (F-statistic):</th>          <td>2.04e-21</td>\n",
       "</tr>\n",
       "<tr>\n",
       "  <th>Time:</th>                 <td>20:05:49</td>     <th>  Log-Likelihood:    </th>          <td> -27.228</td>\n",
       "</tr>\n",
       "<tr>\n",
       "  <th>No. Observations:</th>      <td>    19</td>      <th>  AIC:               </th>          <td>   60.46</td>\n",
       "</tr>\n",
       "<tr>\n",
       "  <th>Df Residuals:</th>          <td>    16</td>      <th>  BIC:               </th>          <td>   63.29</td>\n",
       "</tr>\n",
       "<tr>\n",
       "  <th>Df Model:</th>              <td>     3</td>      <th>                     </th>              <td> </td>   \n",
       "</tr>\n",
       "<tr>\n",
       "  <th>Covariance Type:</th>      <td>nonrobust</td>    <th>                     </th>              <td> </td>   \n",
       "</tr>\n",
       "</table>\n",
       "<table class=\"simpletable\">\n",
       "<tr>\n",
       "   <td></td>     <th>coef</th>     <th>std err</th>      <th>t</th>      <th>P>|t|</th>  <th>[0.025</th>    <th>0.975]</th>  \n",
       "</tr>\n",
       "<tr>\n",
       "  <th>x1</th> <td>   25.2292</td> <td>    0.541</td> <td>   46.606</td> <td> 0.000</td> <td>   24.082</td> <td>   26.377</td>\n",
       "</tr>\n",
       "<tr>\n",
       "  <th>x2</th> <td>   12.1213</td> <td>    0.507</td> <td>   23.918</td> <td> 0.000</td> <td>   11.047</td> <td>   13.196</td>\n",
       "</tr>\n",
       "<tr>\n",
       "  <th>x3</th> <td>   -9.9176</td> <td>    1.527</td> <td>   -6.497</td> <td> 0.000</td> <td>  -13.154</td> <td>   -6.681</td>\n",
       "</tr>\n",
       "<tr>\n",
       "  <th>x4</th> <td>   12.1213</td> <td>    0.507</td> <td>   23.918</td> <td> 0.000</td> <td>   11.047</td> <td>   13.196</td>\n",
       "</tr>\n",
       "</table>\n",
       "<table class=\"simpletable\">\n",
       "<tr>\n",
       "  <th>Omnibus:</th>       <td>14.932</td> <th>  Durbin-Watson:     </th> <td>   1.144</td>\n",
       "</tr>\n",
       "<tr>\n",
       "  <th>Prob(Omnibus):</th> <td> 0.001</td> <th>  Jarque-Bera (JB):  </th> <td>  13.420</td>\n",
       "</tr>\n",
       "<tr>\n",
       "  <th>Skew:</th>          <td>-1.612</td> <th>  Prob(JB):          </th> <td> 0.00122</td>\n",
       "</tr>\n",
       "<tr>\n",
       "  <th>Kurtosis:</th>      <td> 5.561</td> <th>  Cond. No.          </th> <td>2.20e+16</td>\n",
       "</tr>\n",
       "</table><br/><br/>Notes:<br/>[1] R² is computed without centering (uncentered) since the model does not contain a constant.<br/>[2] Standard Errors assume that the covariance matrix of the errors is correctly specified.<br/>[3] The smallest eigenvalue is 6.14e-32. This might indicate that there are<br/>strong multicollinearity problems or that the design matrix is singular."
      ],
      "text/plain": [
       "<class 'statsmodels.iolib.summary.Summary'>\n",
       "\"\"\"\n",
       "                                 OLS Regression Results                                \n",
       "=======================================================================================\n",
       "Dep. Variable:              zone_temp   R-squared (uncentered):                   0.998\n",
       "Model:                            OLS   Adj. R-squared (uncentered):              0.997\n",
       "Method:                 Least Squares   F-statistic:                              2386.\n",
       "Date:                Mon, 01 Mar 2021   Prob (F-statistic):                    2.04e-21\n",
       "Time:                        20:05:49   Log-Likelihood:                         -27.228\n",
       "No. Observations:                  19   AIC:                                      60.46\n",
       "Df Residuals:                      16   BIC:                                      63.29\n",
       "Df Model:                           3                                                  \n",
       "Covariance Type:            nonrobust                                                  \n",
       "==============================================================================\n",
       "                 coef    std err          t      P>|t|      [0.025      0.975]\n",
       "------------------------------------------------------------------------------\n",
       "x1            25.2292      0.541     46.606      0.000      24.082      26.377\n",
       "x2            12.1213      0.507     23.918      0.000      11.047      13.196\n",
       "x3            -9.9176      1.527     -6.497      0.000     -13.154      -6.681\n",
       "x4            12.1213      0.507     23.918      0.000      11.047      13.196\n",
       "==============================================================================\n",
       "Omnibus:                       14.932   Durbin-Watson:                   1.144\n",
       "Prob(Omnibus):                  0.001   Jarque-Bera (JB):               13.420\n",
       "Skew:                          -1.612   Prob(JB):                      0.00122\n",
       "Kurtosis:                       5.561   Cond. No.                     2.20e+16\n",
       "==============================================================================\n",
       "\n",
       "Notes:\n",
       "[1] R² is computed without centering (uncentered) since the model does not contain a constant.\n",
       "[2] Standard Errors assume that the covariance matrix of the errors is correctly specified.\n",
       "[3] The smallest eigenvalue is 6.14e-32. This might indicate that there are\n",
       "strong multicollinearity problems or that the design matrix is singular.\n",
       "\"\"\""
      ]
     },
     "execution_count": 56,
     "metadata": {},
     "output_type": "execute_result"
    }
   ],
   "source": [
    "import statsmodels.api as sm\n",
    "\n",
    "model = sm.OLS(y_train, x_train_norm)\n",
    "results = model.fit()\n",
    "results.summary()"
   ]
  },
  {
   "cell_type": "code",
   "execution_count": 57,
   "metadata": {},
   "outputs": [],
   "source": [
    "pred = results.predict(x_test_norm)\n",
    "#print(pred)\n",
    "#print(y_test)"
   ]
  },
  {
   "cell_type": "code",
   "execution_count": 58,
   "metadata": {},
   "outputs": [
    {
     "data": {
      "text/plain": [
       "5.412425113091223"
      ]
     },
     "execution_count": 58,
     "metadata": {},
     "output_type": "execute_result"
    }
   ],
   "source": [
    "from sklearn.metrics import mean_squared_error\n",
    "\n",
    "mean_squared_error(y_test, pred, squared = False)"
   ]
  },
  {
   "cell_type": "code",
   "execution_count": 59,
   "metadata": {},
   "outputs": [],
   "source": [
    "bounds = y_test.copy()\n",
    "bounds['pred'] = pred\n"
   ]
  },
  {
   "cell_type": "markdown",
   "metadata": {},
   "source": [
    "# Actual values vs Predicted values (Linear Regression)"
   ]
  },
  {
   "cell_type": "code",
   "execution_count": 60,
   "metadata": {},
   "outputs": [
    {
     "data": {
      "image/png": "[encoded data removed]",
      "text/plain": [
       "<Figure size 1008x576 with 1 Axes>"
      ]
     },
     "metadata": {
      "needs_background": "light"
     },
     "output_type": "display_data"
    }
   ],
   "source": [
    "fig, ax = plt.subplots()\n",
    "hours = mdates.MinuteLocator(interval = 10)\n",
    "h_fmt = mdates.DateFormatter('%H:%M:%S')\n",
    "\n",
    "ax.plot(bounds.index, bounds['zone_temp'].values, '--', color = 'green', label = 'Actual')\n",
    "ax.plot(bounds.index, bounds['pred'].values, '--', color = 'black', label = 'Predicted')\n",
    "\n",
    "#Then tick and format with matplotlib:\n",
    "ax.xaxis.set_major_locator(hours)\n",
    "ax.xaxis.set_major_formatter(h_fmt)\n",
    "\n",
    "fig.autofmt_xdate()\n",
    "fig.set_size_inches(14, 8)\n",
    "#plt.fill_between(bounds.index, bounds['upper'].values,bounds['lower'].values,color='cornflowerblue',alpha=.5)\n",
    "plt.legend()\n",
    "plt.show()"
   ]
  },
  {
   "cell_type": "code",
   "execution_count": 61,
   "metadata": {},
   "outputs": [],
   "source": [
    "from sklearn.gaussian_process import GaussianProcessRegressor\n",
    "from sklearn.gaussian_process.kernels import DotProduct, WhiteKernel\n",
    "\n",
    "kernel = DotProduct() + WhiteKernel()\n",
    "gpr = GaussianProcessRegressor(random_state=0).fit(x_train_norm, y_train)\n",
    "gpr.score(x_train_norm, y_train)\n",
    "\n",
    "pred = gpr.predict(x_test_norm, return_std=True)\n",
    "# print(pred)\n",
    "# print(y_test)"
   ]
  },
  {
   "cell_type": "code",
   "execution_count": 62,
   "metadata": {},
   "outputs": [
    {
     "data": {
      "text/plain": [
       "0.5485993964126065"
      ]
     },
     "execution_count": 62,
     "metadata": {},
     "output_type": "execute_result"
    }
   ],
   "source": [
    "mean_squared_error(y_test, pred[0],squared = False)"
   ]
  },
  {
   "cell_type": "code",
   "execution_count": 63,
   "metadata": {},
   "outputs": [
    {
     "data": {
      "text/html": [
       "<div>\n",
       "<style scoped>\n",
       "    .dataframe tbody tr th:only-of-type {\n",
       "        vertical-align: middle;\n",
       "    }\n",
       "\n",
       "    .dataframe tbody tr th {\n",
       "        vertical-align: top;\n",
       "    }\n",
       "\n",
       "    .dataframe thead th {\n",
       "        text-align: right;\n",
       "    }\n",
       "</style>\n",
       "<table border=\"1\" class=\"dataframe\">\n",
       "  <thead>\n",
       "    <tr style=\"text-align: right;\">\n",
       "      <th></th>\n",
       "      <th>zone_temp</th>\n",
       "      <th>pred</th>\n",
       "    </tr>\n",
       "    <tr>\n",
       "      <th>time</th>\n",
       "      <th></th>\n",
       "      <th></th>\n",
       "    </tr>\n",
       "  </thead>\n",
       "  <tbody>\n",
       "    <tr>\n",
       "      <th>2017-07-04 09:05:00</th>\n",
       "      <td>22.063374</td>\n",
       "      <td>21.960712</td>\n",
       "    </tr>\n",
       "    <tr>\n",
       "      <th>2017-07-04 09:10:00</th>\n",
       "      <td>22.159507</td>\n",
       "      <td>21.754038</td>\n",
       "    </tr>\n",
       "    <tr>\n",
       "      <th>2017-07-04 09:15:00</th>\n",
       "      <td>22.253181</td>\n",
       "      <td>21.657127</td>\n",
       "    </tr>\n",
       "    <tr>\n",
       "      <th>2017-07-04 09:20:00</th>\n",
       "      <td>22.345068</td>\n",
       "      <td>21.624387</td>\n",
       "    </tr>\n",
       "    <tr>\n",
       "      <th>2017-07-04 09:25:00</th>\n",
       "      <td>22.435268</td>\n",
       "      <td>21.675388</td>\n",
       "    </tr>\n",
       "    <tr>\n",
       "      <th>2017-07-04 09:30:00</th>\n",
       "      <td>22.514583</td>\n",
       "      <td>21.811192</td>\n",
       "    </tr>\n",
       "    <tr>\n",
       "      <th>2017-07-04 09:35:00</th>\n",
       "      <td>22.581924</td>\n",
       "      <td>21.997515</td>\n",
       "    </tr>\n",
       "    <tr>\n",
       "      <th>2017-07-04 09:40:00</th>\n",
       "      <td>22.643272</td>\n",
       "      <td>22.231571</td>\n",
       "    </tr>\n",
       "    <tr>\n",
       "      <th>2017-07-04 09:45:00</th>\n",
       "      <td>22.703502</td>\n",
       "      <td>22.518833</td>\n",
       "    </tr>\n",
       "    <tr>\n",
       "      <th>2017-07-04 09:50:00</th>\n",
       "      <td>22.764364</td>\n",
       "      <td>22.864296</td>\n",
       "    </tr>\n",
       "    <tr>\n",
       "      <th>2017-07-04 09:55:00</th>\n",
       "      <td>22.826025</td>\n",
       "      <td>23.272299</td>\n",
       "    </tr>\n",
       "    <tr>\n",
       "      <th>2017-07-04 10:00:00</th>\n",
       "      <td>22.888415</td>\n",
       "      <td>23.746012</td>\n",
       "    </tr>\n",
       "  </tbody>\n",
       "</table>\n",
       "</div>"
      ],
      "text/plain": [
       "                     zone_temp       pred\n",
       "time                                     \n",
       "2017-07-04 09:05:00  22.063374  21.960712\n",
       "2017-07-04 09:10:00  22.159507  21.754038\n",
       "2017-07-04 09:15:00  22.253181  21.657127\n",
       "2017-07-04 09:20:00  22.345068  21.624387\n",
       "2017-07-04 09:25:00  22.435268  21.675388\n",
       "2017-07-04 09:30:00  22.514583  21.811192\n",
       "2017-07-04 09:35:00  22.581924  21.997515\n",
       "2017-07-04 09:40:00  22.643272  22.231571\n",
       "2017-07-04 09:45:00  22.703502  22.518833\n",
       "2017-07-04 09:50:00  22.764364  22.864296\n",
       "2017-07-04 09:55:00  22.826025  23.272299\n",
       "2017-07-04 10:00:00  22.888415  23.746012"
      ]
     },
     "execution_count": 63,
     "metadata": {},
     "output_type": "execute_result"
    }
   ],
   "source": [
    "bounds = y_test.copy()\n",
    "bounds['pred'] = pred[0]\n",
    "bounds"
   ]
  },
  {
   "cell_type": "markdown",
   "metadata": {},
   "source": [
    "# Actual values vs Predicted values (Gaussain Process Regression)"
   ]
  },
  {
   "cell_type": "code",
   "execution_count": 64,
   "metadata": {},
   "outputs": [
    {
     "data": {
      "image/png": "[encoded data removed]",
      "text/plain": [
       "<Figure size 1008x576 with 1 Axes>"
      ]
     },
     "metadata": {
      "needs_background": "light"
     },
     "output_type": "display_data"
    }
   ],
   "source": [
    "fig, ax = plt.subplots()\n",
    "hours = mdates.MinuteLocator(interval = 10)\n",
    "h_fmt = mdates.DateFormatter('%H:%M:%S')\n",
    "\n",
    "ax.plot(bounds.index, bounds['zone_temp'].values, '--', color = 'green', label = 'Actual')\n",
    "ax.plot(bounds.index, bounds['pred'].values, '--', color = 'black', label = 'Predicted')\n",
    "\n",
    "#Then tick and format with matplotlib:\n",
    "ax.xaxis.set_major_locator(hours)\n",
    "ax.xaxis.set_major_formatter(h_fmt)\n",
    "\n",
    "fig.autofmt_xdate()\n",
    "fig.set_size_inches(14, 8)\n",
    "#plt.fill_between(bounds.index, bounds['upper'].values,bounds['lower'].values,color='cornflowerblue',alpha=.5)\n",
    "plt.legend()\n",
    "plt.show()"
   ]
  },
  {
   "cell_type": "markdown",
   "metadata": {},
   "source": [
    "# Sample set up for Model precision feedback"
   ]
  },
  {
   "cell_type": "code",
   "execution_count": 65,
   "metadata": {},
   "outputs": [
    {
     "name": "stdout",
     "output_type": "stream",
     "text": [
      "3.904644321135716\n",
      "2.0057261932562285\n",
      "1.0397684011720518\n",
      "0.9565300987620096\n",
      "0.9565300987620096\n",
      "0.5186785866255903\n",
      "0.3773671816586745\n",
      "epochs:  -1\n"
     ]
    }
   ],
   "source": [
    "from sklearn.model_selection import train_test_split\n",
    "\n",
    "## loading dataset and initializations\n",
    "train = pd.read_csv('data/train_test/train2.csv')\n",
    "test = pd.read_csv('data/train_test/test2.csv')\n",
    "filtered_data = train[['supply_temp', 'air_flow','outdoor_temp','occupancy', 'zone_temp']]\n",
    "err = 100000\n",
    "end_index = 5\n",
    "kernel = DotProduct() + WhiteKernel()\n",
    "\n",
    "##Epochs configuration for the semi-active learning\n",
    "\n",
    "while err > 0.5 and end_index < len(train):\n",
    "    zone_data = filtered_data[0:end_index]\n",
    "    X = zone_data[['supply_temp', 'air_flow','outdoor_temp','occupancy']]\n",
    "    y = zone_data[['zone_temp']]\n",
    "    \n",
    "    X1 = test[['supply_temp', 'air_flow','outdoor_temp','occupancy']]\n",
    "    y1 = test[['zone_temp']]\n",
    "    \n",
    "    scaler = MinMaxScaler().fit(X)\n",
    "    X_norm = scaler.transform(X)\n",
    "    #X1_norm = scaler.transform(X1)\n",
    "    \n",
    "    x_train, x_test, y_train, y_test = train_test_split(X_norm, y, test_size=0.50, random_state=42)\n",
    "    \n",
    "    gpr = GaussianProcessRegressor(random_state=0).fit(x_train, y_train)\n",
    "\n",
    "    pred = gpr.predict(x_test, return_std=True)\n",
    "    #pred1 = gpr.predict(X1_norm, return_std=True)\n",
    "    \n",
    "    temp_error = mean_squared_error(y_test, pred[0], squared = False)\n",
    "    \n",
    "    if temp_error < err:\n",
    "        err = temp_error\n",
    "    print(err)\n",
    "    end_index = end_index + 1\n",
    "    \n",
    "print('epochs: ',end_index-13)\n",
    "# print(y_test)\n",
    "# print(pred[0])\n",
    "#temp_error = mean_squared_error(y1, pred1[0], squared = False)\n",
    "#print(temp_error)"
   ]
  },
  {
   "cell_type": "code",
   "execution_count": 66,
   "metadata": {},
   "outputs": [
    {
     "name": "stdout",
     "output_type": "stream",
     "text": [
      "    zone_temp\n",
      "5   22.769236\n",
      "0   22.832449\n",
      "9   22.704605\n",
      "10  22.687598\n",
      "2   22.812760\n",
      "1   22.824465\n",
      "[[22.74160336]\n",
      " [22.21834606]\n",
      " [22.50911335]\n",
      " [22.0596409 ]\n",
      " [22.764445  ]\n",
      " [22.62033671]]\n"
     ]
    },
    {
     "data": {
      "text/plain": [
       "array([0.00294673, 0.07673415, 0.01761937, 0.05894849, 0.00532783,\n",
       "       0.03800453])"
      ]
     },
     "execution_count": 66,
     "metadata": {},
     "output_type": "execute_result"
    }
   ],
   "source": [
    "print(y_test)\n",
    "print(pred[0])\n",
    "pred[1]"
   ]
  },
  {
   "cell_type": "markdown",
   "metadata": {},
   "source": [
    "# DataFrame setup for Post validation"
   ]
  },
  {
   "cell_type": "code",
   "execution_count": 70,
   "metadata": {},
   "outputs": [
    {
     "data": {
      "text/html": [
       "<div>\n",
       "<style scoped>\n",
       "    .dataframe tbody tr th:only-of-type {\n",
       "        vertical-align: middle;\n",
       "    }\n",
       "\n",
       "    .dataframe tbody tr th {\n",
       "        vertical-align: top;\n",
       "    }\n",
       "\n",
       "    .dataframe thead th {\n",
       "        text-align: right;\n",
       "    }\n",
       "</style>\n",
       "<table border=\"1\" class=\"dataframe\">\n",
       "  <thead>\n",
       "    <tr style=\"text-align: right;\">\n",
       "      <th></th>\n",
       "      <th>zone_temp</th>\n",
       "      <th>upper</th>\n",
       "      <th>lower</th>\n",
       "      <th>upper_BMS</th>\n",
       "      <th>lower_BMS</th>\n",
       "      <th>pred</th>\n",
       "    </tr>\n",
       "    <tr>\n",
       "      <th>date</th>\n",
       "      <th></th>\n",
       "      <th></th>\n",
       "      <th></th>\n",
       "      <th></th>\n",
       "      <th></th>\n",
       "      <th></th>\n",
       "    </tr>\n",
       "  </thead>\n",
       "  <tbody>\n",
       "    <tr>\n",
       "      <th>2017-07-04 09:00:00</th>\n",
       "      <td>22.769236</td>\n",
       "      <td>23.241603</td>\n",
       "      <td>22.241603</td>\n",
       "      <td>23.519236</td>\n",
       "      <td>22.019236</td>\n",
       "      <td>22.741603</td>\n",
       "    </tr>\n",
       "    <tr>\n",
       "      <th>2017-07-04 09:05:00</th>\n",
       "      <td>22.832449</td>\n",
       "      <td>22.718346</td>\n",
       "      <td>21.718346</td>\n",
       "      <td>23.582449</td>\n",
       "      <td>22.082449</td>\n",
       "      <td>22.218346</td>\n",
       "    </tr>\n",
       "    <tr>\n",
       "      <th>2017-07-04 09:10:00</th>\n",
       "      <td>22.704605</td>\n",
       "      <td>23.009113</td>\n",
       "      <td>22.009113</td>\n",
       "      <td>23.454605</td>\n",
       "      <td>21.954605</td>\n",
       "      <td>22.509113</td>\n",
       "    </tr>\n",
       "    <tr>\n",
       "      <th>2017-07-04 09:15:00</th>\n",
       "      <td>22.687598</td>\n",
       "      <td>22.559641</td>\n",
       "      <td>21.559641</td>\n",
       "      <td>23.437598</td>\n",
       "      <td>21.937598</td>\n",
       "      <td>22.059641</td>\n",
       "    </tr>\n",
       "    <tr>\n",
       "      <th>2017-07-04 09:20:00</th>\n",
       "      <td>22.812760</td>\n",
       "      <td>23.264445</td>\n",
       "      <td>22.264445</td>\n",
       "      <td>23.562760</td>\n",
       "      <td>22.062760</td>\n",
       "      <td>22.764445</td>\n",
       "    </tr>\n",
       "    <tr>\n",
       "      <th>2017-07-04 09:25:00</th>\n",
       "      <td>22.824465</td>\n",
       "      <td>23.120337</td>\n",
       "      <td>22.120337</td>\n",
       "      <td>23.574465</td>\n",
       "      <td>22.074465</td>\n",
       "      <td>22.620337</td>\n",
       "    </tr>\n",
       "  </tbody>\n",
       "</table>\n",
       "</div>"
      ],
      "text/plain": [
       "                     zone_temp      upper      lower  upper_BMS  lower_BMS  \\\n",
       "date                                                                         \n",
       "2017-07-04 09:00:00  22.769236  23.241603  22.241603  23.519236  22.019236   \n",
       "2017-07-04 09:05:00  22.832449  22.718346  21.718346  23.582449  22.082449   \n",
       "2017-07-04 09:10:00  22.704605  23.009113  22.009113  23.454605  21.954605   \n",
       "2017-07-04 09:15:00  22.687598  22.559641  21.559641  23.437598  21.937598   \n",
       "2017-07-04 09:20:00  22.812760  23.264445  22.264445  23.562760  22.062760   \n",
       "2017-07-04 09:25:00  22.824465  23.120337  22.120337  23.574465  22.074465   \n",
       "\n",
       "                          pred  \n",
       "date                            \n",
       "2017-07-04 09:00:00  22.741603  \n",
       "2017-07-04 09:05:00  22.218346  \n",
       "2017-07-04 09:10:00  22.509113  \n",
       "2017-07-04 09:15:00  22.059641  \n",
       "2017-07-04 09:20:00  22.764445  \n",
       "2017-07-04 09:25:00  22.620337  "
      ]
     },
     "execution_count": 70,
     "metadata": {},
     "output_type": "execute_result"
    }
   ],
   "source": [
    "upper_bound = []\n",
    "lower_bound = []\n",
    "upper_bound = pred[0] + 0.5\n",
    "lower_bound = pred[0] - 0.5\n",
    "bounds = y_test.copy()\n",
    "temp = pd.date_range(start='2017-07-04 09:00:00', periods=6, freq='300s')\n",
    "bounds['date'] = temp\n",
    "bounds['upper'] = upper_bound\n",
    "bounds['lower'] = lower_bound\n",
    "bounds['upper_BMS'] = y_test['zone_temp'] + 0.75\n",
    "bounds['lower_BMS'] = y_test['zone_temp'] - 0.75\n",
    "bounds['pred'] = pred[0]\n",
    "bounds.set_index('date',inplace=True)\n",
    "bounds"
   ]
  },
  {
   "cell_type": "markdown",
   "metadata": {},
   "source": [
    "# Bounds Visualization"
   ]
  },
  {
   "cell_type": "code",
   "execution_count": 71,
   "metadata": {},
   "outputs": [
    {
     "data": {
      "image/png": "[encoded data removed]",
      "text/plain": [
       "<Figure size 1008x576 with 1 Axes>"
      ]
     },
     "metadata": {
      "needs_background": "light"
     },
     "output_type": "display_data"
    }
   ],
   "source": [
    "fig, ax = plt.subplots()\n",
    "hours = mdates.HourLocator(interval = 1)\n",
    "h_fmt = mdates.DateFormatter('%H:%M:%S')\n",
    "\n",
    "ax.plot(bounds.index, bounds['upper'].values, '--', color = 'red', label = 'Upper bound')\n",
    "ax.plot(bounds.index, bounds['zone_temp'].values, 'o', color = 'green', label = 'Actual')\n",
    "ax.plot(bounds.index, bounds['pred'].values, 'o', color = 'black', label = 'Predicted')\n",
    "ax.plot(bounds.index, bounds['lower'].values, '--', color = 'violet', label = 'Lower Bound')\n",
    "\n",
    "#Then tick and format with matplotlib:\n",
    "ax.xaxis.set_major_locator(hours)\n",
    "ax.xaxis.set_major_formatter(h_fmt)\n",
    "\n",
    "fig.autofmt_xdate()\n",
    "fig.set_size_inches(14, 8)\n",
    "plt.fill_between(bounds.index, bounds['upper'].values,bounds['lower'].values,color='cornflowerblue',alpha=.5)\n",
    "plt.fill_between(bounds.index, bounds['upper_BMS'].values,bounds['lower_BMS'].values,color='coral',alpha=.5)\n",
    "plt.legend()\n",
    "plt.show()"
   ]
  },
  {
   "cell_type": "code",
   "execution_count": null,
   "metadata": {},
   "outputs": [],
   "source": []
  }
 ],
 "metadata": {
  "kernelspec": {
   "display_name": "Python 3",
   "language": "python",
   "name": "python3"
  },
  "language_info": {
   "codemirror_mode": {
    "name": "ipython",
    "version": 3
   },
   "file_extension": ".py",
   "mimetype": "text/x-python",
   "name": "python",
   "nbconvert_exporter": "python",
   "pygments_lexer": "ipython3",
   "version": "3.8.5"
  }
 },
 "nbformat": 4,
 "nbformat_minor": 4
}
