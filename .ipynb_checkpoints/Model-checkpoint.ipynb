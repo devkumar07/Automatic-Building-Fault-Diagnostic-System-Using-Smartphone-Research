{
 "cells": [
  {
   "cell_type": "code",
   "execution_count": 40,
   "metadata": {},
   "outputs": [],
   "source": [
    "import pandas as pd\n",
    "data = pd.read_csv('result.csv', parse_dates=['time'], index_col=['time'])\n",
    "#live_data = pd.read_csv('actual_result.csv', parse_dates=['time'], index_col=['time'])\n",
    "#live_data"
   ]
  },
  {
   "cell_type": "code",
   "execution_count": 41,
   "metadata": {},
   "outputs": [
    {
     "data": {
      "text/html": [
       "<div>\n",
       "<style scoped>\n",
       "    .dataframe tbody tr th:only-of-type {\n",
       "        vertical-align: middle;\n",
       "    }\n",
       "\n",
       "    .dataframe tbody tr th {\n",
       "        vertical-align: top;\n",
       "    }\n",
       "\n",
       "    .dataframe thead th {\n",
       "        text-align: right;\n",
       "    }\n",
       "</style>\n",
       "<table border=\"1\" class=\"dataframe\">\n",
       "  <thead>\n",
       "    <tr style=\"text-align: right;\">\n",
       "      <th></th>\n",
       "      <th>outdoor_temp</th>\n",
       "      <th>zone_temp</th>\n",
       "      <th>occupancy</th>\n",
       "      <th>supply_temp</th>\n",
       "      <th>air_flow</th>\n",
       "    </tr>\n",
       "    <tr>\n",
       "      <th>time</th>\n",
       "      <th></th>\n",
       "      <th></th>\n",
       "      <th></th>\n",
       "      <th></th>\n",
       "      <th></th>\n",
       "    </tr>\n",
       "  </thead>\n",
       "  <tbody>\n",
       "    <tr>\n",
       "      <th>2017-05-07 07:00:00</th>\n",
       "      <td>12.000000</td>\n",
       "      <td>21.100001</td>\n",
       "      <td>0</td>\n",
       "      <td>20.827068</td>\n",
       "      <td>0.274855</td>\n",
       "    </tr>\n",
       "    <tr>\n",
       "      <th>2017-05-07 07:05:00</th>\n",
       "      <td>12.250000</td>\n",
       "      <td>21.100000</td>\n",
       "      <td>0</td>\n",
       "      <td>20.741153</td>\n",
       "      <td>0.263595</td>\n",
       "    </tr>\n",
       "    <tr>\n",
       "      <th>2017-05-07 07:10:00</th>\n",
       "      <td>12.500000</td>\n",
       "      <td>21.100000</td>\n",
       "      <td>0</td>\n",
       "      <td>20.634974</td>\n",
       "      <td>0.253384</td>\n",
       "    </tr>\n",
       "    <tr>\n",
       "      <th>2017-05-07 07:15:00</th>\n",
       "      <td>12.750000</td>\n",
       "      <td>21.109147</td>\n",
       "      <td>0</td>\n",
       "      <td>20.620023</td>\n",
       "      <td>0.244178</td>\n",
       "    </tr>\n",
       "    <tr>\n",
       "      <th>2017-05-07 07:20:00</th>\n",
       "      <td>13.000000</td>\n",
       "      <td>21.126521</td>\n",
       "      <td>0</td>\n",
       "      <td>20.565568</td>\n",
       "      <td>0.231877</td>\n",
       "    </tr>\n",
       "    <tr>\n",
       "      <th>2017-05-07 07:25:00</th>\n",
       "      <td>13.250000</td>\n",
       "      <td>21.145253</td>\n",
       "      <td>0</td>\n",
       "      <td>20.434462</td>\n",
       "      <td>0.214713</td>\n",
       "    </tr>\n",
       "    <tr>\n",
       "      <th>2017-05-07 07:30:00</th>\n",
       "      <td>13.500000</td>\n",
       "      <td>21.165633</td>\n",
       "      <td>0</td>\n",
       "      <td>20.321184</td>\n",
       "      <td>0.200177</td>\n",
       "    </tr>\n",
       "    <tr>\n",
       "      <th>2017-05-07 07:35:00</th>\n",
       "      <td>13.750000</td>\n",
       "      <td>21.190485</td>\n",
       "      <td>0</td>\n",
       "      <td>20.240551</td>\n",
       "      <td>0.188914</td>\n",
       "    </tr>\n",
       "    <tr>\n",
       "      <th>2017-05-07 07:40:00</th>\n",
       "      <td>14.000000</td>\n",
       "      <td>21.220927</td>\n",
       "      <td>0</td>\n",
       "      <td>20.165741</td>\n",
       "      <td>0.178706</td>\n",
       "    </tr>\n",
       "    <tr>\n",
       "      <th>2017-05-07 07:45:00</th>\n",
       "      <td>14.250000</td>\n",
       "      <td>21.256778</td>\n",
       "      <td>0</td>\n",
       "      <td>20.096048</td>\n",
       "      <td>0.169331</td>\n",
       "    </tr>\n",
       "    <tr>\n",
       "      <th>2017-05-07 07:50:00</th>\n",
       "      <td>14.500000</td>\n",
       "      <td>21.297564</td>\n",
       "      <td>0</td>\n",
       "      <td>20.031002</td>\n",
       "      <td>0.160627</td>\n",
       "    </tr>\n",
       "    <tr>\n",
       "      <th>2017-05-07 07:55:00</th>\n",
       "      <td>14.750000</td>\n",
       "      <td>21.342963</td>\n",
       "      <td>0</td>\n",
       "      <td>19.970866</td>\n",
       "      <td>0.152499</td>\n",
       "    </tr>\n",
       "    <tr>\n",
       "      <th>2017-05-07 08:00:00</th>\n",
       "      <td>15.000000</td>\n",
       "      <td>21.392751</td>\n",
       "      <td>0</td>\n",
       "      <td>19.914760</td>\n",
       "      <td>0.144871</td>\n",
       "    </tr>\n",
       "    <tr>\n",
       "      <th>2017-05-07 08:05:00</th>\n",
       "      <td>15.166667</td>\n",
       "      <td>21.762766</td>\n",
       "      <td>10</td>\n",
       "      <td>19.019664</td>\n",
       "      <td>0.209454</td>\n",
       "    </tr>\n",
       "    <tr>\n",
       "      <th>2017-05-07 08:10:00</th>\n",
       "      <td>15.333333</td>\n",
       "      <td>22.277787</td>\n",
       "      <td>10</td>\n",
       "      <td>18.903880</td>\n",
       "      <td>0.195728</td>\n",
       "    </tr>\n",
       "    <tr>\n",
       "      <th>2017-05-07 08:15:00</th>\n",
       "      <td>15.500000</td>\n",
       "      <td>22.605619</td>\n",
       "      <td>10</td>\n",
       "      <td>18.827723</td>\n",
       "      <td>0.186040</td>\n",
       "    </tr>\n",
       "    <tr>\n",
       "      <th>2017-05-07 08:20:00</th>\n",
       "      <td>15.666667</td>\n",
       "      <td>22.851168</td>\n",
       "      <td>10</td>\n",
       "      <td>18.742177</td>\n",
       "      <td>0.177794</td>\n",
       "    </tr>\n",
       "    <tr>\n",
       "      <th>2017-05-07 08:25:00</th>\n",
       "      <td>15.833333</td>\n",
       "      <td>23.061244</td>\n",
       "      <td>10</td>\n",
       "      <td>18.670054</td>\n",
       "      <td>0.170909</td>\n",
       "    </tr>\n",
       "    <tr>\n",
       "      <th>2017-05-07 08:30:00</th>\n",
       "      <td>16.000000</td>\n",
       "      <td>23.257284</td>\n",
       "      <td>10</td>\n",
       "      <td>18.605135</td>\n",
       "      <td>0.164537</td>\n",
       "    </tr>\n",
       "  </tbody>\n",
       "</table>\n",
       "</div>"
      ],
      "text/plain": [
       "                     outdoor_temp  zone_temp  occupancy  supply_temp  air_flow\n",
       "time                                                                          \n",
       "2017-05-07 07:00:00     12.000000  21.100001          0    20.827068  0.274855\n",
       "2017-05-07 07:05:00     12.250000  21.100000          0    20.741153  0.263595\n",
       "2017-05-07 07:10:00     12.500000  21.100000          0    20.634974  0.253384\n",
       "2017-05-07 07:15:00     12.750000  21.109147          0    20.620023  0.244178\n",
       "2017-05-07 07:20:00     13.000000  21.126521          0    20.565568  0.231877\n",
       "2017-05-07 07:25:00     13.250000  21.145253          0    20.434462  0.214713\n",
       "2017-05-07 07:30:00     13.500000  21.165633          0    20.321184  0.200177\n",
       "2017-05-07 07:35:00     13.750000  21.190485          0    20.240551  0.188914\n",
       "2017-05-07 07:40:00     14.000000  21.220927          0    20.165741  0.178706\n",
       "2017-05-07 07:45:00     14.250000  21.256778          0    20.096048  0.169331\n",
       "2017-05-07 07:50:00     14.500000  21.297564          0    20.031002  0.160627\n",
       "2017-05-07 07:55:00     14.750000  21.342963          0    19.970866  0.152499\n",
       "2017-05-07 08:00:00     15.000000  21.392751          0    19.914760  0.144871\n",
       "2017-05-07 08:05:00     15.166667  21.762766         10    19.019664  0.209454\n",
       "2017-05-07 08:10:00     15.333333  22.277787         10    18.903880  0.195728\n",
       "2017-05-07 08:15:00     15.500000  22.605619         10    18.827723  0.186040\n",
       "2017-05-07 08:20:00     15.666667  22.851168         10    18.742177  0.177794\n",
       "2017-05-07 08:25:00     15.833333  23.061244         10    18.670054  0.170909\n",
       "2017-05-07 08:30:00     16.000000  23.257284         10    18.605135  0.164537"
      ]
     },
     "execution_count": 41,
     "metadata": {},
     "output_type": "execute_result"
    }
   ],
   "source": [
    "train_data = data.loc['2017-05-07 07:00:00':'2017-05-07 08:30:00']\n",
    "train_data"
   ]
  },
  {
   "cell_type": "code",
   "execution_count": 42,
   "metadata": {},
   "outputs": [
    {
     "data": {
      "text/html": [
       "<div>\n",
       "<style scoped>\n",
       "    .dataframe tbody tr th:only-of-type {\n",
       "        vertical-align: middle;\n",
       "    }\n",
       "\n",
       "    .dataframe tbody tr th {\n",
       "        vertical-align: top;\n",
       "    }\n",
       "\n",
       "    .dataframe thead th {\n",
       "        text-align: right;\n",
       "    }\n",
       "</style>\n",
       "<table border=\"1\" class=\"dataframe\">\n",
       "  <thead>\n",
       "    <tr style=\"text-align: right;\">\n",
       "      <th></th>\n",
       "      <th>outdoor_temp</th>\n",
       "      <th>zone_temp</th>\n",
       "      <th>occupancy</th>\n",
       "      <th>supply_temp</th>\n",
       "      <th>air_flow</th>\n",
       "    </tr>\n",
       "    <tr>\n",
       "      <th>time</th>\n",
       "      <th></th>\n",
       "      <th></th>\n",
       "      <th></th>\n",
       "      <th></th>\n",
       "      <th></th>\n",
       "    </tr>\n",
       "  </thead>\n",
       "  <tbody>\n",
       "    <tr>\n",
       "      <th>2017-05-07 09:00:00</th>\n",
       "      <td>17.000000</td>\n",
       "      <td>23.902443</td>\n",
       "      <td>10</td>\n",
       "      <td>18.350717</td>\n",
       "      <td>0.226165</td>\n",
       "    </tr>\n",
       "    <tr>\n",
       "      <th>2017-05-07 09:05:00</th>\n",
       "      <td>17.166667</td>\n",
       "      <td>23.903349</td>\n",
       "      <td>10</td>\n",
       "      <td>18.091992</td>\n",
       "      <td>0.309248</td>\n",
       "    </tr>\n",
       "    <tr>\n",
       "      <th>2017-05-07 09:10:00</th>\n",
       "      <td>17.333333</td>\n",
       "      <td>23.903410</td>\n",
       "      <td>10</td>\n",
       "      <td>17.993223</td>\n",
       "      <td>0.321580</td>\n",
       "    </tr>\n",
       "    <tr>\n",
       "      <th>2017-05-07 09:15:00</th>\n",
       "      <td>17.500000</td>\n",
       "      <td>23.903320</td>\n",
       "      <td>10</td>\n",
       "      <td>18.011187</td>\n",
       "      <td>0.337378</td>\n",
       "    </tr>\n",
       "    <tr>\n",
       "      <th>2017-05-07 09:20:00</th>\n",
       "      <td>17.666667</td>\n",
       "      <td>23.903130</td>\n",
       "      <td>10</td>\n",
       "      <td>17.990881</td>\n",
       "      <td>0.349801</td>\n",
       "    </tr>\n",
       "    <tr>\n",
       "      <th>2017-05-07 09:25:00</th>\n",
       "      <td>17.833333</td>\n",
       "      <td>23.902946</td>\n",
       "      <td>10</td>\n",
       "      <td>17.991097</td>\n",
       "      <td>0.362166</td>\n",
       "    </tr>\n",
       "    <tr>\n",
       "      <th>2017-05-07 09:30:00</th>\n",
       "      <td>18.000000</td>\n",
       "      <td>23.902798</td>\n",
       "      <td>10</td>\n",
       "      <td>17.997195</td>\n",
       "      <td>0.373891</td>\n",
       "    </tr>\n",
       "    <tr>\n",
       "      <th>2017-05-07 09:35:00</th>\n",
       "      <td>18.166667</td>\n",
       "      <td>23.902694</td>\n",
       "      <td>10</td>\n",
       "      <td>18.019827</td>\n",
       "      <td>0.385847</td>\n",
       "    </tr>\n",
       "    <tr>\n",
       "      <th>2017-05-07 09:40:00</th>\n",
       "      <td>18.333333</td>\n",
       "      <td>23.902621</td>\n",
       "      <td>10</td>\n",
       "      <td>18.049040</td>\n",
       "      <td>0.397546</td>\n",
       "    </tr>\n",
       "    <tr>\n",
       "      <th>2017-05-07 09:45:00</th>\n",
       "      <td>18.500000</td>\n",
       "      <td>23.902569</td>\n",
       "      <td>10</td>\n",
       "      <td>18.084657</td>\n",
       "      <td>0.409103</td>\n",
       "    </tr>\n",
       "    <tr>\n",
       "      <th>2017-05-07 09:50:00</th>\n",
       "      <td>18.666667</td>\n",
       "      <td>23.902534</td>\n",
       "      <td>10</td>\n",
       "      <td>18.126349</td>\n",
       "      <td>0.420611</td>\n",
       "    </tr>\n",
       "    <tr>\n",
       "      <th>2017-05-07 09:55:00</th>\n",
       "      <td>18.833333</td>\n",
       "      <td>23.902512</td>\n",
       "      <td>10</td>\n",
       "      <td>18.173689</td>\n",
       "      <td>0.432198</td>\n",
       "    </tr>\n",
       "    <tr>\n",
       "      <th>2017-05-07 10:00:00</th>\n",
       "      <td>19.000000</td>\n",
       "      <td>23.902500</td>\n",
       "      <td>10</td>\n",
       "      <td>18.226769</td>\n",
       "      <td>0.443862</td>\n",
       "    </tr>\n",
       "  </tbody>\n",
       "</table>\n",
       "</div>"
      ],
      "text/plain": [
       "                     outdoor_temp  zone_temp  occupancy  supply_temp  air_flow\n",
       "time                                                                          \n",
       "2017-05-07 09:00:00     17.000000  23.902443         10    18.350717  0.226165\n",
       "2017-05-07 09:05:00     17.166667  23.903349         10    18.091992  0.309248\n",
       "2017-05-07 09:10:00     17.333333  23.903410         10    17.993223  0.321580\n",
       "2017-05-07 09:15:00     17.500000  23.903320         10    18.011187  0.337378\n",
       "2017-05-07 09:20:00     17.666667  23.903130         10    17.990881  0.349801\n",
       "2017-05-07 09:25:00     17.833333  23.902946         10    17.991097  0.362166\n",
       "2017-05-07 09:30:00     18.000000  23.902798         10    17.997195  0.373891\n",
       "2017-05-07 09:35:00     18.166667  23.902694         10    18.019827  0.385847\n",
       "2017-05-07 09:40:00     18.333333  23.902621         10    18.049040  0.397546\n",
       "2017-05-07 09:45:00     18.500000  23.902569         10    18.084657  0.409103\n",
       "2017-05-07 09:50:00     18.666667  23.902534         10    18.126349  0.420611\n",
       "2017-05-07 09:55:00     18.833333  23.902512         10    18.173689  0.432198\n",
       "2017-05-07 10:00:00     19.000000  23.902500         10    18.226769  0.443862"
      ]
     },
     "execution_count": 42,
     "metadata": {},
     "output_type": "execute_result"
    }
   ],
   "source": [
    "test_data = data.loc['2017-05-07 09:00:00':'2017-05-07 10:00:00']\n",
    "test_data"
   ]
  },
  {
   "cell_type": "code",
   "execution_count": 43,
   "metadata": {},
   "outputs": [
    {
     "data": {
      "image/png": "[encoded data removed]",
      "text/plain": [
       "<Figure size 1008x576 with 1 Axes>"
      ]
     },
     "metadata": {
      "needs_background": "light"
     },
     "output_type": "display_data"
    }
   ],
   "source": [
    "import matplotlib.pyplot as plt\n",
    "import matplotlib.dates as mdates\n",
    "from datetime import datetime\n",
    "\n",
    "fig, ax = plt.subplots()\n",
    "hours = mdates.HourLocator(interval = 1)\n",
    "h_fmt = mdates.DateFormatter('%H:%M:%S')\n",
    "\n",
    "ax.plot(train_data.index, train_data['supply_temp'].values, color = 'black', linewidth = 0.8)\n",
    "#or use\n",
    "train_data['supply_temp'].plot(ax = ax, color = 'black', linewidth = 0.4, x_compat=True)\n",
    "#Then tick and format with matplotlib:\n",
    "ax.xaxis.set_major_locator(hours)\n",
    "ax.xaxis.set_major_formatter(h_fmt)\n",
    "\n",
    "fig.autofmt_xdate()\n",
    "fig.set_size_inches(14, 8)\n",
    "plt.show()"
   ]
  },
  {
   "cell_type": "code",
   "execution_count": 44,
   "metadata": {},
   "outputs": [
    {
     "data": {
      "image/png": "[encoded data removed]",
      "text/plain": [
       "<Figure size 1008x576 with 1 Axes>"
      ]
     },
     "metadata": {
      "needs_background": "light"
     },
     "output_type": "display_data"
    }
   ],
   "source": [
    "import matplotlib.pyplot as plt\n",
    "import matplotlib.dates as mdates\n",
    "from datetime import datetime\n",
    "\n",
    "fig, ax = plt.subplots()\n",
    "hours = mdates.HourLocator(interval = 1)\n",
    "h_fmt = mdates.DateFormatter('%H:%M:%S')\n",
    "\n",
    "ax.plot(train_data.index, train_data['zone_temp'].values, color = 'red', linewidth = 0.8)\n",
    "ax.plot(train_data.index, train_data['supply_temp'].values, color = 'green', linewidth = 0.8)\n",
    "ax.plot(train_data.index, train_data['occupancy'].values, color = 'black', linewidth = 0.8)\n",
    "ax.plot(train_data.index, train_data['outdoor_temp'].values, color = 'violet', linewidth = 0.8)\n",
    "#or use\n",
    "train_data['zone_temp'].plot(ax = ax, color = 'black', linewidth = 0.4, x_compat=True)\n",
    "train_data['supply_temp'].plot(ax = ax, color = 'black', linewidth = 0.4, x_compat=True)\n",
    "train_data['occupancy'].plot(ax = ax, color = 'black', linewidth = 0.4, x_compat=True)\n",
    "train_data['outdoor_temp'].plot(ax = ax, color = 'black', linewidth = 0.4, x_compat=True)\n",
    "#Then tick and format with matplotlib:\n",
    "ax.xaxis.set_major_locator(hours)\n",
    "ax.xaxis.set_major_formatter(h_fmt)\n",
    "\n",
    "fig.autofmt_xdate()\n",
    "fig.set_size_inches(14, 8)\n",
    "plt.show()"
   ]
  },
  {
   "cell_type": "code",
   "execution_count": 45,
   "metadata": {},
   "outputs": [
    {
     "data": {
      "image/png": "[encoded data removed]",
      "text/plain": [
       "<Figure size 1008x576 with 1 Axes>"
      ]
     },
     "metadata": {
      "needs_background": "light"
     },
     "output_type": "display_data"
    }
   ],
   "source": [
    "import matplotlib.pyplot as plt\n",
    "import matplotlib.dates as mdates\n",
    "from datetime import datetime\n",
    "\n",
    "fig, ax = plt.subplots()\n",
    "hours = mdates.HourLocator(interval = 1)\n",
    "h_fmt = mdates.DateFormatter('%H:%M:%S')\n",
    "\n",
    "ax.plot(train_data.index, train_data['occupancy'].values, color = 'red', linewidth = 0.8)\n",
    "#or use\n",
    "train_data['occupancy'].plot(ax = ax, color = 'black', linewidth = 0.4, x_compat=True)\n",
    "#Then tick and format with matplotlib:\n",
    "ax.xaxis.set_major_locator(hours)\n",
    "ax.xaxis.set_major_formatter(h_fmt)\n",
    "\n",
    "fig.autofmt_xdate()\n",
    "fig.set_size_inches(14, 8)\n",
    "plt.show()"
   ]
  },
  {
   "cell_type": "code",
   "execution_count": 46,
   "metadata": {},
   "outputs": [
    {
     "data": {
      "text/plain": [
       "<matplotlib.collections.PathCollection at 0x7fd9060c3490>"
      ]
     },
     "execution_count": 46,
     "metadata": {},
     "output_type": "execute_result"
    },
    {
     "data": {
      "image/png": "[encoded data removed]",
      "text/plain": [
       "<Figure size 432x288 with 1 Axes>"
      ]
     },
     "metadata": {
      "needs_background": "light"
     },
     "output_type": "display_data"
    }
   ],
   "source": [
    "import matplotlib.pyplot as plt \n",
    "\n",
    "plt.scatter(train_data['supply_temp'],train_data['zone_temp'])"
   ]
  },
  {
   "cell_type": "code",
   "execution_count": 47,
   "metadata": {
    "scrolled": true
   },
   "outputs": [
    {
     "data": {
      "text/plain": [
       "<matplotlib.collections.PathCollection at 0x7fd90608da90>"
      ]
     },
     "execution_count": 47,
     "metadata": {},
     "output_type": "execute_result"
    },
    {
     "data": {
      "image/png": "[encoded data removed]",
      "text/plain": [
       "<Figure size 432x288 with 1 Axes>"
      ]
     },
     "metadata": {
      "needs_background": "light"
     },
     "output_type": "display_data"
    }
   ],
   "source": [
    "plt.scatter(train_data['air_flow'],train_data['zone_temp'])"
   ]
  },
  {
   "cell_type": "code",
   "execution_count": 48,
   "metadata": {},
   "outputs": [
    {
     "data": {
      "text/plain": [
       "<matplotlib.axes._subplots.AxesSubplot at 0x7fd9060aa6d0>"
      ]
     },
     "execution_count": 48,
     "metadata": {},
     "output_type": "execute_result"
    },
    {
     "data": {
      "image/png": "[encoded data removed]",
      "text/plain": [
       "<Figure size 864x864 with 2 Axes>"
      ]
     },
     "metadata": {
      "needs_background": "light"
     },
     "output_type": "display_data"
    }
   ],
   "source": [
    "import seaborn as sns\n",
    "plt.figure(figsize=(12,12))\n",
    "sns.heatmap(data.corr())"
   ]
  },
  {
   "cell_type": "code",
   "execution_count": 49,
   "metadata": {},
   "outputs": [
    {
     "name": "stdout",
     "output_type": "stream",
     "text": [
      "Intercept: \n",
      " [188.07767114]\n",
      "Coefficients: \n",
      " [[-8.04102686 35.8304822  -0.78657845 -0.86504768]]\n"
     ]
    },
    {
     "data": {
      "text/plain": [
       "-736197227.6742915"
      ]
     },
     "execution_count": 49,
     "metadata": {},
     "output_type": "execute_result"
    }
   ],
   "source": [
    "from sklearn import linear_model\n",
    "import statsmodels.api as sm\n",
    "from sklearn.metrics import r2_score\n",
    "\n",
    "x = train_data[['supply_temp', 'air_flow','outdoor_temp','occupancy']]\n",
    "y = train_data[['zone_temp']]\n",
    "\n",
    "regr = linear_model.LinearRegression()\n",
    "regr.fit(x, y)\n",
    "\n",
    "print('Intercept: \\n', regr.intercept_)\n",
    "print('Coefficients: \\n', regr.coef_)\n",
    "\n",
    "x_test = test_data[['supply_temp', 'air_flow','outdoor_temp','occupancy']]\n",
    "y_test = test_data[['zone_temp']]\n",
    "y_test_predict = regr.predict(x_test)\n",
    "r2_score(y_test, y_test_predict)"
   ]
  },
  {
   "cell_type": "code",
   "execution_count": 50,
   "metadata": {},
   "outputs": [
    {
     "name": "stdout",
     "output_type": "stream",
     "text": [
      "                                 OLS Regression Results                                \n",
      "=======================================================================================\n",
      "Dep. Variable:              zone_temp   R-squared (uncentered):                   1.000\n",
      "Model:                            OLS   Adj. R-squared (uncentered):              1.000\n",
      "Method:                 Least Squares   F-statistic:                          2.228e+04\n",
      "Date:                Tue, 10 Nov 2020   Prob (F-statistic):                    4.21e-28\n",
      "Time:                        20:46:29   Log-Likelihood:                         -2.8409\n",
      "No. Observations:                  19   AIC:                                      13.68\n",
      "Df Residuals:                      15   BIC:                                      17.46\n",
      "Df Model:                           4                                                  \n",
      "Covariance Type:            nonrobust                                                  \n",
      "================================================================================\n",
      "                   coef    std err          t      P>|t|      [0.025      0.975]\n",
      "--------------------------------------------------------------------------------\n",
      "supply_temp      1.2220      0.853      1.433      0.173      -0.596       3.040\n",
      "air_flow       -13.7278     25.556     -0.537      0.599     -68.200      40.744\n",
      "outdoor_temp    -0.0626      0.897     -0.070      0.945      -1.974       1.849\n",
      "occupancy        0.3172      0.264      1.200      0.249      -0.246       0.880\n",
      "==============================================================================\n",
      "Omnibus:                        7.977   Durbin-Watson:                   0.760\n",
      "Prob(Omnibus):                  0.019   Jarque-Bera (JB):                6.473\n",
      "Skew:                          -0.693   Prob(JB):                       0.0393\n",
      "Kurtosis:                       5.501   Cond. No.                     8.68e+03\n",
      "==============================================================================\n",
      "\n",
      "Warnings:\n",
      "[1] Standard Errors assume that the covariance matrix of the errors is correctly specified.\n",
      "[2] The condition number is large, 8.68e+03. This might indicate that there are\n",
      "strong multicollinearity or other numerical problems.\n",
      "-201779090.542995\n"
     ]
    },
    {
     "name": "stderr",
     "output_type": "stream",
     "text": [
      "/Users/devanshukumar/opt/anaconda3/lib/python3.8/site-packages/scipy/stats/stats.py:1603: UserWarning: kurtosistest only valid for n>=20 ... continuing anyway, n=19\n",
      "  warnings.warn(\"kurtosistest only valid for n>=20 ... continuing \"\n"
     ]
    }
   ],
   "source": [
    "#x = sm.add_constant(train_data['outdoor_temp']) # adding a constant\n",
    " \n",
    "model = sm.OLS(y, x).fit()\n",
    "y_pred = model.predict(x_test) \n",
    "\n",
    "print_model = model.summary()\n",
    "print(print_model)\n",
    "print(r2_score(y_test, y_pred))"
   ]
  },
  {
   "cell_type": "code",
   "execution_count": 51,
   "metadata": {},
   "outputs": [
    {
     "data": {
      "text/plain": [
       "array([2.47601095, 3.943155  , 4.24359243, 4.4489465 , 4.65474189,\n",
       "       4.83466589, 4.99861451, 5.14552249, 5.28087391, 5.40643607,\n",
       "       5.52391438, 5.63556703, 5.74125877])"
      ]
     },
     "execution_count": 51,
     "metadata": {},
     "output_type": "execute_result"
    }
   ],
   "source": [
    "from statsmodels.tools.eval_measures import rmse\n",
    "\n",
    "error = rmse(y_test, y_pred)\n",
    "error"
   ]
  },
  {
   "cell_type": "code",
   "execution_count": 61,
   "metadata": {},
   "outputs": [
    {
     "data": {
      "text/html": [
       "<div>\n",
       "<style scoped>\n",
       "    .dataframe tbody tr th:only-of-type {\n",
       "        vertical-align: middle;\n",
       "    }\n",
       "\n",
       "    .dataframe tbody tr th {\n",
       "        vertical-align: top;\n",
       "    }\n",
       "\n",
       "    .dataframe thead th {\n",
       "        text-align: right;\n",
       "    }\n",
       "</style>\n",
       "<table border=\"1\" class=\"dataframe\">\n",
       "  <thead>\n",
       "    <tr style=\"text-align: right;\">\n",
       "      <th></th>\n",
       "      <th>zone_temp</th>\n",
       "    </tr>\n",
       "    <tr>\n",
       "      <th>time</th>\n",
       "      <th></th>\n",
       "    </tr>\n",
       "  </thead>\n",
       "  <tbody>\n",
       "    <tr>\n",
       "      <th>2017-05-07 09:00:00</th>\n",
       "      <td>23.902443</td>\n",
       "    </tr>\n",
       "    <tr>\n",
       "      <th>2017-05-07 09:05:00</th>\n",
       "      <td>23.903349</td>\n",
       "    </tr>\n",
       "    <tr>\n",
       "      <th>2017-05-07 09:10:00</th>\n",
       "      <td>23.903410</td>\n",
       "    </tr>\n",
       "    <tr>\n",
       "      <th>2017-05-07 09:15:00</th>\n",
       "      <td>23.903320</td>\n",
       "    </tr>\n",
       "    <tr>\n",
       "      <th>2017-05-07 09:20:00</th>\n",
       "      <td>23.903130</td>\n",
       "    </tr>\n",
       "    <tr>\n",
       "      <th>2017-05-07 09:25:00</th>\n",
       "      <td>23.902946</td>\n",
       "    </tr>\n",
       "    <tr>\n",
       "      <th>2017-05-07 09:30:00</th>\n",
       "      <td>23.902798</td>\n",
       "    </tr>\n",
       "    <tr>\n",
       "      <th>2017-05-07 09:35:00</th>\n",
       "      <td>23.902694</td>\n",
       "    </tr>\n",
       "    <tr>\n",
       "      <th>2017-05-07 09:40:00</th>\n",
       "      <td>23.902621</td>\n",
       "    </tr>\n",
       "    <tr>\n",
       "      <th>2017-05-07 09:45:00</th>\n",
       "      <td>23.902569</td>\n",
       "    </tr>\n",
       "    <tr>\n",
       "      <th>2017-05-07 09:50:00</th>\n",
       "      <td>23.902534</td>\n",
       "    </tr>\n",
       "    <tr>\n",
       "      <th>2017-05-07 09:55:00</th>\n",
       "      <td>23.902512</td>\n",
       "    </tr>\n",
       "    <tr>\n",
       "      <th>2017-05-07 10:00:00</th>\n",
       "      <td>23.902500</td>\n",
       "    </tr>\n",
       "  </tbody>\n",
       "</table>\n",
       "</div>"
      ],
      "text/plain": [
       "                     zone_temp\n",
       "time                          \n",
       "2017-05-07 09:00:00  23.902443\n",
       "2017-05-07 09:05:00  23.903349\n",
       "2017-05-07 09:10:00  23.903410\n",
       "2017-05-07 09:15:00  23.903320\n",
       "2017-05-07 09:20:00  23.903130\n",
       "2017-05-07 09:25:00  23.902946\n",
       "2017-05-07 09:30:00  23.902798\n",
       "2017-05-07 09:35:00  23.902694\n",
       "2017-05-07 09:40:00  23.902621\n",
       "2017-05-07 09:45:00  23.902569\n",
       "2017-05-07 09:50:00  23.902534\n",
       "2017-05-07 09:55:00  23.902512\n",
       "2017-05-07 10:00:00  23.902500"
      ]
     },
     "execution_count": 61,
     "metadata": {},
     "output_type": "execute_result"
    }
   ],
   "source": [
    "y_test"
   ]
  },
  {
   "cell_type": "code",
   "execution_count": 62,
   "metadata": {},
   "outputs": [
    {
     "data": {
      "text/plain": [
       "array([22.56515557, 22.57438791, 22.58052937, 22.58450377, 22.58893715,\n",
       "       22.59284728, 22.59647844, 22.59965702, 22.60254409, 22.60514024,\n",
       "       22.60744809, 22.60947147, 22.61120563])"
      ]
     },
     "execution_count": 62,
     "metadata": {},
     "output_type": "execute_result"
    }
   ],
   "source": [
    "y_pred"
   ]
  },
  {
   "cell_type": "code",
   "execution_count": 54,
   "metadata": {},
   "outputs": [
    {
     "name": "stdout",
     "output_type": "stream",
     "text": [
      "1.30919127649702\n",
      "y_test:  [23.90244276 23.90334888 23.90340954 23.90332036 23.90313037 23.90294551\n",
      " 23.90279786 23.90269397 23.90262055 23.90256908 23.90253402 23.90251197\n",
      " 23.90250006]\n",
      "y_pred:  [22.56515557 22.57438791 22.58052937 22.58450377 22.58893715 22.59284728\n",
      " 22.59647844 22.59965702 22.60254409 22.60514024 22.60744809 22.60947147\n",
      " 22.61120563]\n"
     ]
    },
    {
     "name": "stderr",
     "output_type": "stream",
     "text": [
      "/Users/devanshukumar/opt/anaconda3/lib/python3.8/site-packages/sklearn/utils/validation.py:73: DataConversionWarning: A column-vector y was passed when a 1d array was expected. Please change the shape of y to (n_samples, ), for example using ravel().\n",
      "  return f(**kwargs)\n"
     ]
    }
   ],
   "source": [
    "from sklearn.svm import SVR\n",
    "from sklearn.metrics import r2_score, mean_squared_error\n",
    "import numpy as np\n",
    "regressor = SVR()\n",
    "model = regressor.fit(x, y)\n",
    "y_pred = model.predict(x_test)\n",
    "mse = mean_squared_error(y_test, y_pred)\n",
    "rmse = np.sqrt(mse)\n",
    "print(rmse)\n",
    "print('y_test: ',y_test.zone_temp.values)\n",
    "print('y_pred: ',y_pred)"
   ]
  },
  {
   "cell_type": "code",
   "execution_count": 55,
   "metadata": {},
   "outputs": [
    {
     "data": {
      "text/html": [
       "<div>\n",
       "<style scoped>\n",
       "    .dataframe tbody tr th:only-of-type {\n",
       "        vertical-align: middle;\n",
       "    }\n",
       "\n",
       "    .dataframe tbody tr th {\n",
       "        vertical-align: top;\n",
       "    }\n",
       "\n",
       "    .dataframe thead th {\n",
       "        text-align: right;\n",
       "    }\n",
       "</style>\n",
       "<table border=\"1\" class=\"dataframe\">\n",
       "  <thead>\n",
       "    <tr style=\"text-align: right;\">\n",
       "      <th></th>\n",
       "      <th>outdoor_temp</th>\n",
       "      <th>zone_temp</th>\n",
       "      <th>occupancy</th>\n",
       "      <th>supply_temp</th>\n",
       "      <th>air_flow</th>\n",
       "    </tr>\n",
       "    <tr>\n",
       "      <th>time</th>\n",
       "      <th></th>\n",
       "      <th></th>\n",
       "      <th></th>\n",
       "      <th></th>\n",
       "      <th></th>\n",
       "    </tr>\n",
       "  </thead>\n",
       "  <tbody>\n",
       "    <tr>\n",
       "      <th>2017-01-01 00:00:00</th>\n",
       "      <td>2.200</td>\n",
       "      <td>22.832449</td>\n",
       "      <td>0</td>\n",
       "      <td>25.000003</td>\n",
       "      <td>0.733767</td>\n",
       "    </tr>\n",
       "    <tr>\n",
       "      <th>2017-01-01 00:05:00</th>\n",
       "      <td>1.825</td>\n",
       "      <td>22.824465</td>\n",
       "      <td>0</td>\n",
       "      <td>25.000003</td>\n",
       "      <td>0.733767</td>\n",
       "    </tr>\n",
       "    <tr>\n",
       "      <th>2017-01-01 00:10:00</th>\n",
       "      <td>1.450</td>\n",
       "      <td>22.812760</td>\n",
       "      <td>0</td>\n",
       "      <td>25.000003</td>\n",
       "      <td>0.733767</td>\n",
       "    </tr>\n",
       "    <tr>\n",
       "      <th>2017-01-01 00:15:00</th>\n",
       "      <td>1.075</td>\n",
       "      <td>22.799019</td>\n",
       "      <td>0</td>\n",
       "      <td>25.000003</td>\n",
       "      <td>0.733767</td>\n",
       "    </tr>\n",
       "    <tr>\n",
       "      <th>2017-01-01 00:20:00</th>\n",
       "      <td>0.700</td>\n",
       "      <td>22.784421</td>\n",
       "      <td>0</td>\n",
       "      <td>25.000003</td>\n",
       "      <td>0.733767</td>\n",
       "    </tr>\n",
       "    <tr>\n",
       "      <th>...</th>\n",
       "      <td>...</td>\n",
       "      <td>...</td>\n",
       "      <td>...</td>\n",
       "      <td>...</td>\n",
       "      <td>...</td>\n",
       "    </tr>\n",
       "    <tr>\n",
       "      <th>2017-12-31 23:40:00</th>\n",
       "      <td>6.000</td>\n",
       "      <td>22.990503</td>\n",
       "      <td>0</td>\n",
       "      <td>25.000004</td>\n",
       "      <td>0.733767</td>\n",
       "    </tr>\n",
       "    <tr>\n",
       "      <th>2017-12-31 23:45:00</th>\n",
       "      <td>6.000</td>\n",
       "      <td>22.988552</td>\n",
       "      <td>0</td>\n",
       "      <td>25.000004</td>\n",
       "      <td>0.733767</td>\n",
       "    </tr>\n",
       "    <tr>\n",
       "      <th>2017-12-31 23:50:00</th>\n",
       "      <td>6.000</td>\n",
       "      <td>22.986715</td>\n",
       "      <td>0</td>\n",
       "      <td>25.000004</td>\n",
       "      <td>0.733767</td>\n",
       "    </tr>\n",
       "    <tr>\n",
       "      <th>2017-12-31 23:55:00</th>\n",
       "      <td>6.000</td>\n",
       "      <td>22.984990</td>\n",
       "      <td>0</td>\n",
       "      <td>25.000004</td>\n",
       "      <td>0.733767</td>\n",
       "    </tr>\n",
       "    <tr>\n",
       "      <th>2018-01-01 00:00:00</th>\n",
       "      <td>6.000</td>\n",
       "      <td>22.983374</td>\n",
       "      <td>0</td>\n",
       "      <td>25.000004</td>\n",
       "      <td>0.733767</td>\n",
       "    </tr>\n",
       "  </tbody>\n",
       "</table>\n",
       "<p>105121 rows × 5 columns</p>\n",
       "</div>"
      ],
      "text/plain": [
       "                     outdoor_temp  zone_temp  occupancy  supply_temp  air_flow\n",
       "time                                                                          \n",
       "2017-01-01 00:00:00         2.200  22.832449          0    25.000003  0.733767\n",
       "2017-01-01 00:05:00         1.825  22.824465          0    25.000003  0.733767\n",
       "2017-01-01 00:10:00         1.450  22.812760          0    25.000003  0.733767\n",
       "2017-01-01 00:15:00         1.075  22.799019          0    25.000003  0.733767\n",
       "2017-01-01 00:20:00         0.700  22.784421          0    25.000003  0.733767\n",
       "...                           ...        ...        ...          ...       ...\n",
       "2017-12-31 23:40:00         6.000  22.990503          0    25.000004  0.733767\n",
       "2017-12-31 23:45:00         6.000  22.988552          0    25.000004  0.733767\n",
       "2017-12-31 23:50:00         6.000  22.986715          0    25.000004  0.733767\n",
       "2017-12-31 23:55:00         6.000  22.984990          0    25.000004  0.733767\n",
       "2018-01-01 00:00:00         6.000  22.983374          0    25.000004  0.733767\n",
       "\n",
       "[105121 rows x 5 columns]"
      ]
     },
     "execution_count": 55,
     "metadata": {},
     "output_type": "execute_result"
    }
   ],
   "source": [
    "data"
   ]
  },
  {
   "cell_type": "code",
   "execution_count": 56,
   "metadata": {},
   "outputs": [],
   "source": [
    "x = data[['supply_temp', 'air_flow','outdoor_temp','occupancy']]\n",
    "y = data[['zone_temp']]"
   ]
  },
  {
   "cell_type": "code",
   "execution_count": 165,
   "metadata": {},
   "outputs": [
    {
     "name": "stdout",
     "output_type": "stream",
     "text": [
      "[22.6 22.6 22.6 22.6 22.6 22.6 22.6 22.6 22.6 22.6 22.6 22.6 22.6]\n",
      "[23.9 23.9 23.9 23.9 23.9 23.9 23.9 23.9 23.9 23.9 23.9 23.9 23.9]\n"
     ]
    },
    {
     "data": {
      "image/png": "[encoded data removed]",
      "text/plain": [
       "<Figure size 432x288 with 1 Axes>"
      ]
     },
     "metadata": {
      "needs_background": "light"
     },
     "output_type": "display_data"
    }
   ],
   "source": [
    "import matplotlib.pyplot as plt\n",
    "from scipy.stats import norm\n",
    "\n",
    "test = np.round(y_pred,1)\n",
    "test2 = np.round(y_test['zone_temp'],1)\n",
    "plt.hist(test)\n",
    "print(test)\n",
    "print(test2.values)"
   ]
  },
  {
   "cell_type": "code",
   "execution_count": 166,
   "metadata": {},
   "outputs": [
    {
     "data": {
      "text/plain": [
       "(array([ 0.,  0.,  0.,  0.,  0., 13.,  0.,  0.,  0.,  0.]),\n",
       " array([23.4, 23.5, 23.6, 23.7, 23.8, 23.9, 24. , 24.1, 24.2, 24.3, 24.4]),\n",
       " <a list of 10 Patch objects>)"
      ]
     },
     "execution_count": 166,
     "metadata": {},
     "output_type": "execute_result"
    },
    {
     "data": {
      "image/png": "[encoded data removed]",
      "text/plain": [
       "<Figure size 432x288 with 1 Axes>"
      ]
     },
     "metadata": {
      "needs_background": "light"
     },
     "output_type": "display_data"
    }
   ],
   "source": [
    "plt.hist(test2)"
   ]
  },
  {
   "cell_type": "code",
   "execution_count": 167,
   "metadata": {},
   "outputs": [
    {
     "data": {
      "text/plain": [
       "(array([13]), array([22.58, 22.6 ]))"
      ]
     },
     "execution_count": 167,
     "metadata": {},
     "output_type": "execute_result"
    }
   ],
   "source": [
    "t = np.histogram(test, bins = [22.58, 22.60])\n",
    "t"
   ]
  },
  {
   "cell_type": "code",
   "execution_count": 168,
   "metadata": {},
   "outputs": [],
   "source": [
    "s = pd.Series(test)\n",
    "t = (s.groupby(s).transform('count') / len(s)).values"
   ]
  },
  {
   "cell_type": "code",
   "execution_count": 169,
   "metadata": {},
   "outputs": [
    {
     "data": {
      "text/plain": [
       "13.0"
      ]
     },
     "execution_count": 169,
     "metadata": {},
     "output_type": "execute_result"
    }
   ],
   "source": [
    "sum = 0\n",
    "for i in range(0,len(t)):\n",
    "    sum = sum + t[i]\n",
    "sum"
   ]
  },
  {
   "cell_type": "code",
   "execution_count": 170,
   "metadata": {},
   "outputs": [
    {
     "data": {
      "text/plain": [
       "Counter({22.6: 13})"
      ]
     },
     "execution_count": 170,
     "metadata": {},
     "output_type": "execute_result"
    }
   ],
   "source": [
    "from collections import Counter\n",
    "v = np.array([1, 2, 2, 3, 3, 3, 3, 3, 3, 2, 2, 1]) \n",
    "freq_dict = Counter(test)\n",
    "freq_dict"
   ]
  },
  {
   "cell_type": "code",
   "execution_count": 171,
   "metadata": {},
   "outputs": [
    {
     "data": {
      "text/plain": [
       "{22.6: 1.0}"
      ]
     },
     "execution_count": 171,
     "metadata": {},
     "output_type": "execute_result"
    }
   ],
   "source": [
    "prob_dict = dict((k,round(val/len(test),2)) for k, val in freq_dict.items())\n",
    "prob_dict"
   ]
  },
  {
   "cell_type": "code",
   "execution_count": 172,
   "metadata": {},
   "outputs": [
    {
     "data": {
      "text/plain": [
       "[1.0]"
      ]
     },
     "execution_count": 172,
     "metadata": {},
     "output_type": "execute_result"
    }
   ],
   "source": [
    "temp = list(prob_dict.values())\n",
    "temp"
   ]
  },
  {
   "cell_type": "code",
   "execution_count": 173,
   "metadata": {},
   "outputs": [
    {
     "name": "stdout",
     "output_type": "stream",
     "text": [
      "Counter({23.9: 13})\n"
     ]
    },
    {
     "data": {
      "text/plain": [
       "[1.0]"
      ]
     },
     "execution_count": 173,
     "metadata": {},
     "output_type": "execute_result"
    }
   ],
   "source": [
    "freq_dict = Counter(test2)\n",
    "print(freq_dict)\n",
    "prob_dict = dict((k,round(val/len(test2),3)) for k, val in freq_dict.items())\n",
    "temp1 = list(prob_dict.values())\n",
    "temp1"
   ]
  },
  {
   "cell_type": "code",
   "execution_count": 174,
   "metadata": {},
   "outputs": [
    {
     "data": {
      "text/plain": [
       "nan"
      ]
     },
     "execution_count": 174,
     "metadata": {},
     "output_type": "execute_result"
    }
   ],
   "source": [
    "from scipy.spatial import distance\n",
    "distance.jensenshannon(temp, [0, 0, 0.0, 0, 0]) ** 2"
   ]
  },
  {
   "cell_type": "code",
   "execution_count": null,
   "metadata": {},
   "outputs": [],
   "source": []
  },
  {
   "cell_type": "code",
   "execution_count": null,
   "metadata": {},
   "outputs": [],
   "source": []
  }
 ],
 "metadata": {
  "kernelspec": {
   "display_name": "Python 3",
   "language": "python",
   "name": "python3"
  },
  "language_info": {
   "codemirror_mode": {
    "name": "ipython",
    "version": 3
   },
   "file_extension": ".py",
   "mimetype": "text/x-python",
   "name": "python",
   "nbconvert_exporter": "python",
   "pygments_lexer": "ipython3",
   "version": "3.8.3"
  }
 },
 "nbformat": 4,
 "nbformat_minor": 4
}
