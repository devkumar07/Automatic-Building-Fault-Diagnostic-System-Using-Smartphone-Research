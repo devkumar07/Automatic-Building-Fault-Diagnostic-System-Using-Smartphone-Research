{
 "cells": [
  {
   "cell_type": "code",
   "execution_count": 186,
   "metadata": {},
   "outputs": [
    {
     "data": {
      "text/html": [
       "<div>\n",
       "<style scoped>\n",
       "    .dataframe tbody tr th:only-of-type {\n",
       "        vertical-align: middle;\n",
       "    }\n",
       "\n",
       "    .dataframe tbody tr th {\n",
       "        vertical-align: top;\n",
       "    }\n",
       "\n",
       "    .dataframe thead th {\n",
       "        text-align: right;\n",
       "    }\n",
       "</style>\n",
       "<table border=\"1\" class=\"dataframe\">\n",
       "  <thead>\n",
       "    <tr style=\"text-align: right;\">\n",
       "      <th></th>\n",
       "      <th>outdoor_temp</th>\n",
       "      <th>zone_temp</th>\n",
       "      <th>occupancy</th>\n",
       "      <th>supply_temp</th>\n",
       "      <th>air_flow</th>\n",
       "    </tr>\n",
       "  </thead>\n",
       "  <tbody>\n",
       "    <tr>\n",
       "      <th>count</th>\n",
       "      <td>12.000000</td>\n",
       "      <td>12.000000</td>\n",
       "      <td>12.00000</td>\n",
       "      <td>12.000000</td>\n",
       "      <td>12.000000</td>\n",
       "    </tr>\n",
       "    <tr>\n",
       "      <th>mean</th>\n",
       "      <td>271.454167</td>\n",
       "      <td>294.127447</td>\n",
       "      <td>5.00000</td>\n",
       "      <td>296.218262</td>\n",
       "      <td>0.554818</td>\n",
       "    </tr>\n",
       "    <tr>\n",
       "      <th>std</th>\n",
       "      <td>0.703244</td>\n",
       "      <td>0.060387</td>\n",
       "      <td>5.22233</td>\n",
       "      <td>1.985296</td>\n",
       "      <td>0.184877</td>\n",
       "    </tr>\n",
       "    <tr>\n",
       "      <th>min</th>\n",
       "      <td>270.900000</td>\n",
       "      <td>294.100013</td>\n",
       "      <td>0.00000</td>\n",
       "      <td>294.180418</td>\n",
       "      <td>0.377812</td>\n",
       "    </tr>\n",
       "    <tr>\n",
       "      <th>25%</th>\n",
       "      <td>270.900000</td>\n",
       "      <td>294.100105</td>\n",
       "      <td>0.00000</td>\n",
       "      <td>294.318448</td>\n",
       "      <td>0.377812</td>\n",
       "    </tr>\n",
       "    <tr>\n",
       "      <th>50%</th>\n",
       "      <td>271.058333</td>\n",
       "      <td>294.100121</td>\n",
       "      <td>5.00000</td>\n",
       "      <td>296.266778</td>\n",
       "      <td>0.554818</td>\n",
       "    </tr>\n",
       "    <tr>\n",
       "      <th>75%</th>\n",
       "      <td>271.929167</td>\n",
       "      <td>294.108215</td>\n",
       "      <td>10.00000</td>\n",
       "      <td>298.119388</td>\n",
       "      <td>0.731824</td>\n",
       "    </tr>\n",
       "    <tr>\n",
       "      <th>max</th>\n",
       "      <td>272.800000</td>\n",
       "      <td>294.294280</td>\n",
       "      <td>10.00000</td>\n",
       "      <td>298.134578</td>\n",
       "      <td>0.731824</td>\n",
       "    </tr>\n",
       "  </tbody>\n",
       "</table>\n",
       "</div>"
      ],
      "text/plain": [
       "       outdoor_temp   zone_temp  occupancy  supply_temp   air_flow\n",
       "count     12.000000   12.000000   12.00000    12.000000  12.000000\n",
       "mean     271.454167  294.127447    5.00000   296.218262   0.554818\n",
       "std        0.703244    0.060387    5.22233     1.985296   0.184877\n",
       "min      270.900000  294.100013    0.00000   294.180418   0.377812\n",
       "25%      270.900000  294.100105    0.00000   294.318448   0.377812\n",
       "50%      271.058333  294.100121    5.00000   296.266778   0.554818\n",
       "75%      271.929167  294.108215   10.00000   298.119388   0.731824\n",
       "max      272.800000  294.294280   10.00000   298.134578   0.731824"
      ]
     },
     "execution_count": 186,
     "metadata": {},
     "output_type": "execute_result"
    }
   ],
   "source": [
    "import numpy as np\n",
    "import pandas as pd\n",
    "import matplotlib.pyplot as plt\n",
    "from sklearn import preprocessing\n",
    "from numpy import quantile, where, random\n",
    "import matplotlib.pyplot as plt\n",
    "import random\n",
    "from sklearn.neighbors import LocalOutlierFactor\n",
    "from sklearn.metrics import confusion_matrix, classification_report,accuracy_score\n",
    "\n",
    "data = pd.read_csv('data/result.csv')\n",
    "data['outdoor_temp'] = data['outdoor_temp'] +273\n",
    "data['zone_temp'] = data['zone_temp'] +273\n",
    "data['supply_temp'] = data['supply_temp'] +273\n",
    "\n",
    "\n",
    "train = data[91:103]\n",
    "train = train.reset_index(drop=True)\n",
    "test = data[103:115]\n",
    "test = test.reset_index(drop=True)\n",
    "train.describe()"
   ]
  },
  {
   "cell_type": "markdown",
   "metadata": {},
   "source": [
    "# Defining Essential Functions"
   ]
  },
  {
   "cell_type": "code",
   "execution_count": 187,
   "metadata": {},
   "outputs": [],
   "source": [
    "from numpy import random\n",
    "\n",
    "##Faults:\n",
    "# 1. Offset Fault: x' = a + x + err\n",
    "# 2. Gain Fault: x' = Bx+ err\n",
    "# 3. Stuck at Fault: x' = a\n",
    "# 4. Out-of-bound: x'<theta1 and x'>theta2\n",
    "\n",
    "#Function to simulate fault\n",
    "def simulateFault(sensedValues,params):\n",
    "    end_fault_index = int(len(sensedValues) * 0.5)\n",
    "    interval = end_fault_index/4\n",
    "    BMS = []\n",
    "    classification = []\n",
    "    \n",
    "    noise = random.rand(len(sensedValues)) * params['err']\n",
    "    for i in range(0, len(sensedValues)):\n",
    "        if i <= interval:\n",
    "            a = params['constant']\n",
    "            sign = random.randint(1,3)\n",
    "            if sign == 1:\n",
    "                BMS.append(noise[i] + a + sensedValues[i])\n",
    "            else:\n",
    "                BMS.append(-noise[i] + a + sensedValues[i])\n",
    "            classification.append(1)\n",
    "\n",
    "        elif i > interval and i <= interval*2:\n",
    "            B = params['coeff']\n",
    "            sign = random.randint(1,3)\n",
    "            if sign == 1:\n",
    "                BMS.append(noise[i] + B * sensedValues[i])\n",
    "            else:\n",
    "                BMS.append(-noise[i] + B * sensedValues[i])\n",
    "            classification.append(1)\n",
    "\n",
    "        elif i > interval*2 and i<= interval*3:\n",
    "            a = params['stuck']\n",
    "            BMS.append(a)\n",
    "            classification.append(1)\n",
    "            \n",
    "        elif i > interval*3 and i<= interval*4:\n",
    "            type_fault = random.randint(1,3)\n",
    "            low_bound = params['bounds'][0]\n",
    "            up_bound = params['bounds'][1]\n",
    "            if type_fault == 1:\n",
    "                BMS.append(low_bound-noise[i])\n",
    "            else:\n",
    "                BMS.append(up_bound + noise[i])\n",
    "            classification.append(1)\n",
    "        else:\n",
    "            BMS.append(noise[i] + sensedValues[i])\n",
    "            classification.append(0)\n",
    "\n",
    "    BMS = np.array(BMS)\n",
    "    BMS = BMS.round(decimals = 3)\n",
    "    sensedValues = sensedValues.round(decimals=3)\n",
    "    return np.array(BMS), np.array(classification)\n",
    "\n",
    "#Function to generate noise\n",
    "def generateNoise(noise, values):\n",
    "    noisy_data = []\n",
    "    for i in range(0,len(values)):\n",
    "        noisy_data.append(values[i]+random.uniform(-noise,noise))\n",
    "    return noisy_data\n",
    "\n",
    "#Function to model equation given the coeffs\n",
    "def modeled_equation(vals,coeffs):\n",
    "    x1 = []\n",
    "    x2 = []\n",
    "    x = []\n",
    "    y = []\n",
    "    for i in range(1,len(vals)):\n",
    "        c = (1231*240*(vals['zone_temp'][i]-vals['zone_temp'][i-1])/300)\n",
    "        c = c - (0.57*(vals['supply_temp'][i] - vals['zone_temp'][i])*1.005*vals['air_flow'][i])\n",
    "        c = c - 100 * vals['occupancy'][i]\n",
    "        y.append(c)\n",
    "        x1.append(100)\n",
    "        x2.append(vals['outdoor_temp'][i]-vals['zone_temp'][i])\n",
    "    inputs = {'x1':x1, 'x2':x2}\n",
    "    output = {'y':y}\n",
    "    return inputs, output\n",
    "\n",
    "#Function to define vectors for regression model\n",
    "def define_vectors(vals):\n",
    "    x1 = []\n",
    "    x2 = []\n",
    "    x = []\n",
    "    y = []\n",
    "    for i in range(1,len(vals)):\n",
    "        c = (1231*240*(vals['zone_temp'][i]-vals['zone_temp'][i-1])/300)\n",
    "        c = c - (0.57*(vals['supply_temp'][i] - vals['zone_temp'][i])*1.005*vals['air_flow'][i])\n",
    "        c = c - 100 * vals['occupancy'][i]\n",
    "        y.append(c)\n",
    "        x1.append(100)\n",
    "        x2.append((vals['outdoor_temp'][i]-vals['zone_temp'][i]))\n",
    "    inputs = {'x1':x1, 'x2':x2}\n",
    "    output = {'y':y}\n",
    "    return inputs, output"
   ]
  },
  {
   "cell_type": "code",
   "execution_count": 188,
   "metadata": {
    "scrolled": false
   },
   "outputs": [
    {
     "name": "stdout",
     "output_type": "stream",
     "text": [
      "{'x1': [100, 100, 100, 100, 100, 100, 100, 100, 100, 100, 100], 'x2': [-23.200124750000043, -23.20012251000003, -23.200120080000033, -23.20011751000004, -23.20011482000001, -22.883406882999964, -22.566709167, -22.250012889999994, -21.965813362999995, -21.718417896999995, -21.49427996999998]}\n",
      "{'y': [-0.869025638101852, -0.8716509001153234, -0.8736143880230134, -0.8749941062222272, -0.8758272625165431, -1000.183907641092, -1000.1108935758293, -1000.0628678829403, -968.0688819882948, -931.8343929756986, -908.9376771885003]}\n"
     ]
    }
   ],
   "source": [
    "inputs, output = define_vectors(train)\n",
    "#print(inputs['x'][1])\n",
    "# print(inputs['x1'][1])\n",
    "# print(inputs['x2'][1])\n",
    "# print(inputs['x3'][1])\n",
    "# print(output['y'][1])\n",
    "inputs_test, output_test = define_vectors(test)\n",
    "print(inputs)\n",
    "print(output)"
   ]
  },
  {
   "cell_type": "code",
   "execution_count": 189,
   "metadata": {},
   "outputs": [
    {
     "data": {
      "image/png": "[encoded data removed]",
      "text/plain": [
       "<Figure size 432x288 with 2 Axes>"
      ]
     },
     "metadata": {
      "needs_background": "light"
     },
     "output_type": "display_data"
    }
   ],
   "source": [
    "fig, axs = plt.subplots(2)\n",
    "fig.suptitle('PCA plots')\n",
    "axs[0].scatter(inputs['x1'], output['y'])\n",
    "axs[1].scatter(inputs['x2'], output['y'])\n",
    "plt.show()"
   ]
  },
  {
   "cell_type": "markdown",
   "metadata": {},
   "source": [
    "# Scaling data "
   ]
  },
  {
   "cell_type": "code",
   "execution_count": 190,
   "metadata": {
    "scrolled": false
   },
   "outputs": [],
   "source": [
    "from sklearn.preprocessing import StandardScaler\n",
    "import statsmodels.api as sm\n",
    "\n",
    "scaler1 = StandardScaler()\n",
    "scaler2 = StandardScaler()\n",
    "\n",
    "inputs = pd.DataFrame(data = inputs)\n",
    "#inputs = sm.add_constant(inputs) #We add constant because statsmodel library requires us. Otherwise, it would take the form: y = mx.\n",
    "output = pd.DataFrame(data = output)\n",
    "\n",
    "inputs_test = pd.DataFrame(data = inputs_test)\n",
    "#inputs_test = sm.add_constant(inputs_test)\n",
    "output_test = pd.DataFrame(data = output_test)\n",
    "\n",
    "inputs_scaled = scaler1.fit_transform(inputs)\n",
    "output_scaled = scaler2.fit_transform(output)\n",
    "\n",
    "inputs_scaled_test = scaler1.transform(inputs_test)\n",
    "output_scaled_test = scaler2.transform(output_test)"
   ]
  },
  {
   "cell_type": "markdown",
   "metadata": {},
   "source": [
    "# Fitting training data to OLS regression"
   ]
  },
  {
   "cell_type": "code",
   "execution_count": 191,
   "metadata": {},
   "outputs": [
    {
     "name": "stderr",
     "output_type": "stream",
     "text": [
      "/Users/devanshukumar/opt/anaconda3/lib/python3.8/site-packages/scipy/stats/stats.py:1603: UserWarning: kurtosistest only valid for n>=20 ... continuing anyway, n=11\n",
      "  warnings.warn(\"kurtosistest only valid for n>=20 ... continuing \"\n"
     ]
    },
    {
     "data": {
      "text/html": [
       "<table class=\"simpletable\">\n",
       "<caption>OLS Regression Results</caption>\n",
       "<tr>\n",
       "  <th>Dep. Variable:</th>            <td>y</td>        <th>  R-squared:         </th> <td>   0.640</td>\n",
       "</tr>\n",
       "<tr>\n",
       "  <th>Model:</th>                   <td>OLS</td>       <th>  Adj. R-squared:    </th> <td>   0.600</td>\n",
       "</tr>\n",
       "<tr>\n",
       "  <th>Method:</th>             <td>Least Squares</td>  <th>  F-statistic:       </th> <td>   16.02</td>\n",
       "</tr>\n",
       "<tr>\n",
       "  <th>Date:</th>             <td>Sun, 23 May 2021</td> <th>  Prob (F-statistic):</th>  <td>0.00310</td>\n",
       "</tr>\n",
       "<tr>\n",
       "  <th>Time:</th>                 <td>10:49:07</td>     <th>  Log-Likelihood:    </th> <td> -9.9854</td>\n",
       "</tr>\n",
       "<tr>\n",
       "  <th>No. Observations:</th>      <td>    11</td>      <th>  AIC:               </th> <td>   23.97</td>\n",
       "</tr>\n",
       "<tr>\n",
       "  <th>Df Residuals:</th>          <td>     9</td>      <th>  BIC:               </th> <td>   24.77</td>\n",
       "</tr>\n",
       "<tr>\n",
       "  <th>Df Model:</th>              <td>     1</td>      <th>                     </th>     <td> </td>   \n",
       "</tr>\n",
       "<tr>\n",
       "  <th>Covariance Type:</th>      <td>nonrobust</td>    <th>                     </th>     <td> </td>   \n",
       "</tr>\n",
       "</table>\n",
       "<table class=\"simpletable\">\n",
       "<tr>\n",
       "   <td></td>     <th>coef</th>     <th>std err</th>      <th>t</th>      <th>P>|t|</th>  <th>[0.025</th>    <th>0.975]</th>  \n",
       "</tr>\n",
       "<tr>\n",
       "  <th>x1</th> <td>   -0.2863</td> <td>    0.072</td> <td>   -4.001</td> <td> 0.003</td> <td>   -0.448</td> <td>   -0.124</td>\n",
       "</tr>\n",
       "<tr>\n",
       "  <th>x2</th> <td>   -1.2652</td> <td>    0.316</td> <td>   -4.002</td> <td> 0.003</td> <td>   -1.980</td> <td>   -0.550</td>\n",
       "</tr>\n",
       "</table>\n",
       "<table class=\"simpletable\">\n",
       "<tr>\n",
       "  <th>Omnibus:</th>       <td> 3.787</td> <th>  Durbin-Watson:     </th> <td>   0.898</td>\n",
       "</tr>\n",
       "<tr>\n",
       "  <th>Prob(Omnibus):</th> <td> 0.151</td> <th>  Jarque-Bera (JB):  </th> <td>   2.134</td>\n",
       "</tr>\n",
       "<tr>\n",
       "  <th>Skew:</th>          <td>-1.071</td> <th>  Prob(JB):          </th> <td>   0.344</td>\n",
       "</tr>\n",
       "<tr>\n",
       "  <th>Kurtosis:</th>      <td> 2.735</td> <th>  Cond. No.          </th> <td>    166.</td>\n",
       "</tr>\n",
       "</table><br/><br/>Notes:<br/>[1] Standard Errors assume that the covariance matrix of the errors is correctly specified."
      ],
      "text/plain": [
       "<class 'statsmodels.iolib.summary.Summary'>\n",
       "\"\"\"\n",
       "                            OLS Regression Results                            \n",
       "==============================================================================\n",
       "Dep. Variable:                      y   R-squared:                       0.640\n",
       "Model:                            OLS   Adj. R-squared:                  0.600\n",
       "Method:                 Least Squares   F-statistic:                     16.02\n",
       "Date:                Sun, 23 May 2021   Prob (F-statistic):            0.00310\n",
       "Time:                        10:49:07   Log-Likelihood:                -9.9854\n",
       "No. Observations:                  11   AIC:                             23.97\n",
       "Df Residuals:                       9   BIC:                             24.77\n",
       "Df Model:                           1                                         \n",
       "Covariance Type:            nonrobust                                         \n",
       "==============================================================================\n",
       "                 coef    std err          t      P>|t|      [0.025      0.975]\n",
       "------------------------------------------------------------------------------\n",
       "x1            -0.2863      0.072     -4.001      0.003      -0.448      -0.124\n",
       "x2            -1.2652      0.316     -4.002      0.003      -1.980      -0.550\n",
       "==============================================================================\n",
       "Omnibus:                        3.787   Durbin-Watson:                   0.898\n",
       "Prob(Omnibus):                  0.151   Jarque-Bera (JB):                2.134\n",
       "Skew:                          -1.071   Prob(JB):                        0.344\n",
       "Kurtosis:                       2.735   Cond. No.                         166.\n",
       "==============================================================================\n",
       "\n",
       "Notes:\n",
       "[1] Standard Errors assume that the covariance matrix of the errors is correctly specified.\n",
       "\"\"\""
      ]
     },
     "execution_count": 191,
     "metadata": {},
     "output_type": "execute_result"
    }
   ],
   "source": [
    "#x1: M_n\n",
    "#x2: Q_n\n",
    "#x3: R_n\n",
    "model = sm.OLS(output_scaled, inputs)\n",
    "results = model.fit()\n",
    "results.params\n",
    "results.summary()"
   ]
  },
  {
   "cell_type": "code",
   "execution_count": 192,
   "metadata": {},
   "outputs": [
    {
     "name": "stderr",
     "output_type": "stream",
     "text": [
      "/Users/devanshukumar/opt/anaconda3/lib/python3.8/site-packages/sklearn/utils/validation.py:72: DataConversionWarning: A column-vector y was passed when a 1d array was expected. Please change the shape of y to (n_samples, ), for example using ravel().\n",
      "  return f(**kwargs)\n"
     ]
    },
    {
     "data": {
      "text/plain": [
       "-0.6184841685338953"
      ]
     },
     "execution_count": 192,
     "metadata": {},
     "output_type": "execute_result"
    }
   ],
   "source": [
    "from sklearn.svm import SVR\n",
    "from sklearn.pipeline import make_pipeline\n",
    "\n",
    "regr = SVR(C=1.0, epsilon=0.02, kernel = 'rbf')\n",
    "regr.fit(inputs, output_scaled)\n",
    "regr.score(inputs,output_scaled)"
   ]
  },
  {
   "cell_type": "markdown",
   "metadata": {},
   "source": [
    "# Use Validation Data to check the MSE for the model"
   ]
  },
  {
   "cell_type": "code",
   "execution_count": 193,
   "metadata": {},
   "outputs": [
    {
     "name": "stdout",
     "output_type": "stream",
     "text": [
      "1.1792781275795732\n",
      "0.031110691492470456\n",
      "[[ -894.58091643]\n",
      " [ -892.76796961]\n",
      " [ -890.977744  ]\n",
      " [ -888.96637399]\n",
      " [ -887.00574229]\n",
      " [ -761.17336131]\n",
      " [ -967.47128928]\n",
      " [-1062.91392521]\n",
      " [-1027.95583418]\n",
      " [ -999.01534784]\n",
      " [ -991.62492839]]\n",
      "[-907.92735056 -907.92735189 -907.92735333 -907.92735485 -907.92735644\n",
      " -908.11493408 -908.30251696 -908.49009526 -908.65841032 -908.80490772\n",
      " -908.93761001]\n"
     ]
    }
   ],
   "source": [
    "from sklearn.metrics import mean_squared_error as mse\n",
    "pred = results.predict(inputs)\n",
    "pred_svr = regr.predict(inputs)\n",
    "err = mse(output_scaled_test,pred)\n",
    "err_svr = mse(output_scaled_test,pred_svr)\n",
    "\n",
    "# print(pred_svr)\n",
    "# print(output_scaled_test)\n",
    "\n",
    "print(err)\n",
    "print(err_svr)\n",
    "print(scaler2.inverse_transform(output_scaled_test))\n",
    "print(scaler2.inverse_transform(pred_svr))"
   ]
  },
  {
   "cell_type": "markdown",
   "metadata": {},
   "source": [
    "# Two model comparision: Ground Truth Vs Fault Data"
   ]
  },
  {
   "cell_type": "markdown",
   "metadata": {},
   "source": [
    "In this case, we take a random day (July 4th) and create two vectors: Ground Truth and Fault data. We assume that the sensor values already incorporate for noise and we just introduce fault for the fault_data vector. We use the build regression model to predict with the learnt coeffs and we use MSE metric to check the difference. "
   ]
  },
  {
   "cell_type": "code",
   "execution_count": 194,
   "metadata": {},
   "outputs": [
    {
     "name": "stdout",
     "output_type": "stream",
     "text": [
      "            time  outdoor_temp   zone_temp  occupancy  supply_temp  air_flow\n",
      "0   1/4/17 11:20    280.066667  295.455591          8      393.488     0.678\n",
      "1   1/4/17 11:25    280.158333  295.473160          8      393.244     0.697\n",
      "2   1/4/17 11:30    280.250000  295.490898          8      393.791     0.692\n",
      "3   1/4/17 11:35    280.341667  295.508343          8      499.383     0.569\n",
      "4   1/4/17 11:40    280.433333  295.525308          8      499.240     0.635\n",
      "5   1/4/17 11:45    280.525000  295.542031          8      498.947     0.629\n",
      "6   1/4/17 11:50    280.616667  295.558664          8      350.000     0.188\n",
      "7   1/4/17 11:55    280.708333  295.575307          8      350.000     0.188\n",
      "8   1/4/17 12:00    280.800000  295.591991          8      400.291     0.046\n",
      "9   1/4/17 12:05    280.841667  295.653042          4      400.491     0.035\n",
      "10  1/4/17 12:10    280.883333  295.720920          4      239.984     0.033\n",
      "11  1/4/17 12:15    280.925000  295.758948          4      294.678     0.562\n",
      "12  1/4/17 12:20    280.966667  295.776248          4      294.690     0.538\n",
      "13  1/4/17 12:25    281.008333  295.785590          4      294.836     0.552\n",
      "14  1/4/17 12:30    281.050000  295.793645          4      294.626     0.561\n",
      "15  1/4/17 12:35    281.091667  295.801886          4      294.468     0.564\n",
      "16  1/4/17 12:40    281.133333  295.809916          4      294.629     0.550\n",
      "17  1/4/17 12:45    281.175000  295.817391          4      294.851     0.546\n",
      "18  1/4/17 12:50    281.216667  295.824319          4      294.467     0.553\n",
      "19  1/4/17 12:55    281.258333  295.830930          4      294.810     0.565\n"
     ]
    }
   ],
   "source": [
    "ground_truth = data[1000:1020]\n",
    "ground_truth = ground_truth.reset_index(drop=True)\n",
    "#ground_truth['zone_temp'] = generateNoise(0.5, ground_truth['zone_temp'])\n",
    "\n",
    "fault_data = data[1000:1020]\n",
    "fault_data = fault_data.reset_index(drop=True)\n",
    "stuck_val = random.randint(16,32)\n",
    "# fault_data['zone_temp'],classification = simulateFault(fault_data['zone_temp'],{'constant': 4.5, 'coeff': 1.4, 'stuck': stuck_val, 'bounds': [16,40],'err':0.5})\n",
    "fault_data['supply_temp'],classification = simulateFault(fault_data['supply_temp'],{'constant': 100, 'coeff': 1.7, 'stuck': 350, 'bounds': [240,400],'err':0.5})\n",
    "stuck_val = random.uniform(0,1)\n",
    "fault_data['air_flow'],classification = simulateFault(fault_data['air_flow'], {'constant': 0.1, 'coeff': 1.005, 'stuck': stuck_val, 'bounds': [0.05,0.8],'err':0.05})\n",
    "# print(ground_truth)\n",
    "print(fault_data)"
   ]
  },
  {
   "cell_type": "code",
   "execution_count": 195,
   "metadata": {},
   "outputs": [],
   "source": [
    "ground_truth_input, ground_truth_output = define_vectors(ground_truth)\n",
    "fault_input, fault_output = define_vectors(fault_data)\n",
    "\n",
    "ground_truth_input = pd.DataFrame(data = ground_truth_input)\n",
    "ground_truth_input = sm.add_constant(ground_truth_input)\n",
    "ground_truth_output = pd.DataFrame(data = ground_truth_output)\n",
    "\n",
    "fault_input = pd.DataFrame(data = fault_input)\n",
    "fault_input = sm.add_constant(fault_input)\n",
    "fault_output = pd.DataFrame(data = fault_output)\n",
    "\n",
    "ground_truth_input = scaler1.transform(ground_truth_input)\n",
    "#ground_truth_output = scaler2.transform(ground_truth_output)\n",
    "fault_input = scaler1.transform(fault_input)\n",
    "#fault_output = scaler2.transform(fault_output)"
   ]
  },
  {
   "cell_type": "code",
   "execution_count": 196,
   "metadata": {
    "scrolled": false
   },
   "outputs": [
    {
     "name": "stdout",
     "output_type": "stream",
     "text": [
      "324289.96166478796\n",
      "340078.57551884814\n",
      "[-0.79670961 -0.79673195 -0.79675428 -0.79677665 -0.79679901 -0.79682129\n",
      " -0.79684348 -0.79686556 -0.79685986 -0.79685214 -0.79685322 -0.79686039\n",
      " -0.79686988 -0.79687974 -0.79688952 -0.79689935 -0.79690932 -0.79691942\n",
      " -0.7969296 ]\n",
      "[-0.79670961 -0.79673195 -0.79675428 -0.79677665 -0.79679901 -0.79682129\n",
      " -0.79684348 -0.79686556 -0.79685986 -0.79685214 -0.79685322 -0.79686039\n",
      " -0.79686988 -0.79687974 -0.79688952 -0.79689935 -0.79690932 -0.79691942\n",
      " -0.7969296 ]\n",
      "366768.114601416\n"
     ]
    }
   ],
   "source": [
    "pred_ground = results.predict(ground_truth_input)\n",
    "#print(ground_truth_input)\n",
    "print(mse(ground_truth_output,pred_ground))\n",
    "\n",
    "pred_ground_svr = regr.predict(ground_truth_input)\n",
    "print(mse(ground_truth_output,pred_ground_svr))\n",
    "\n",
    "#print(ground_truth_output[0:])\n",
    "print(pred_ground_svr[0:])\n",
    "\n",
    "pred_fault = results.predict(fault_input)\n",
    "pred_fault_svr = regr.predict(fault_input)\n",
    "#print(pred_fault)\n",
    "print(pred_fault_svr)\n",
    "#print(fault_output)\n",
    "#print(mse(fault_output,pred_fault))\n",
    "print(mse(fault_output,pred_fault_svr))"
   ]
  },
  {
   "cell_type": "code",
   "execution_count": 197,
   "metadata": {
    "scrolled": true
   },
   "outputs": [
    {
     "data": {
      "image/png": "[encoded data removed]",
      "text/plain": [
       "<Figure size 432x288 with 1 Axes>"
      ]
     },
     "metadata": {
      "needs_background": "light"
     },
     "output_type": "display_data"
    }
   ],
   "source": [
    "from scipy.stats import boxcox\n",
    "pred_ground = np.exp(pred_ground)\n",
    "# power transform\n",
    "data = boxcox(pred_ground, 0)\n",
    "plt.hist(pred_ground)\n",
    "plt.show()"
   ]
  },
  {
   "cell_type": "markdown",
   "metadata": {},
   "source": [
    "# Experiment: Feedback loop for data collection"
   ]
  },
  {
   "cell_type": "code",
   "execution_count": 198,
   "metadata": {},
   "outputs": [
    {
     "data": {
      "text/html": [
       "<div>\n",
       "<style scoped>\n",
       "    .dataframe tbody tr th:only-of-type {\n",
       "        vertical-align: middle;\n",
       "    }\n",
       "\n",
       "    .dataframe tbody tr th {\n",
       "        vertical-align: top;\n",
       "    }\n",
       "\n",
       "    .dataframe thead th {\n",
       "        text-align: right;\n",
       "    }\n",
       "</style>\n",
       "<table border=\"1\" class=\"dataframe\">\n",
       "  <thead>\n",
       "    <tr style=\"text-align: right;\">\n",
       "      <th></th>\n",
       "      <th>outdoor_temp</th>\n",
       "      <th>zone_temp</th>\n",
       "      <th>occupancy</th>\n",
       "      <th>supply_temp</th>\n",
       "      <th>air_flow</th>\n",
       "    </tr>\n",
       "  </thead>\n",
       "  <tbody>\n",
       "    <tr>\n",
       "      <th>count</th>\n",
       "      <td>104121.000000</td>\n",
       "      <td>104121.000000</td>\n",
       "      <td>104121.000000</td>\n",
       "      <td>104121.000000</td>\n",
       "      <td>104121.000000</td>\n",
       "    </tr>\n",
       "    <tr>\n",
       "      <th>mean</th>\n",
       "      <td>16.960498</td>\n",
       "      <td>23.333440</td>\n",
       "      <td>2.880572</td>\n",
       "      <td>22.222592</td>\n",
       "      <td>0.642150</td>\n",
       "    </tr>\n",
       "    <tr>\n",
       "      <th>std</th>\n",
       "      <td>8.380649</td>\n",
       "      <td>0.673918</td>\n",
       "      <td>4.191053</td>\n",
       "      <td>2.766931</td>\n",
       "      <td>0.174336</td>\n",
       "    </tr>\n",
       "    <tr>\n",
       "      <th>min</th>\n",
       "      <td>-2.700000</td>\n",
       "      <td>21.099926</td>\n",
       "      <td>0.000000</td>\n",
       "      <td>13.642080</td>\n",
       "      <td>0.073377</td>\n",
       "    </tr>\n",
       "    <tr>\n",
       "      <th>25%</th>\n",
       "      <td>10.666667</td>\n",
       "      <td>23.102895</td>\n",
       "      <td>0.000000</td>\n",
       "      <td>19.677474</td>\n",
       "      <td>0.661022</td>\n",
       "    </tr>\n",
       "    <tr>\n",
       "      <th>50%</th>\n",
       "      <td>16.000000</td>\n",
       "      <td>23.554565</td>\n",
       "      <td>0.000000</td>\n",
       "      <td>23.197447</td>\n",
       "      <td>0.733767</td>\n",
       "    </tr>\n",
       "    <tr>\n",
       "      <th>75%</th>\n",
       "      <td>22.833333</td>\n",
       "      <td>23.899437</td>\n",
       "      <td>8.000000</td>\n",
       "      <td>25.000001</td>\n",
       "      <td>0.733767</td>\n",
       "    </tr>\n",
       "    <tr>\n",
       "      <th>max</th>\n",
       "      <td>42.000000</td>\n",
       "      <td>24.157065</td>\n",
       "      <td>10.000000</td>\n",
       "      <td>25.446581</td>\n",
       "      <td>0.733767</td>\n",
       "    </tr>\n",
       "  </tbody>\n",
       "</table>\n",
       "</div>"
      ],
      "text/plain": [
       "        outdoor_temp      zone_temp      occupancy    supply_temp  \\\n",
       "count  104121.000000  104121.000000  104121.000000  104121.000000   \n",
       "mean       16.960498      23.333440       2.880572      22.222592   \n",
       "std         8.380649       0.673918       4.191053       2.766931   \n",
       "min        -2.700000      21.099926       0.000000      13.642080   \n",
       "25%        10.666667      23.102895       0.000000      19.677474   \n",
       "50%        16.000000      23.554565       0.000000      23.197447   \n",
       "75%        22.833333      23.899437       8.000000      25.000001   \n",
       "max        42.000000      24.157065      10.000000      25.446581   \n",
       "\n",
       "            air_flow  \n",
       "count  104121.000000  \n",
       "mean        0.642150  \n",
       "std         0.174336  \n",
       "min         0.073377  \n",
       "25%         0.661022  \n",
       "50%         0.733767  \n",
       "75%         0.733767  \n",
       "max         0.733767  "
      ]
     },
     "execution_count": 198,
     "metadata": {},
     "output_type": "execute_result"
    }
   ],
   "source": [
    "#0.703244\t0.060387\t5.22233\t1.985296\t0.184877\n",
    "data = pd.read_csv('data/result.csv')\n",
    "i = 1002\n",
    "data2 = data[1000:1002]\n",
    "data2 = data2.reset_index(drop=True)\n",
    "stats = data2.describe()\n",
    "while stats['outdoor_temp']['std'] < 0.7 or stats['zone_temp']['std'] < 0.06 or stats['occupancy']['std'] < 5.22  or stats['supply_temp']['std'] < 1.98 or stats['air_flow']['std'] < 0.18:\n",
    "    if i > len(data):\n",
    "        break\n",
    "    i = i + 1\n",
    "    data2 = data[1000:i]\n",
    "    data2 = data2.reset_index(drop=True)\n",
    "    stats = data2.describe()\n",
    "# data2['outdoor_temp'] = data2['outdoor_temp'] +273\n",
    "# data2['zone_temp'] = data2['zone_temp'] +273\n",
    "# data2['supply_temp'] = data2['supply_temp'] +273\n",
    "data2.describe()"
   ]
  },
  {
   "cell_type": "code",
   "execution_count": 37,
   "metadata": {},
   "outputs": [
    {
     "ename": "AttributeError",
     "evalue": "'numpy.ndarray' object has no attribute 'reset_index'",
     "output_type": "error",
     "traceback": [
      "\u001b[0;31m---------------------------------------------------------------------------\u001b[0m",
      "\u001b[0;31mAttributeError\u001b[0m                            Traceback (most recent call last)",
      "\u001b[0;32m<ipython-input-37-9a811062351f>\u001b[0m in \u001b[0;36m<module>\u001b[0;34m\u001b[0m\n\u001b[1;32m      1\u001b[0m \u001b[0minputs\u001b[0m\u001b[0;34m,\u001b[0m \u001b[0moutput\u001b[0m \u001b[0;34m=\u001b[0m \u001b[0mdefine_vectors\u001b[0m\u001b[0;34m(\u001b[0m\u001b[0mdata2\u001b[0m\u001b[0;34m)\u001b[0m\u001b[0;34m\u001b[0m\u001b[0;34m\u001b[0m\u001b[0m\n\u001b[1;32m      2\u001b[0m \u001b[0mdata2_test\u001b[0m \u001b[0;34m=\u001b[0m \u001b[0mdata\u001b[0m\u001b[0;34m[\u001b[0m\u001b[0mi\u001b[0m\u001b[0;34m:\u001b[0m\u001b[0mi\u001b[0m\u001b[0;34m+\u001b[0m\u001b[0;36m12\u001b[0m\u001b[0;34m]\u001b[0m\u001b[0;34m\u001b[0m\u001b[0;34m\u001b[0m\u001b[0m\n\u001b[0;32m----> 3\u001b[0;31m \u001b[0mdata2_test\u001b[0m \u001b[0;34m=\u001b[0m \u001b[0mdata2_test\u001b[0m\u001b[0;34m.\u001b[0m\u001b[0mreset_index\u001b[0m\u001b[0;34m(\u001b[0m\u001b[0mdrop\u001b[0m\u001b[0;34m=\u001b[0m\u001b[0;32mTrue\u001b[0m\u001b[0;34m)\u001b[0m\u001b[0;34m\u001b[0m\u001b[0;34m\u001b[0m\u001b[0m\n\u001b[0m\u001b[1;32m      4\u001b[0m \u001b[0minputs_test\u001b[0m\u001b[0;34m,\u001b[0m \u001b[0moutput_test\u001b[0m \u001b[0;34m=\u001b[0m \u001b[0mdefine_vectors\u001b[0m\u001b[0;34m(\u001b[0m\u001b[0mdata2_test\u001b[0m\u001b[0;34m)\u001b[0m\u001b[0;34m\u001b[0m\u001b[0;34m\u001b[0m\u001b[0m\n",
      "\u001b[0;31mAttributeError\u001b[0m: 'numpy.ndarray' object has no attribute 'reset_index'"
     ]
    }
   ],
   "source": [
    "inputs, output = define_vectors(data2)\n",
    "data2_test = data[i:i+12]\n",
    "data2_test = data2_test.reset_index(drop=True)\n",
    "inputs_test, output_test = define_vectors(data2_test)"
   ]
  },
  {
   "cell_type": "code",
   "execution_count": 38,
   "metadata": {},
   "outputs": [
    {
     "ename": "ValueError",
     "evalue": "Found array with 0 sample(s) (shape=(0, 3)) while a minimum of 1 is required by StandardScaler.",
     "output_type": "error",
     "traceback": [
      "\u001b[0;31m---------------------------------------------------------------------------\u001b[0m",
      "\u001b[0;31mValueError\u001b[0m                                Traceback (most recent call last)",
      "\u001b[0;32m<ipython-input-38-5d969625ffcc>\u001b[0m in \u001b[0;36m<module>\u001b[0;34m\u001b[0m\n\u001b[1;32m     10\u001b[0m \u001b[0moutput_test\u001b[0m \u001b[0;34m=\u001b[0m \u001b[0mpd\u001b[0m\u001b[0;34m.\u001b[0m\u001b[0mDataFrame\u001b[0m\u001b[0;34m(\u001b[0m\u001b[0mdata\u001b[0m \u001b[0;34m=\u001b[0m \u001b[0moutput_test\u001b[0m\u001b[0;34m)\u001b[0m\u001b[0;34m\u001b[0m\u001b[0;34m\u001b[0m\u001b[0m\n\u001b[1;32m     11\u001b[0m \u001b[0;34m\u001b[0m\u001b[0m\n\u001b[0;32m---> 12\u001b[0;31m \u001b[0minputs_scaled\u001b[0m \u001b[0;34m=\u001b[0m \u001b[0mscaler1\u001b[0m\u001b[0;34m.\u001b[0m\u001b[0mfit_transform\u001b[0m\u001b[0;34m(\u001b[0m\u001b[0minputs\u001b[0m\u001b[0;34m)\u001b[0m\u001b[0;34m\u001b[0m\u001b[0;34m\u001b[0m\u001b[0m\n\u001b[0m\u001b[1;32m     13\u001b[0m \u001b[0moutput_scaled\u001b[0m \u001b[0;34m=\u001b[0m \u001b[0mscaler2\u001b[0m\u001b[0;34m.\u001b[0m\u001b[0mfit_transform\u001b[0m\u001b[0;34m(\u001b[0m\u001b[0moutput\u001b[0m\u001b[0;34m)\u001b[0m\u001b[0;34m\u001b[0m\u001b[0;34m\u001b[0m\u001b[0m\n\u001b[1;32m     14\u001b[0m \u001b[0;34m\u001b[0m\u001b[0m\n",
      "\u001b[0;32m~/opt/anaconda3/lib/python3.8/site-packages/sklearn/base.py\u001b[0m in \u001b[0;36mfit_transform\u001b[0;34m(self, X, y, **fit_params)\u001b[0m\n\u001b[1;32m    688\u001b[0m         \u001b[0;32mif\u001b[0m \u001b[0my\u001b[0m \u001b[0;32mis\u001b[0m \u001b[0;32mNone\u001b[0m\u001b[0;34m:\u001b[0m\u001b[0;34m\u001b[0m\u001b[0;34m\u001b[0m\u001b[0m\n\u001b[1;32m    689\u001b[0m             \u001b[0;31m# fit method of arity 1 (unsupervised transformation)\u001b[0m\u001b[0;34m\u001b[0m\u001b[0;34m\u001b[0m\u001b[0;34m\u001b[0m\u001b[0m\n\u001b[0;32m--> 690\u001b[0;31m             \u001b[0;32mreturn\u001b[0m \u001b[0mself\u001b[0m\u001b[0;34m.\u001b[0m\u001b[0mfit\u001b[0m\u001b[0;34m(\u001b[0m\u001b[0mX\u001b[0m\u001b[0;34m,\u001b[0m \u001b[0;34m**\u001b[0m\u001b[0mfit_params\u001b[0m\u001b[0;34m)\u001b[0m\u001b[0;34m.\u001b[0m\u001b[0mtransform\u001b[0m\u001b[0;34m(\u001b[0m\u001b[0mX\u001b[0m\u001b[0;34m)\u001b[0m\u001b[0;34m\u001b[0m\u001b[0;34m\u001b[0m\u001b[0m\n\u001b[0m\u001b[1;32m    691\u001b[0m         \u001b[0;32melse\u001b[0m\u001b[0;34m:\u001b[0m\u001b[0;34m\u001b[0m\u001b[0;34m\u001b[0m\u001b[0m\n\u001b[1;32m    692\u001b[0m             \u001b[0;31m# fit method of arity 2 (supervised transformation)\u001b[0m\u001b[0;34m\u001b[0m\u001b[0;34m\u001b[0m\u001b[0;34m\u001b[0m\u001b[0m\n",
      "\u001b[0;32m~/opt/anaconda3/lib/python3.8/site-packages/sklearn/preprocessing/_data.py\u001b[0m in \u001b[0;36mfit\u001b[0;34m(self, X, y)\u001b[0m\n\u001b[1;32m    665\u001b[0m         \u001b[0;31m# Reset internal state before fitting\u001b[0m\u001b[0;34m\u001b[0m\u001b[0;34m\u001b[0m\u001b[0;34m\u001b[0m\u001b[0m\n\u001b[1;32m    666\u001b[0m         \u001b[0mself\u001b[0m\u001b[0;34m.\u001b[0m\u001b[0m_reset\u001b[0m\u001b[0;34m(\u001b[0m\u001b[0;34m)\u001b[0m\u001b[0;34m\u001b[0m\u001b[0;34m\u001b[0m\u001b[0m\n\u001b[0;32m--> 667\u001b[0;31m         \u001b[0;32mreturn\u001b[0m \u001b[0mself\u001b[0m\u001b[0;34m.\u001b[0m\u001b[0mpartial_fit\u001b[0m\u001b[0;34m(\u001b[0m\u001b[0mX\u001b[0m\u001b[0;34m,\u001b[0m \u001b[0my\u001b[0m\u001b[0;34m)\u001b[0m\u001b[0;34m\u001b[0m\u001b[0;34m\u001b[0m\u001b[0m\n\u001b[0m\u001b[1;32m    668\u001b[0m \u001b[0;34m\u001b[0m\u001b[0m\n\u001b[1;32m    669\u001b[0m     \u001b[0;32mdef\u001b[0m \u001b[0mpartial_fit\u001b[0m\u001b[0;34m(\u001b[0m\u001b[0mself\u001b[0m\u001b[0;34m,\u001b[0m \u001b[0mX\u001b[0m\u001b[0;34m,\u001b[0m \u001b[0my\u001b[0m\u001b[0;34m=\u001b[0m\u001b[0;32mNone\u001b[0m\u001b[0;34m)\u001b[0m\u001b[0;34m:\u001b[0m\u001b[0;34m\u001b[0m\u001b[0;34m\u001b[0m\u001b[0m\n",
      "\u001b[0;32m~/opt/anaconda3/lib/python3.8/site-packages/sklearn/preprocessing/_data.py\u001b[0m in \u001b[0;36mpartial_fit\u001b[0;34m(self, X, y)\u001b[0m\n\u001b[1;32m    694\u001b[0m             \u001b[0mTransformer\u001b[0m \u001b[0minstance\u001b[0m\u001b[0;34m.\u001b[0m\u001b[0;34m\u001b[0m\u001b[0;34m\u001b[0m\u001b[0m\n\u001b[1;32m    695\u001b[0m         \"\"\"\n\u001b[0;32m--> 696\u001b[0;31m         X = self._validate_data(X, accept_sparse=('csr', 'csc'),\n\u001b[0m\u001b[1;32m    697\u001b[0m                                 \u001b[0mestimator\u001b[0m\u001b[0;34m=\u001b[0m\u001b[0mself\u001b[0m\u001b[0;34m,\u001b[0m \u001b[0mdtype\u001b[0m\u001b[0;34m=\u001b[0m\u001b[0mFLOAT_DTYPES\u001b[0m\u001b[0;34m,\u001b[0m\u001b[0;34m\u001b[0m\u001b[0;34m\u001b[0m\u001b[0m\n\u001b[1;32m    698\u001b[0m                                 force_all_finite='allow-nan')\n",
      "\u001b[0;32m~/opt/anaconda3/lib/python3.8/site-packages/sklearn/base.py\u001b[0m in \u001b[0;36m_validate_data\u001b[0;34m(self, X, y, reset, validate_separately, **check_params)\u001b[0m\n\u001b[1;32m    418\u001b[0m                     \u001b[0;34mf\"requires y to be passed, but the target y is None.\"\u001b[0m\u001b[0;34m\u001b[0m\u001b[0;34m\u001b[0m\u001b[0m\n\u001b[1;32m    419\u001b[0m                 )\n\u001b[0;32m--> 420\u001b[0;31m             \u001b[0mX\u001b[0m \u001b[0;34m=\u001b[0m \u001b[0mcheck_array\u001b[0m\u001b[0;34m(\u001b[0m\u001b[0mX\u001b[0m\u001b[0;34m,\u001b[0m \u001b[0;34m**\u001b[0m\u001b[0mcheck_params\u001b[0m\u001b[0;34m)\u001b[0m\u001b[0;34m\u001b[0m\u001b[0;34m\u001b[0m\u001b[0m\n\u001b[0m\u001b[1;32m    421\u001b[0m             \u001b[0mout\u001b[0m \u001b[0;34m=\u001b[0m \u001b[0mX\u001b[0m\u001b[0;34m\u001b[0m\u001b[0;34m\u001b[0m\u001b[0m\n\u001b[1;32m    422\u001b[0m         \u001b[0;32melse\u001b[0m\u001b[0;34m:\u001b[0m\u001b[0;34m\u001b[0m\u001b[0;34m\u001b[0m\u001b[0m\n",
      "\u001b[0;32m~/opt/anaconda3/lib/python3.8/site-packages/sklearn/utils/validation.py\u001b[0m in \u001b[0;36minner_f\u001b[0;34m(*args, **kwargs)\u001b[0m\n\u001b[1;32m     70\u001b[0m                           FutureWarning)\n\u001b[1;32m     71\u001b[0m         \u001b[0mkwargs\u001b[0m\u001b[0;34m.\u001b[0m\u001b[0mupdate\u001b[0m\u001b[0;34m(\u001b[0m\u001b[0;34m{\u001b[0m\u001b[0mk\u001b[0m\u001b[0;34m:\u001b[0m \u001b[0marg\u001b[0m \u001b[0;32mfor\u001b[0m \u001b[0mk\u001b[0m\u001b[0;34m,\u001b[0m \u001b[0marg\u001b[0m \u001b[0;32min\u001b[0m \u001b[0mzip\u001b[0m\u001b[0;34m(\u001b[0m\u001b[0msig\u001b[0m\u001b[0;34m.\u001b[0m\u001b[0mparameters\u001b[0m\u001b[0;34m,\u001b[0m \u001b[0margs\u001b[0m\u001b[0;34m)\u001b[0m\u001b[0;34m}\u001b[0m\u001b[0;34m)\u001b[0m\u001b[0;34m\u001b[0m\u001b[0;34m\u001b[0m\u001b[0m\n\u001b[0;32m---> 72\u001b[0;31m         \u001b[0;32mreturn\u001b[0m \u001b[0mf\u001b[0m\u001b[0;34m(\u001b[0m\u001b[0;34m**\u001b[0m\u001b[0mkwargs\u001b[0m\u001b[0;34m)\u001b[0m\u001b[0;34m\u001b[0m\u001b[0;34m\u001b[0m\u001b[0m\n\u001b[0m\u001b[1;32m     73\u001b[0m     \u001b[0;32mreturn\u001b[0m \u001b[0minner_f\u001b[0m\u001b[0;34m\u001b[0m\u001b[0;34m\u001b[0m\u001b[0m\n\u001b[1;32m     74\u001b[0m \u001b[0;34m\u001b[0m\u001b[0m\n",
      "\u001b[0;32m~/opt/anaconda3/lib/python3.8/site-packages/sklearn/utils/validation.py\u001b[0m in \u001b[0;36mcheck_array\u001b[0;34m(array, accept_sparse, accept_large_sparse, dtype, order, copy, force_all_finite, ensure_2d, allow_nd, ensure_min_samples, ensure_min_features, estimator)\u001b[0m\n\u001b[1;32m    648\u001b[0m         \u001b[0mn_samples\u001b[0m \u001b[0;34m=\u001b[0m \u001b[0m_num_samples\u001b[0m\u001b[0;34m(\u001b[0m\u001b[0marray\u001b[0m\u001b[0;34m)\u001b[0m\u001b[0;34m\u001b[0m\u001b[0;34m\u001b[0m\u001b[0m\n\u001b[1;32m    649\u001b[0m         \u001b[0;32mif\u001b[0m \u001b[0mn_samples\u001b[0m \u001b[0;34m<\u001b[0m \u001b[0mensure_min_samples\u001b[0m\u001b[0;34m:\u001b[0m\u001b[0;34m\u001b[0m\u001b[0;34m\u001b[0m\u001b[0m\n\u001b[0;32m--> 650\u001b[0;31m             raise ValueError(\"Found array with %d sample(s) (shape=%s) while a\"\n\u001b[0m\u001b[1;32m    651\u001b[0m                              \u001b[0;34m\" minimum of %d is required%s.\"\u001b[0m\u001b[0;34m\u001b[0m\u001b[0;34m\u001b[0m\u001b[0m\n\u001b[1;32m    652\u001b[0m                              % (n_samples, array.shape, ensure_min_samples,\n",
      "\u001b[0;31mValueError\u001b[0m: Found array with 0 sample(s) (shape=(0, 3)) while a minimum of 1 is required by StandardScaler."
     ]
    }
   ],
   "source": [
    "scaler1 = StandardScaler()\n",
    "scaler2 = StandardScaler()\n",
    "\n",
    "inputs = pd.DataFrame(data = inputs)\n",
    "inputs = sm.add_constant(inputs) #We add constant because statsmodel library requires us. Otherwise, it would take the form: y = mx.\n",
    "output = pd.DataFrame(data = output)\n",
    "\n",
    "inputs_test = pd.DataFrame(data = inputs_test)\n",
    "inputs_test = sm.add_constant(inputs_test,has_constant='add')\n",
    "output_test = pd.DataFrame(data = output_test)\n",
    "\n",
    "inputs_scaled = scaler1.fit_transform(inputs)\n",
    "output_scaled = scaler2.fit_transform(output)\n",
    "\n",
    "inputs_scaled_test = scaler1.transform(inputs_test)\n",
    "output_scaled_test = scaler2.transform(output)"
   ]
  },
  {
   "cell_type": "code",
   "execution_count": 39,
   "metadata": {},
   "outputs": [
    {
     "name": "stdout",
     "output_type": "stream",
     "text": [
      "                                 OLS Regression Results                                \n",
      "=======================================================================================\n",
      "Dep. Variable:                      y   R-squared (uncentered):                   0.893\n",
      "Model:                            OLS   Adj. R-squared (uncentered):              0.883\n",
      "Method:                 Least Squares   F-statistic:                              83.62\n",
      "Date:                Sat, 22 May 2021   Prob (F-statistic):                    3.59e-06\n",
      "Time:                        22:24:44   Log-Likelihood:                         -3.3066\n",
      "No. Observations:                  11   AIC:                                      8.613\n",
      "Df Residuals:                      10   BIC:                                      9.011\n",
      "Df Model:                           1                                                  \n",
      "Covariance Type:            nonrobust                                                  \n",
      "==============================================================================\n",
      "                 coef    std err          t      P>|t|      [0.025      0.975]\n",
      "------------------------------------------------------------------------------\n",
      "const               0          0        nan        nan           0           0\n",
      "x1             0.9451      0.103      9.145      0.000       0.715       1.175\n",
      "==============================================================================\n",
      "Omnibus:                        1.131   Durbin-Watson:                   0.746\n",
      "Prob(Omnibus):                  0.568   Jarque-Bera (JB):                0.721\n",
      "Skew:                          -0.200   Prob(JB):                        0.697\n",
      "Kurtosis:                       1.811   Cond. No.                          inf\n",
      "==============================================================================\n",
      "\n",
      "Notes:\n",
      "[1] R² is computed without centering (uncentered) since the model does not contain a constant.\n",
      "[2] Standard Errors assume that the covariance matrix of the errors is correctly specified.\n",
      "[3] The smallest eigenvalue is      0. This might indicate that there are\n",
      "strong multicollinearity problems or that the design matrix is singular.\n",
      "[0.        0.9450862]\n"
     ]
    },
    {
     "name": "stderr",
     "output_type": "stream",
     "text": [
      "/Users/devanshukumar/opt/anaconda3/lib/python3.8/site-packages/scipy/stats/stats.py:1603: UserWarning: kurtosistest only valid for n>=20 ... continuing anyway, n=11\n",
      "  warnings.warn(\"kurtosistest only valid for n>=20 ... continuing \"\n",
      "/Users/devanshukumar/opt/anaconda3/lib/python3.8/site-packages/statsmodels/regression/linear_model.py:1860: RuntimeWarning: divide by zero encountered in double_scalars\n",
      "  return np.sqrt(eigvals[0]/eigvals[-1])\n"
     ]
    }
   ],
   "source": [
    "model = sm.OLS(output_scaled, inputs_scaled)\n",
    "results = model.fit()\n",
    "print(results.summary())\n",
    "print(results.params)"
   ]
  },
  {
   "cell_type": "code",
   "execution_count": 40,
   "metadata": {},
   "outputs": [
    {
     "name": "stdout",
     "output_type": "stream",
     "text": [
      "28.44760077864297\n"
     ]
    }
   ],
   "source": [
    "pred = results.predict(inputs_scaled_test)\n",
    "err = mse(output_scaled_test,pred)\n",
    "print(err)"
   ]
  },
  {
   "cell_type": "code",
   "execution_count": null,
   "metadata": {},
   "outputs": [],
   "source": []
  },
  {
   "cell_type": "code",
   "execution_count": null,
   "metadata": {},
   "outputs": [],
   "source": []
  }
 ],
 "metadata": {
  "kernelspec": {
   "display_name": "Python 3",
   "language": "python",
   "name": "python3"
  },
  "language_info": {
   "codemirror_mode": {
    "name": "ipython",
    "version": 3
   },
   "file_extension": ".py",
   "mimetype": "text/x-python",
   "name": "python",
   "nbconvert_exporter": "python",
   "pygments_lexer": "ipython3",
   "version": "3.8.5"
  }
 },
 "nbformat": 4,
 "nbformat_minor": 2
}
