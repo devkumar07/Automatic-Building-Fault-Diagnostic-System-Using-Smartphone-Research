{
 "cells": [
  {
   "cell_type": "code",
   "execution_count": 488,
   "metadata": {},
   "outputs": [],
   "source": [
    "import numpy as np\n",
    "import pandas as pd\n",
    "import matplotlib.pyplot as plt\n",
    "from sklearn import preprocessing\n",
    "from numpy import quantile, where, random\n",
    "import matplotlib.pyplot as plt\n",
    "import random\n",
    "from sklearn.neighbors import LocalOutlierFactor\n",
    "from sklearn.metrics import confusion_matrix, classification_report,accuracy_score\n",
    "\n",
    "data = pd.read_csv('data/result.csv')\n",
    "data['outdoor_temp'] = data['outdoor_temp'] +273\n",
    "data['zone_temp'] = data['zone_temp'] +273\n",
    "data['supply_temp'] = data['supply_temp'] +273\n",
    "\n",
    "\n",
    "train = data[84:108]\n",
    "train = train.reset_index(drop=True)\n",
    "test = data[53080:53092]\n",
    "test = test.reset_index(drop=True)"
   ]
  },
  {
   "cell_type": "markdown",
   "metadata": {},
   "source": [
    "# Defining Essential Functions"
   ]
  },
  {
   "cell_type": "code",
   "execution_count": 489,
   "metadata": {},
   "outputs": [],
   "source": [
    "from numpy import random\n",
    "\n",
    "##Faults:\n",
    "# 1. Offset Fault: x' = a + x + err\n",
    "# 2. Gain Fault: x' = Bx+ err\n",
    "# 3. Stuck at Fault: x' = a\n",
    "# 4. Out-of-bound: x'<theta1 and x'>theta2\n",
    "\n",
    "#Function to simulate fault\n",
    "def simulateFault(sensedValues,params):\n",
    "    end_fault_index = int(len(sensedValues) * 0.5)\n",
    "    interval = end_fault_index/4\n",
    "    BMS = []\n",
    "    classification = []\n",
    "    \n",
    "    noise = random.rand(len(sensedValues)) * params['err']\n",
    "    for i in range(0, len(sensedValues)):\n",
    "        if i <= interval:\n",
    "            a = params['constant']\n",
    "            sign = random.randint(1,3)\n",
    "            if sign == 1:\n",
    "                BMS.append(noise[i] + a + sensedValues[i])\n",
    "            else:\n",
    "                BMS.append(-noise[i] + a + sensedValues[i])\n",
    "            classification.append(1)\n",
    "\n",
    "        elif i > interval and i <= interval*2:\n",
    "            B = params['coeff']\n",
    "            sign = random.randint(1,3)\n",
    "            if sign == 1:\n",
    "                BMS.append(noise[i] + B * sensedValues[i])\n",
    "            else:\n",
    "                BMS.append(-noise[i] + B * sensedValues[i])\n",
    "            classification.append(1)\n",
    "\n",
    "        elif i > interval*2 and i<= interval*3:\n",
    "            a = params['stuck']\n",
    "            BMS.append(a)\n",
    "            classification.append(1)\n",
    "            \n",
    "        elif i > interval*3 and i<= interval*4:\n",
    "            type_fault = random.randint(1,3)\n",
    "            low_bound = params['bounds'][0]\n",
    "            up_bound = params['bounds'][1]\n",
    "            if type_fault == 1:\n",
    "                BMS.append(low_bound-noise[i])\n",
    "            else:\n",
    "                BMS.append(up_bound + noise[i])\n",
    "            classification.append(1)\n",
    "        else:\n",
    "            BMS.append(noise[i] + sensedValues[i])\n",
    "            classification.append(0)\n",
    "\n",
    "    BMS = np.array(BMS)\n",
    "    BMS = BMS.round(decimals = 3)\n",
    "    sensedValues = sensedValues.round(decimals=3)\n",
    "    return np.array(BMS), np.array(classification)\n",
    "\n",
    "#Function to generate noise\n",
    "def generateNoise(noise, values):\n",
    "    noisy_data = []\n",
    "    for i in range(0,len(values)):\n",
    "        noisy_data.append(values[i]+random.uniform(-noise,noise))\n",
    "    return noisy_data\n",
    "\n",
    "#Function to model equation given the coeffs\n",
    "def modeled_equation(vals,coeffs):\n",
    "    x1 = []\n",
    "    x2 = []\n",
    "    x3 = []\n",
    "    x4 = []\n",
    "    x = []\n",
    "    y = []\n",
    "    for i in range(1,len(vals)):\n",
    "        x1.append(-1231*(vals['zone_temp'][i] - vals['zone_temp'][i-1])/5 *coeffs[1])\n",
    "        x2.append(72.57* vals['occupancy'][i]*coeffs[2])\n",
    "        x3.append((vals['outdoor_temp'][i]-vals['zone_temp'][i])*coeffs[3])\n",
    "        #x4.append(coeffs[0])\n",
    "        y.append(-0.57*(vals['supply_temp'][i]-vals['zone_temp'][i]) * 1.005 * vals['air_flow'][i])\n",
    "        x.append(x1[i-1]+x2[i-1]+x3[i-1])\n",
    "    inputs = {'x1': x1,'x2':x2,'x3':x3}\n",
    "    output = {'y':y}\n",
    "    return inputs, output\n",
    "\n",
    "#Function to define vectors for regression model\n",
    "def define_vectors(vals):\n",
    "    x1 = []\n",
    "    x2 = []\n",
    "    x3 = []\n",
    "    y = []\n",
    "    for i in range(1,len(vals)):\n",
    "        x1.append(-1231*(vals['zone_temp'][i] - vals['zone_temp'][i-1])/5)\n",
    "        x2.append(72.57*vals['occupancy'][i])\n",
    "        x3.append((vals['outdoor_temp'][i]-vals['zone_temp'][i]))\n",
    "        y.append(-0.57*(vals['supply_temp'][i]-vals['zone_temp'][i]) * 1.005 * vals['air_flow'][i])\n",
    "    inputs = {'x1': x1,'x2':x2,'x3':x3}\n",
    "    output = {'y':y}\n",
    "    return inputs, output\n"
   ]
  },
  {
   "cell_type": "code",
   "execution_count": 490,
   "metadata": {
    "scrolled": false
   },
   "outputs": [],
   "source": [
    "inputs, output = define_vectors(train)\n",
    "inputs_test, output_test = define_vectors(test)"
   ]
  },
  {
   "cell_type": "markdown",
   "metadata": {},
   "source": [
    "# Scaling data "
   ]
  },
  {
   "cell_type": "code",
   "execution_count": 494,
   "metadata": {},
   "outputs": [],
   "source": [
    "from sklearn.preprocessing import StandardScaler\n",
    "import statsmodels.api as sm\n",
    "\n",
    "scaler1 = StandardScaler()\n",
    "scaler2 = StandardScaler()\n",
    "\n",
    "inputs = pd.DataFrame(data = inputs)\n",
    "inputs = sm.add_constant(inputs) #We add constant because statsmodel library requires us. Otherwise, it would take the form: y = mx.\n",
    "output = pd.DataFrame(data = output)\n",
    "\n",
    "inputs_test = pd.DataFrame(data = inputs_test)\n",
    "inputs_test = sm.add_constant(inputs_test)\n",
    "output_test = pd.DataFrame(data = output_test)\n",
    "\n",
    "inputs_scaled = scaler1.fit_transform(inputs)\n",
    "output_scaled = scaler2.fit_transform(output)\n",
    "\n",
    "inputs_scaled_test = scaler1.transform(inputs_test)\n",
    "output_scaled_test = scaler2.transform(output_test)"
   ]
  },
  {
   "cell_type": "markdown",
   "metadata": {},
   "source": [
    "# Fitting training data to OLS regression"
   ]
  },
  {
   "cell_type": "code",
   "execution_count": 495,
   "metadata": {},
   "outputs": [
    {
     "name": "stderr",
     "output_type": "stream",
     "text": [
      "/Users/devanshukumar/opt/anaconda3/lib/python3.8/site-packages/statsmodels/regression/linear_model.py:1860: RuntimeWarning: divide by zero encountered in double_scalars\n",
      "  return np.sqrt(eigvals[0]/eigvals[-1])\n"
     ]
    },
    {
     "data": {
      "text/html": [
       "<table class=\"simpletable\">\n",
       "<caption>OLS Regression Results</caption>\n",
       "<tr>\n",
       "  <th>Dep. Variable:</th>            <td>y</td>        <th>  R-squared (uncentered):</th>      <td>   0.997</td>\n",
       "</tr>\n",
       "<tr>\n",
       "  <th>Model:</th>                   <td>OLS</td>       <th>  Adj. R-squared (uncentered):</th> <td>   0.997</td>\n",
       "</tr>\n",
       "<tr>\n",
       "  <th>Method:</th>             <td>Least Squares</td>  <th>  F-statistic:       </th>          <td>   2329.</td>\n",
       "</tr>\n",
       "<tr>\n",
       "  <th>Date:</th>             <td>Thu, 06 May 2021</td> <th>  Prob (F-statistic):</th>          <td>1.32e-25</td>\n",
       "</tr>\n",
       "<tr>\n",
       "  <th>Time:</th>                 <td>23:24:18</td>     <th>  Log-Likelihood:    </th>          <td>  34.744</td>\n",
       "</tr>\n",
       "<tr>\n",
       "  <th>No. Observations:</th>      <td>    23</td>      <th>  AIC:               </th>          <td>  -63.49</td>\n",
       "</tr>\n",
       "<tr>\n",
       "  <th>Df Residuals:</th>          <td>    20</td>      <th>  BIC:               </th>          <td>  -60.08</td>\n",
       "</tr>\n",
       "<tr>\n",
       "  <th>Df Model:</th>              <td>     3</td>      <th>                     </th>              <td> </td>   \n",
       "</tr>\n",
       "<tr>\n",
       "  <th>Covariance Type:</th>      <td>nonrobust</td>    <th>                     </th>              <td> </td>   \n",
       "</tr>\n",
       "</table>\n",
       "<table class=\"simpletable\">\n",
       "<tr>\n",
       "    <td></td>       <th>coef</th>     <th>std err</th>      <th>t</th>      <th>P>|t|</th>  <th>[0.025</th>    <th>0.975]</th>  \n",
       "</tr>\n",
       "<tr>\n",
       "  <th>const</th> <td>         0</td> <td>        0</td> <td>      nan</td> <td>   nan</td> <td>        0</td> <td>        0</td>\n",
       "</tr>\n",
       "<tr>\n",
       "  <th>x1</th>    <td>    0.0551</td> <td>    0.053</td> <td>    1.049</td> <td> 0.307</td> <td>   -0.055</td> <td>    0.165</td>\n",
       "</tr>\n",
       "<tr>\n",
       "  <th>x2</th>    <td>    0.9633</td> <td>    0.027</td> <td>   35.083</td> <td> 0.000</td> <td>    0.906</td> <td>    1.021</td>\n",
       "</tr>\n",
       "<tr>\n",
       "  <th>x3</th>    <td>    0.0888</td> <td>    0.068</td> <td>    1.309</td> <td> 0.205</td> <td>   -0.053</td> <td>    0.230</td>\n",
       "</tr>\n",
       "</table>\n",
       "<table class=\"simpletable\">\n",
       "<tr>\n",
       "  <th>Omnibus:</th>       <td> 1.954</td> <th>  Durbin-Watson:     </th> <td>   0.635</td>\n",
       "</tr>\n",
       "<tr>\n",
       "  <th>Prob(Omnibus):</th> <td> 0.377</td> <th>  Jarque-Bera (JB):  </th> <td>   0.831</td>\n",
       "</tr>\n",
       "<tr>\n",
       "  <th>Skew:</th>          <td>-0.429</td> <th>  Prob(JB):          </th> <td>   0.660</td>\n",
       "</tr>\n",
       "<tr>\n",
       "  <th>Kurtosis:</th>      <td> 3.362</td> <th>  Cond. No.          </th> <td>     inf</td>\n",
       "</tr>\n",
       "</table><br/><br/>Notes:<br/>[1] R² is computed without centering (uncentered) since the model does not contain a constant.<br/>[2] Standard Errors assume that the covariance matrix of the errors is correctly specified.<br/>[3] The smallest eigenvalue is      0. This might indicate that there are<br/>strong multicollinearity problems or that the design matrix is singular."
      ],
      "text/plain": [
       "<class 'statsmodels.iolib.summary.Summary'>\n",
       "\"\"\"\n",
       "                                 OLS Regression Results                                \n",
       "=======================================================================================\n",
       "Dep. Variable:                      y   R-squared (uncentered):                   0.997\n",
       "Model:                            OLS   Adj. R-squared (uncentered):              0.997\n",
       "Method:                 Least Squares   F-statistic:                              2329.\n",
       "Date:                Thu, 06 May 2021   Prob (F-statistic):                    1.32e-25\n",
       "Time:                        23:24:18   Log-Likelihood:                          34.744\n",
       "No. Observations:                  23   AIC:                                     -63.49\n",
       "Df Residuals:                      20   BIC:                                     -60.08\n",
       "Df Model:                           3                                                  \n",
       "Covariance Type:            nonrobust                                                  \n",
       "==============================================================================\n",
       "                 coef    std err          t      P>|t|      [0.025      0.975]\n",
       "------------------------------------------------------------------------------\n",
       "const               0          0        nan        nan           0           0\n",
       "x1             0.0551      0.053      1.049      0.307      -0.055       0.165\n",
       "x2             0.9633      0.027     35.083      0.000       0.906       1.021\n",
       "x3             0.0888      0.068      1.309      0.205      -0.053       0.230\n",
       "==============================================================================\n",
       "Omnibus:                        1.954   Durbin-Watson:                   0.635\n",
       "Prob(Omnibus):                  0.377   Jarque-Bera (JB):                0.831\n",
       "Skew:                          -0.429   Prob(JB):                        0.660\n",
       "Kurtosis:                       3.362   Cond. No.                          inf\n",
       "==============================================================================\n",
       "\n",
       "Notes:\n",
       "[1] R² is computed without centering (uncentered) since the model does not contain a constant.\n",
       "[2] Standard Errors assume that the covariance matrix of the errors is correctly specified.\n",
       "[3] The smallest eigenvalue is      0. This might indicate that there are\n",
       "strong multicollinearity problems or that the design matrix is singular.\n",
       "\"\"\""
      ]
     },
     "execution_count": 495,
     "metadata": {},
     "output_type": "execute_result"
    }
   ],
   "source": [
    "#x1: M_n\n",
    "#x2: Q_n\n",
    "#x3: R_n\n",
    "model = sm.OLS(output_scaled, inputs_scaled)\n",
    "results = model.fit()\n",
    "results.summary()\n",
    "#print(results.params"
   ]
  },
  {
   "cell_type": "markdown",
   "metadata": {},
   "source": [
    "# Use Validation Data to check the MSE for the model"
   ]
  },
  {
   "cell_type": "code",
   "execution_count": 496,
   "metadata": {},
   "outputs": [
    {
     "name": "stdout",
     "output_type": "stream",
     "text": [
      "1.5907429242082498\n"
     ]
    }
   ],
   "source": [
    "from sklearn.metrics import mean_squared_error as mse\n",
    "pred = results.predict(inputs_scaled_test)\n",
    "err = mse(output_scaled_test,pred)\n",
    "print(err)"
   ]
  },
  {
   "cell_type": "markdown",
   "metadata": {},
   "source": [
    "# Two model comparision: Ground Truth Vs Fault Data"
   ]
  },
  {
   "cell_type": "markdown",
   "metadata": {},
   "source": [
    "In this case, we take a random day (July 4th) and create two vectors: Ground Truth and Fault data. We assume that the sensor values already incorporate for noise and we just introduce fault for the fault_data vector. We use the build regression model to predict with the learnt coeffs and we use MSE metric to check the difference. "
   ]
  },
  {
   "cell_type": "code",
   "execution_count": 500,
   "metadata": {},
   "outputs": [],
   "source": [
    "ground_truth = data[120:140]\n",
    "ground_truth = ground_truth.reset_index(drop=True)\n",
    "#ground_truth['zone_temp'] = generateNoise(0.5, ground_truth['zone_temp'])\n",
    "\n",
    "fault_data = data[120:140]\n",
    "fault_data = fault_data.reset_index(drop=True)\n",
    "stuck_val = random.randint(16,32)\n",
    "# fault_data['zone_temp'],classification = simulateFault(fault_data['zone_temp'],{'constant': 4.5, 'coeff': 1.4, 'stuck': stuck_val, 'bounds': [16,40],'err':0.5})\n",
    "fault_data['supply_temp'],classification = simulateFault(fault_data['supply_temp'],{'constant': 1, 'coeff': 1.01, 'stuck': 293.5, 'bounds': [293,294],'err':0.5})\n",
    "# stuck_val = random.uniform(0,1)\n",
    "# fault_data['air_flow'],classification = simulateFault(fault_data['air_flow'], {'constant': 0.09, 'coeff': 1.005, 'stuck': stuck_val, 'bounds': [0.05,0.8],'err':0.05})\n",
    "# print(ground_truth)\n",
    "# print(fault_data)"
   ]
  },
  {
   "cell_type": "code",
   "execution_count": 501,
   "metadata": {},
   "outputs": [],
   "source": [
    "ground_truth_input, ground_truth_output = modeled_equation(ground_truth, results.params)\n",
    "fault_input, fault_output = modeled_equation(fault_data, results.params)\n",
    "\n",
    "ground_truth_input = pd.DataFrame(data = ground_truth_input)\n",
    "ground_truth_input = sm.add_constant(ground_truth_input)\n",
    "ground_truth_output = pd.DataFrame(data = ground_truth_output)\n",
    "\n",
    "fault_input = pd.DataFrame(data = fault_input)\n",
    "fault_input = sm.add_constant(fault_input)\n",
    "fault_output = pd.DataFrame(data = fault_output)\n",
    "\n",
    "ground_truth_input = scaler1.transform(ground_truth_input)\n",
    "ground_truth_output = scaler2.transform(ground_truth_output)\n",
    "fault_input = scaler1.transform(fault_input)\n",
    "fault_output = scaler2.transform(fault_output)"
   ]
  },
  {
   "cell_type": "code",
   "execution_count": 502,
   "metadata": {},
   "outputs": [
    {
     "name": "stdout",
     "output_type": "stream",
     "text": [
      "0.07160070904597662\n",
      "1.8469863013976193\n"
     ]
    }
   ],
   "source": [
    "pred_ground = results.predict(ground_truth_input)\n",
    "print(mse(ground_truth_output,pred_ground))\n",
    "# print(ground_truth_output)\n",
    "# print(pred_ground)\n",
    "pred_fault = results.predict(fault_input)\n",
    "print(mse(fault_output,pred_fault))"
   ]
  },
  {
   "cell_type": "markdown",
   "metadata": {},
   "source": [
    "# Experiment: Feedback loop for data collection"
   ]
  },
  {
   "cell_type": "code",
   "execution_count": 503,
   "metadata": {},
   "outputs": [
    {
     "data": {
      "text/html": [
       "<div>\n",
       "<style scoped>\n",
       "    .dataframe tbody tr th:only-of-type {\n",
       "        vertical-align: middle;\n",
       "    }\n",
       "\n",
       "    .dataframe tbody tr th {\n",
       "        vertical-align: top;\n",
       "    }\n",
       "\n",
       "    .dataframe thead th {\n",
       "        text-align: right;\n",
       "    }\n",
       "</style>\n",
       "<table border=\"1\" class=\"dataframe\">\n",
       "  <thead>\n",
       "    <tr style=\"text-align: right;\">\n",
       "      <th></th>\n",
       "      <th>outdoor_temp</th>\n",
       "      <th>zone_temp</th>\n",
       "      <th>occupancy</th>\n",
       "      <th>supply_temp</th>\n",
       "      <th>air_flow</th>\n",
       "    </tr>\n",
       "  </thead>\n",
       "  <tbody>\n",
       "    <tr>\n",
       "      <th>count</th>\n",
       "      <td>12.000000</td>\n",
       "      <td>12.000000</td>\n",
       "      <td>12.000000</td>\n",
       "      <td>12.000000</td>\n",
       "      <td>12.000000</td>\n",
       "    </tr>\n",
       "    <tr>\n",
       "      <th>mean</th>\n",
       "      <td>272.351389</td>\n",
       "      <td>294.280722</td>\n",
       "      <td>8.333333</td>\n",
       "      <td>295.090751</td>\n",
       "      <td>0.672822</td>\n",
       "    </tr>\n",
       "    <tr>\n",
       "      <th>std</th>\n",
       "      <td>1.100768</td>\n",
       "      <td>0.226192</td>\n",
       "      <td>3.892495</td>\n",
       "      <td>1.437726</td>\n",
       "      <td>0.137799</td>\n",
       "    </tr>\n",
       "    <tr>\n",
       "      <th>min</th>\n",
       "      <td>270.900000</td>\n",
       "      <td>294.100013</td>\n",
       "      <td>0.000000</td>\n",
       "      <td>294.180418</td>\n",
       "      <td>0.377812</td>\n",
       "    </tr>\n",
       "    <tr>\n",
       "      <th>25%</th>\n",
       "      <td>271.454167</td>\n",
       "      <td>294.100105</td>\n",
       "      <td>10.000000</td>\n",
       "      <td>294.318448</td>\n",
       "      <td>0.731824</td>\n",
       "    </tr>\n",
       "    <tr>\n",
       "      <th>50%</th>\n",
       "      <td>272.325000</td>\n",
       "      <td>294.167116</td>\n",
       "      <td>10.000000</td>\n",
       "      <td>294.497442</td>\n",
       "      <td>0.731824</td>\n",
       "    </tr>\n",
       "    <tr>\n",
       "      <th>75%</th>\n",
       "      <td>273.195833</td>\n",
       "      <td>294.424213</td>\n",
       "      <td>10.000000</td>\n",
       "      <td>294.814783</td>\n",
       "      <td>0.731824</td>\n",
       "    </tr>\n",
       "    <tr>\n",
       "      <th>max</th>\n",
       "      <td>274.066667</td>\n",
       "      <td>294.724292</td>\n",
       "      <td>10.000000</td>\n",
       "      <td>298.134578</td>\n",
       "      <td>0.731824</td>\n",
       "    </tr>\n",
       "  </tbody>\n",
       "</table>\n",
       "</div>"
      ],
      "text/plain": [
       "       outdoor_temp   zone_temp  occupancy  supply_temp   air_flow\n",
       "count     12.000000   12.000000  12.000000    12.000000  12.000000\n",
       "mean     272.351389  294.280722   8.333333   295.090751   0.672822\n",
       "std        1.100768    0.226192   3.892495     1.437726   0.137799\n",
       "min      270.900000  294.100013   0.000000   294.180418   0.377812\n",
       "25%      271.454167  294.100105  10.000000   294.318448   0.731824\n",
       "50%      272.325000  294.167116  10.000000   294.497442   0.731824\n",
       "75%      273.195833  294.424213  10.000000   294.814783   0.731824\n",
       "max      274.066667  294.724292  10.000000   298.134578   0.731824"
      ]
     },
     "execution_count": 503,
     "metadata": {},
     "output_type": "execute_result"
    }
   ],
   "source": [
    "#[1.189449\t0.223208\t5.089774\t1.797438\t0.180184]\n",
    "i = 97\n",
    "data2 = data[95:97]\n",
    "data2 = data2.reset_index(drop=True)\n",
    "stats = data2.describe()\n",
    "while stats['outdoor_temp']['std'] < 1 or stats['zone_temp']['std'] < 0.2 or stats['occupancy']['std'] < 3  or stats['supply_temp']['std'] < 1 or stats['air_flow']['std'] < 0.1:\n",
    "    if i > len(data):\n",
    "        break\n",
    "    i = i + 1\n",
    "    data2 = data[95:i]\n",
    "    data2 = data2.reset_index(drop=True)\n",
    "    stats = data2.describe()\n",
    "# data2['outdoor_temp'] = data2['outdoor_temp'] +273\n",
    "# data2['zone_temp'] = data2['zone_temp'] +273\n",
    "# data2['supply_temp'] = data2['supply_temp'] +273\n",
    "data2.describe()"
   ]
  },
  {
   "cell_type": "code",
   "execution_count": 504,
   "metadata": {},
   "outputs": [],
   "source": [
    "inputs, output = define_vectors(data2)\n",
    "data2_test = data[i:i+12]\n",
    "data2_test = data2_test.reset_index(drop=True)\n",
    "inputs_test, output_test = define_vectors(data2_test)"
   ]
  },
  {
   "cell_type": "code",
   "execution_count": 508,
   "metadata": {},
   "outputs": [],
   "source": [
    "scaler1 = StandardScaler()\n",
    "scaler2 = StandardScaler()\n",
    "\n",
    "inputs = pd.DataFrame(data = inputs)\n",
    "inputs = sm.add_constant(inputs) #We add constant because statsmodel library requires us. Otherwise, it would take the form: y = mx.\n",
    "output = pd.DataFrame(data = output)\n",
    "\n",
    "inputs_test = pd.DataFrame(data = inputs_test)\n",
    "inputs_test = sm.add_constant(inputs_test,has_constant='add')\n",
    "output_test = pd.DataFrame(data = output_test)\n",
    "\n",
    "inputs_scaled = scaler1.fit_transform(inputs)\n",
    "output_scaled = scaler2.fit_transform(output)\n",
    "\n",
    "inputs_scaled_test = scaler1.transform(inputs_test)\n",
    "output_scaled_test = scaler2.transform(output)"
   ]
  },
  {
   "cell_type": "code",
   "execution_count": 509,
   "metadata": {},
   "outputs": [
    {
     "name": "stdout",
     "output_type": "stream",
     "text": [
      "                                 OLS Regression Results                                \n",
      "=======================================================================================\n",
      "Dep. Variable:                      y   R-squared (uncentered):                   0.990\n",
      "Model:                            OLS   Adj. R-squared (uncentered):              0.987\n",
      "Method:                 Least Squares   F-statistic:                              274.3\n",
      "Date:                Thu, 06 May 2021   Prob (F-statistic):                    2.11e-08\n",
      "Time:                        23:25:06   Log-Likelihood:                          9.9282\n",
      "No. Observations:                  11   AIC:                                     -13.86\n",
      "Df Residuals:                       8   BIC:                                     -12.66\n",
      "Df Model:                           3                                                  \n",
      "Covariance Type:            nonrobust                                                  \n",
      "==============================================================================\n",
      "                 coef    std err          t      P>|t|      [0.025      0.975]\n",
      "------------------------------------------------------------------------------\n",
      "const               0          0        nan        nan           0           0\n",
      "x1             0.1694      0.122      1.394      0.201      -0.111       0.450\n",
      "x2             0.9336      0.048     19.320      0.000       0.822       1.045\n",
      "x3             0.2246      0.135      1.666      0.134      -0.086       0.535\n",
      "==============================================================================\n",
      "Omnibus:                        1.565   Durbin-Watson:                   0.942\n",
      "Prob(Omnibus):                  0.457   Jarque-Bera (JB):                1.094\n",
      "Skew:                          -0.694   Prob(JB):                        0.579\n",
      "Kurtosis:                       2.321   Cond. No.                          inf\n",
      "==============================================================================\n",
      "\n",
      "Notes:\n",
      "[1] R² is computed without centering (uncentered) since the model does not contain a constant.\n",
      "[2] Standard Errors assume that the covariance matrix of the errors is correctly specified.\n",
      "[3] The smallest eigenvalue is      0. This might indicate that there are\n",
      "strong multicollinearity problems or that the design matrix is singular.\n",
      "[0.         0.16943426 0.93359    0.22456439]\n"
     ]
    },
    {
     "name": "stderr",
     "output_type": "stream",
     "text": [
      "/Users/devanshukumar/opt/anaconda3/lib/python3.8/site-packages/scipy/stats/stats.py:1603: UserWarning: kurtosistest only valid for n>=20 ... continuing anyway, n=11\n",
      "  warnings.warn(\"kurtosistest only valid for n>=20 ... continuing \"\n",
      "/Users/devanshukumar/opt/anaconda3/lib/python3.8/site-packages/statsmodels/regression/linear_model.py:1860: RuntimeWarning: divide by zero encountered in double_scalars\n",
      "  return np.sqrt(eigvals[0]/eigvals[-1])\n"
     ]
    }
   ],
   "source": [
    "model = sm.OLS(output_scaled, inputs_scaled)\n",
    "results = model.fit()\n",
    "print(results.summary())\n",
    "print(results.params)"
   ]
  },
  {
   "cell_type": "code",
   "execution_count": 510,
   "metadata": {},
   "outputs": [
    {
     "name": "stdout",
     "output_type": "stream",
     "text": [
      "0.8880577326371111\n"
     ]
    }
   ],
   "source": [
    "pred = results.predict(inputs_scaled_test)\n",
    "err = mse(output_test,pred)\n",
    "print(err)"
   ]
  },
  {
   "cell_type": "code",
   "execution_count": null,
   "metadata": {},
   "outputs": [],
   "source": []
  },
  {
   "cell_type": "code",
   "execution_count": null,
   "metadata": {},
   "outputs": [],
   "source": []
  }
 ],
 "metadata": {
  "kernelspec": {
   "display_name": "Python 3",
   "language": "python",
   "name": "python3"
  },
  "language_info": {
   "codemirror_mode": {
    "name": "ipython",
    "version": 3
   },
   "file_extension": ".py",
   "mimetype": "text/x-python",
   "name": "python",
   "nbconvert_exporter": "python",
   "pygments_lexer": "ipython3",
   "version": "3.8.5"
  }
 },
 "nbformat": 4,
 "nbformat_minor": 2
}
