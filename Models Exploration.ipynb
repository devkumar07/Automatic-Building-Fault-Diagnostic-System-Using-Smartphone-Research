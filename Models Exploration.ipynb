{
 "cells": [
  {
   "cell_type": "code",
   "execution_count": 2,
   "metadata": {},
   "outputs": [
    {
     "data": {
      "text/html": [
       "<div>\n",
       "<style scoped>\n",
       "    .dataframe tbody tr th:only-of-type {\n",
       "        vertical-align: middle;\n",
       "    }\n",
       "\n",
       "    .dataframe tbody tr th {\n",
       "        vertical-align: top;\n",
       "    }\n",
       "\n",
       "    .dataframe thead th {\n",
       "        text-align: right;\n",
       "    }\n",
       "</style>\n",
       "<table border=\"1\" class=\"dataframe\">\n",
       "  <thead>\n",
       "    <tr style=\"text-align: right;\">\n",
       "      <th></th>\n",
       "      <th>outdoor_temp</th>\n",
       "      <th>zone_temp</th>\n",
       "      <th>occupancy</th>\n",
       "      <th>supply_temp</th>\n",
       "      <th>air_flow</th>\n",
       "    </tr>\n",
       "    <tr>\n",
       "      <th>time</th>\n",
       "      <th></th>\n",
       "      <th></th>\n",
       "      <th></th>\n",
       "      <th></th>\n",
       "      <th></th>\n",
       "    </tr>\n",
       "  </thead>\n",
       "  <tbody>\n",
       "    <tr>\n",
       "      <th>2017-01-01 00:00:00</th>\n",
       "      <td>2.200</td>\n",
       "      <td>22.832449</td>\n",
       "      <td>0</td>\n",
       "      <td>25.000003</td>\n",
       "      <td>0.733767</td>\n",
       "    </tr>\n",
       "    <tr>\n",
       "      <th>2017-01-01 00:05:00</th>\n",
       "      <td>1.825</td>\n",
       "      <td>22.824465</td>\n",
       "      <td>0</td>\n",
       "      <td>25.000003</td>\n",
       "      <td>0.733767</td>\n",
       "    </tr>\n",
       "    <tr>\n",
       "      <th>2017-01-01 00:10:00</th>\n",
       "      <td>1.450</td>\n",
       "      <td>22.812760</td>\n",
       "      <td>0</td>\n",
       "      <td>25.000003</td>\n",
       "      <td>0.733767</td>\n",
       "    </tr>\n",
       "    <tr>\n",
       "      <th>2017-01-01 00:15:00</th>\n",
       "      <td>1.075</td>\n",
       "      <td>22.799019</td>\n",
       "      <td>0</td>\n",
       "      <td>25.000003</td>\n",
       "      <td>0.733767</td>\n",
       "    </tr>\n",
       "    <tr>\n",
       "      <th>2017-01-01 00:20:00</th>\n",
       "      <td>0.700</td>\n",
       "      <td>22.784421</td>\n",
       "      <td>0</td>\n",
       "      <td>25.000003</td>\n",
       "      <td>0.733767</td>\n",
       "    </tr>\n",
       "    <tr>\n",
       "      <th>...</th>\n",
       "      <td>...</td>\n",
       "      <td>...</td>\n",
       "      <td>...</td>\n",
       "      <td>...</td>\n",
       "      <td>...</td>\n",
       "    </tr>\n",
       "    <tr>\n",
       "      <th>2017-12-31 23:40:00</th>\n",
       "      <td>6.000</td>\n",
       "      <td>22.990503</td>\n",
       "      <td>0</td>\n",
       "      <td>25.000004</td>\n",
       "      <td>0.733767</td>\n",
       "    </tr>\n",
       "    <tr>\n",
       "      <th>2017-12-31 23:45:00</th>\n",
       "      <td>6.000</td>\n",
       "      <td>22.988552</td>\n",
       "      <td>0</td>\n",
       "      <td>25.000004</td>\n",
       "      <td>0.733767</td>\n",
       "    </tr>\n",
       "    <tr>\n",
       "      <th>2017-12-31 23:50:00</th>\n",
       "      <td>6.000</td>\n",
       "      <td>22.986715</td>\n",
       "      <td>0</td>\n",
       "      <td>25.000004</td>\n",
       "      <td>0.733767</td>\n",
       "    </tr>\n",
       "    <tr>\n",
       "      <th>2017-12-31 23:55:00</th>\n",
       "      <td>6.000</td>\n",
       "      <td>22.984990</td>\n",
       "      <td>0</td>\n",
       "      <td>25.000004</td>\n",
       "      <td>0.733767</td>\n",
       "    </tr>\n",
       "    <tr>\n",
       "      <th>2018-01-01 00:00:00</th>\n",
       "      <td>6.000</td>\n",
       "      <td>22.983374</td>\n",
       "      <td>0</td>\n",
       "      <td>25.000004</td>\n",
       "      <td>0.733767</td>\n",
       "    </tr>\n",
       "  </tbody>\n",
       "</table>\n",
       "<p>105121 rows × 5 columns</p>\n",
       "</div>"
      ],
      "text/plain": [
       "                     outdoor_temp  zone_temp  occupancy  supply_temp  air_flow\n",
       "time                                                                          \n",
       "2017-01-01 00:00:00         2.200  22.832449          0    25.000003  0.733767\n",
       "2017-01-01 00:05:00         1.825  22.824465          0    25.000003  0.733767\n",
       "2017-01-01 00:10:00         1.450  22.812760          0    25.000003  0.733767\n",
       "2017-01-01 00:15:00         1.075  22.799019          0    25.000003  0.733767\n",
       "2017-01-01 00:20:00         0.700  22.784421          0    25.000003  0.733767\n",
       "...                           ...        ...        ...          ...       ...\n",
       "2017-12-31 23:40:00         6.000  22.990503          0    25.000004  0.733767\n",
       "2017-12-31 23:45:00         6.000  22.988552          0    25.000004  0.733767\n",
       "2017-12-31 23:50:00         6.000  22.986715          0    25.000004  0.733767\n",
       "2017-12-31 23:55:00         6.000  22.984990          0    25.000004  0.733767\n",
       "2018-01-01 00:00:00         6.000  22.983374          0    25.000004  0.733767\n",
       "\n",
       "[105121 rows x 5 columns]"
      ]
     },
     "execution_count": 2,
     "metadata": {},
     "output_type": "execute_result"
    }
   ],
   "source": [
    "import pandas as pd\n",
    "import numpy as np\n",
    "\n",
    "data = pd.read_csv('data/result.csv', parse_dates=['time'], index_col=['time'])\n",
    "data"
   ]
  },
  {
   "cell_type": "code",
   "execution_count": 3,
   "metadata": {},
   "outputs": [],
   "source": [
    "train_data = data.loc['2017-07-04 07:30:00':'2017-07-04 09:30:00']\n",
    "test_data = data.loc['2017-07-04 09:35:00':'2017-07-04 11:00:00']"
   ]
  },
  {
   "cell_type": "markdown",
   "metadata": {},
   "source": [
    "# Data Visualization"
   ]
  },
  {
   "cell_type": "code",
   "execution_count": 4,
   "metadata": {},
   "outputs": [
    {
     "data": {
      "image/png": "[encoded data removed]",
      "text/plain": [
       "<Figure size 1008x576 with 1 Axes>"
      ]
     },
     "metadata": {
      "needs_background": "light"
     },
     "output_type": "display_data"
    }
   ],
   "source": [
    "import matplotlib.pyplot as plt\n",
    "import matplotlib.dates as mdates\n",
    "from datetime import datetime\n",
    "\n",
    "fig, ax = plt.subplots()\n",
    "hours = mdates.HourLocator(interval = 1)\n",
    "h_fmt = mdates.DateFormatter('%H:%M:%S')\n",
    "\n",
    "ax.plot(train_data.index, train_data['zone_temp'].values, color = 'red', linewidth = 0.8, label = 'zone temp')\n",
    "ax.plot(train_data.index, train_data['supply_temp'].values, color = 'green', linewidth = 0.8, label = 'supply temp')\n",
    "ax.plot(train_data.index, train_data['occupancy'].values, color = 'black', linewidth = 0.8, label = 'occupancy')\n",
    "ax.plot(train_data.index, train_data['outdoor_temp'].values, color = 'violet', linewidth = 0.8, label = 'outdoor temp')\n",
    "#Then tick and format with matplotlib:\n",
    "ax.xaxis.set_major_locator(hours)\n",
    "ax.xaxis.set_major_formatter(h_fmt)\n",
    "\n",
    "fig.autofmt_xdate()\n",
    "fig.set_size_inches(14, 8)\n",
    "plt.legend()\n",
    "plt.show()"
   ]
  },
  {
   "cell_type": "markdown",
   "metadata": {},
   "source": [
    "# Data Preprocessing"
   ]
  },
  {
   "cell_type": "code",
   "execution_count": 5,
   "metadata": {},
   "outputs": [],
   "source": [
    "from sklearn.preprocessing import MinMaxScaler\n",
    "\n",
    "x_train = train_data[['supply_temp', 'air_flow','outdoor_temp','occupancy']]\n",
    "y_train = train_data[['zone_temp']]\n",
    "\n",
    "x_test = test_data[['supply_temp', 'air_flow','outdoor_temp','occupancy']]\n",
    "y_test = test_data[['zone_temp']]\n",
    "\n",
    "scaler = MinMaxScaler().fit(x_train)\n",
    "\n",
    "x_train_norm = scaler.transform(x_train)\n",
    "x_test_norm = scaler.transform(x_test)"
   ]
  },
  {
   "cell_type": "markdown",
   "metadata": {},
   "source": [
    "# Linear Regression"
   ]
  },
  {
   "cell_type": "code",
   "execution_count": 6,
   "metadata": {},
   "outputs": [
    {
     "data": {
      "text/html": [
       "<table class=\"simpletable\">\n",
       "<caption>OLS Regression Results</caption>\n",
       "<tr>\n",
       "  <th>Dep. Variable:</th>        <td>zone_temp</td>    <th>  R-squared (uncentered):</th>      <td>   0.994</td>\n",
       "</tr>\n",
       "<tr>\n",
       "  <th>Model:</th>                   <td>OLS</td>       <th>  Adj. R-squared (uncentered):</th> <td>   0.993</td>\n",
       "</tr>\n",
       "<tr>\n",
       "  <th>Method:</th>             <td>Least Squares</td>  <th>  F-statistic:       </th>          <td>   1162.</td>\n",
       "</tr>\n",
       "<tr>\n",
       "  <th>Date:</th>             <td>Sun, 31 Jan 2021</td> <th>  Prob (F-statistic):</th>          <td>2.28e-24</td>\n",
       "</tr>\n",
       "<tr>\n",
       "  <th>Time:</th>                 <td>10:49:22</td>     <th>  Log-Likelihood:    </th>          <td> -48.982</td>\n",
       "</tr>\n",
       "<tr>\n",
       "  <th>No. Observations:</th>      <td>    25</td>      <th>  AIC:               </th>          <td>   104.0</td>\n",
       "</tr>\n",
       "<tr>\n",
       "  <th>Df Residuals:</th>          <td>    22</td>      <th>  BIC:               </th>          <td>   107.6</td>\n",
       "</tr>\n",
       "<tr>\n",
       "  <th>Df Model:</th>              <td>     3</td>      <th>                     </th>              <td> </td>   \n",
       "</tr>\n",
       "<tr>\n",
       "  <th>Covariance Type:</th>      <td>nonrobust</td>    <th>                     </th>              <td> </td>   \n",
       "</tr>\n",
       "</table>\n",
       "<table class=\"simpletable\">\n",
       "<tr>\n",
       "   <td></td>     <th>coef</th>     <th>std err</th>      <th>t</th>      <th>P>|t|</th>  <th>[0.025</th>    <th>0.975]</th>  \n",
       "</tr>\n",
       "<tr>\n",
       "  <th>x1</th> <td>   23.8234</td> <td>    0.814</td> <td>   29.261</td> <td> 0.000</td> <td>   22.135</td> <td>   25.512</td>\n",
       "</tr>\n",
       "<tr>\n",
       "  <th>x2</th> <td>   10.2269</td> <td>    0.631</td> <td>   16.209</td> <td> 0.000</td> <td>    8.918</td> <td>   11.535</td>\n",
       "</tr>\n",
       "<tr>\n",
       "  <th>x3</th> <td>   -3.4194</td> <td>    1.864</td> <td>   -1.834</td> <td> 0.080</td> <td>   -7.286</td> <td>    0.447</td>\n",
       "</tr>\n",
       "<tr>\n",
       "  <th>x4</th> <td>   10.2269</td> <td>    0.631</td> <td>   16.209</td> <td> 0.000</td> <td>    8.918</td> <td>   11.535</td>\n",
       "</tr>\n",
       "</table>\n",
       "<table class=\"simpletable\">\n",
       "<tr>\n",
       "  <th>Omnibus:</th>       <td> 1.343</td> <th>  Durbin-Watson:     </th> <td>   0.995</td>\n",
       "</tr>\n",
       "<tr>\n",
       "  <th>Prob(Omnibus):</th> <td> 0.511</td> <th>  Jarque-Bera (JB):  </th> <td>   0.963</td>\n",
       "</tr>\n",
       "<tr>\n",
       "  <th>Skew:</th>          <td>-0.471</td> <th>  Prob(JB):          </th> <td>   0.618</td>\n",
       "</tr>\n",
       "<tr>\n",
       "  <th>Kurtosis:</th>      <td> 2.808</td> <th>  Cond. No.          </th> <td>6.39e+15</td>\n",
       "</tr>\n",
       "</table><br/><br/>Warnings:<br/>[1] Standard Errors assume that the covariance matrix of the errors is correctly specified.<br/>[2] The smallest eigenvalue is 1.09e-30. This might indicate that there are<br/>strong multicollinearity problems or that the design matrix is singular."
      ],
      "text/plain": [
       "<class 'statsmodels.iolib.summary.Summary'>\n",
       "\"\"\"\n",
       "                                 OLS Regression Results                                \n",
       "=======================================================================================\n",
       "Dep. Variable:              zone_temp   R-squared (uncentered):                   0.994\n",
       "Model:                            OLS   Adj. R-squared (uncentered):              0.993\n",
       "Method:                 Least Squares   F-statistic:                              1162.\n",
       "Date:                Sun, 31 Jan 2021   Prob (F-statistic):                    2.28e-24\n",
       "Time:                        10:49:22   Log-Likelihood:                         -48.982\n",
       "No. Observations:                  25   AIC:                                      104.0\n",
       "Df Residuals:                      22   BIC:                                      107.6\n",
       "Df Model:                           3                                                  \n",
       "Covariance Type:            nonrobust                                                  \n",
       "==============================================================================\n",
       "                 coef    std err          t      P>|t|      [0.025      0.975]\n",
       "------------------------------------------------------------------------------\n",
       "x1            23.8234      0.814     29.261      0.000      22.135      25.512\n",
       "x2            10.2269      0.631     16.209      0.000       8.918      11.535\n",
       "x3            -3.4194      1.864     -1.834      0.080      -7.286       0.447\n",
       "x4            10.2269      0.631     16.209      0.000       8.918      11.535\n",
       "==============================================================================\n",
       "Omnibus:                        1.343   Durbin-Watson:                   0.995\n",
       "Prob(Omnibus):                  0.511   Jarque-Bera (JB):                0.963\n",
       "Skew:                          -0.471   Prob(JB):                        0.618\n",
       "Kurtosis:                       2.808   Cond. No.                     6.39e+15\n",
       "==============================================================================\n",
       "\n",
       "Warnings:\n",
       "[1] Standard Errors assume that the covariance matrix of the errors is correctly specified.\n",
       "[2] The smallest eigenvalue is 1.09e-30. This might indicate that there are\n",
       "strong multicollinearity problems or that the design matrix is singular.\n",
       "\"\"\""
      ]
     },
     "execution_count": 6,
     "metadata": {},
     "output_type": "execute_result"
    }
   ],
   "source": [
    "import statsmodels.api as sm\n",
    "\n",
    "model = sm.OLS(y_train, x_train_norm)\n",
    "results = model.fit()\n",
    "results.summary()"
   ]
  },
  {
   "cell_type": "code",
   "execution_count": 7,
   "metadata": {},
   "outputs": [],
   "source": [
    "pred = results.predict(x_test_norm)\n",
    "#print(pred)\n",
    "#print(y_test)"
   ]
  },
  {
   "cell_type": "code",
   "execution_count": 8,
   "metadata": {},
   "outputs": [
    {
     "data": {
      "text/plain": [
       "14.122249316496053"
      ]
     },
     "execution_count": 8,
     "metadata": {},
     "output_type": "execute_result"
    }
   ],
   "source": [
    "from sklearn.metrics import mean_squared_error\n",
    "\n",
    "mean_squared_error(y_test, pred)"
   ]
  },
  {
   "cell_type": "code",
   "execution_count": 9,
   "metadata": {},
   "outputs": [],
   "source": [
    "bounds = y_test.copy()\n",
    "bounds['pred'] = pred\n"
   ]
  },
  {
   "cell_type": "markdown",
   "metadata": {},
   "source": [
    "# Actual values vs Predicted values (Linear Regression)"
   ]
  },
  {
   "cell_type": "code",
   "execution_count": 10,
   "metadata": {},
   "outputs": [
    {
     "data": {
      "image/png": "[encoded data removed]",
      "text/plain": [
       "<Figure size 1008x576 with 1 Axes>"
      ]
     },
     "metadata": {
      "needs_background": "light"
     },
     "output_type": "display_data"
    }
   ],
   "source": [
    "fig, ax = plt.subplots()\n",
    "hours = mdates.MinuteLocator(interval = 10)\n",
    "h_fmt = mdates.DateFormatter('%H:%M:%S')\n",
    "\n",
    "ax.plot(bounds.index, bounds['zone_temp'].values, '--', color = 'green', label = 'Actual')\n",
    "ax.plot(bounds.index, bounds['pred'].values, '--', color = 'black', label = 'Predicted')\n",
    "\n",
    "#Then tick and format with matplotlib:\n",
    "ax.xaxis.set_major_locator(hours)\n",
    "ax.xaxis.set_major_formatter(h_fmt)\n",
    "\n",
    "fig.autofmt_xdate()\n",
    "fig.set_size_inches(14, 8)\n",
    "#plt.fill_between(bounds.index, bounds['upper'].values,bounds['lower'].values,color='cornflowerblue',alpha=.5)\n",
    "plt.legend()\n",
    "plt.show()"
   ]
  },
  {
   "cell_type": "code",
   "execution_count": 11,
   "metadata": {},
   "outputs": [],
   "source": [
    "from sklearn.gaussian_process import GaussianProcessRegressor\n",
    "from sklearn.gaussian_process.kernels import DotProduct, WhiteKernel\n",
    "\n",
    "kernel = DotProduct() + WhiteKernel()\n",
    "gpr = GaussianProcessRegressor(kernel=kernel, random_state=0).fit(x_train_norm, y_train)\n",
    "gpr.score(x_train_norm, y_train)\n",
    "\n",
    "pred = gpr.predict(x_test_norm, return_std=True)\n",
    "# print(pred)\n",
    "# print(y_test)"
   ]
  },
  {
   "cell_type": "code",
   "execution_count": 12,
   "metadata": {},
   "outputs": [
    {
     "data": {
      "text/plain": [
       "0.051949598684757486"
      ]
     },
     "execution_count": 12,
     "metadata": {},
     "output_type": "execute_result"
    }
   ],
   "source": [
    "mean_squared_error(y_test, pred[0])"
   ]
  },
  {
   "cell_type": "code",
   "execution_count": 13,
   "metadata": {},
   "outputs": [
    {
     "data": {
      "text/html": [
       "<div>\n",
       "<style scoped>\n",
       "    .dataframe tbody tr th:only-of-type {\n",
       "        vertical-align: middle;\n",
       "    }\n",
       "\n",
       "    .dataframe tbody tr th {\n",
       "        vertical-align: top;\n",
       "    }\n",
       "\n",
       "    .dataframe thead th {\n",
       "        text-align: right;\n",
       "    }\n",
       "</style>\n",
       "<table border=\"1\" class=\"dataframe\">\n",
       "  <thead>\n",
       "    <tr style=\"text-align: right;\">\n",
       "      <th></th>\n",
       "      <th>zone_temp</th>\n",
       "      <th>pred</th>\n",
       "    </tr>\n",
       "    <tr>\n",
       "      <th>time</th>\n",
       "      <th></th>\n",
       "      <th></th>\n",
       "    </tr>\n",
       "  </thead>\n",
       "  <tbody>\n",
       "    <tr>\n",
       "      <th>2017-07-04 09:35:00</th>\n",
       "      <td>22.581924</td>\n",
       "      <td>22.428229</td>\n",
       "    </tr>\n",
       "    <tr>\n",
       "      <th>2017-07-04 09:40:00</th>\n",
       "      <td>22.643272</td>\n",
       "      <td>22.483465</td>\n",
       "    </tr>\n",
       "    <tr>\n",
       "      <th>2017-07-04 09:45:00</th>\n",
       "      <td>22.703502</td>\n",
       "      <td>22.538278</td>\n",
       "    </tr>\n",
       "    <tr>\n",
       "      <th>2017-07-04 09:50:00</th>\n",
       "      <td>22.764364</td>\n",
       "      <td>22.592681</td>\n",
       "    </tr>\n",
       "    <tr>\n",
       "      <th>2017-07-04 09:55:00</th>\n",
       "      <td>22.826025</td>\n",
       "      <td>22.646689</td>\n",
       "    </tr>\n",
       "    <tr>\n",
       "      <th>2017-07-04 10:00:00</th>\n",
       "      <td>22.888415</td>\n",
       "      <td>22.700318</td>\n",
       "    </tr>\n",
       "    <tr>\n",
       "      <th>2017-07-04 10:05:00</th>\n",
       "      <td>22.954525</td>\n",
       "      <td>22.754568</td>\n",
       "    </tr>\n",
       "    <tr>\n",
       "      <th>2017-07-04 10:10:00</th>\n",
       "      <td>23.021775</td>\n",
       "      <td>22.807737</td>\n",
       "    </tr>\n",
       "    <tr>\n",
       "      <th>2017-07-04 10:15:00</th>\n",
       "      <td>23.088946</td>\n",
       "      <td>22.860498</td>\n",
       "    </tr>\n",
       "    <tr>\n",
       "      <th>2017-07-04 10:20:00</th>\n",
       "      <td>23.156351</td>\n",
       "      <td>22.912915</td>\n",
       "    </tr>\n",
       "    <tr>\n",
       "      <th>2017-07-04 10:25:00</th>\n",
       "      <td>23.224527</td>\n",
       "      <td>22.965013</td>\n",
       "    </tr>\n",
       "    <tr>\n",
       "      <th>2017-07-04 10:30:00</th>\n",
       "      <td>23.293712</td>\n",
       "      <td>23.016812</td>\n",
       "    </tr>\n",
       "    <tr>\n",
       "      <th>2017-07-04 10:35:00</th>\n",
       "      <td>23.364270</td>\n",
       "      <td>23.068191</td>\n",
       "    </tr>\n",
       "    <tr>\n",
       "      <th>2017-07-04 10:40:00</th>\n",
       "      <td>23.422336</td>\n",
       "      <td>23.124628</td>\n",
       "    </tr>\n",
       "    <tr>\n",
       "      <th>2017-07-04 10:45:00</th>\n",
       "      <td>23.465498</td>\n",
       "      <td>23.183503</td>\n",
       "    </tr>\n",
       "    <tr>\n",
       "      <th>2017-07-04 10:50:00</th>\n",
       "      <td>23.502301</td>\n",
       "      <td>23.240629</td>\n",
       "    </tr>\n",
       "    <tr>\n",
       "      <th>2017-07-04 10:55:00</th>\n",
       "      <td>23.533461</td>\n",
       "      <td>23.299318</td>\n",
       "    </tr>\n",
       "    <tr>\n",
       "      <th>2017-07-04 11:00:00</th>\n",
       "      <td>23.560820</td>\n",
       "      <td>23.357741</td>\n",
       "    </tr>\n",
       "  </tbody>\n",
       "</table>\n",
       "</div>"
      ],
      "text/plain": [
       "                     zone_temp       pred\n",
       "time                                     \n",
       "2017-07-04 09:35:00  22.581924  22.428229\n",
       "2017-07-04 09:40:00  22.643272  22.483465\n",
       "2017-07-04 09:45:00  22.703502  22.538278\n",
       "2017-07-04 09:50:00  22.764364  22.592681\n",
       "2017-07-04 09:55:00  22.826025  22.646689\n",
       "2017-07-04 10:00:00  22.888415  22.700318\n",
       "2017-07-04 10:05:00  22.954525  22.754568\n",
       "2017-07-04 10:10:00  23.021775  22.807737\n",
       "2017-07-04 10:15:00  23.088946  22.860498\n",
       "2017-07-04 10:20:00  23.156351  22.912915\n",
       "2017-07-04 10:25:00  23.224527  22.965013\n",
       "2017-07-04 10:30:00  23.293712  23.016812\n",
       "2017-07-04 10:35:00  23.364270  23.068191\n",
       "2017-07-04 10:40:00  23.422336  23.124628\n",
       "2017-07-04 10:45:00  23.465498  23.183503\n",
       "2017-07-04 10:50:00  23.502301  23.240629\n",
       "2017-07-04 10:55:00  23.533461  23.299318\n",
       "2017-07-04 11:00:00  23.560820  23.357741"
      ]
     },
     "execution_count": 13,
     "metadata": {},
     "output_type": "execute_result"
    }
   ],
   "source": [
    "bounds = y_test.copy()\n",
    "bounds['pred'] = pred[0]\n",
    "bounds"
   ]
  },
  {
   "cell_type": "markdown",
   "metadata": {},
   "source": [
    "# Actual values vs Predicted values (Gaussain Process Regression)"
   ]
  },
  {
   "cell_type": "code",
   "execution_count": 14,
   "metadata": {},
   "outputs": [
    {
     "data": {
      "image/png": "[encoded data removed]",
      "text/plain": [
       "<Figure size 1008x576 with 1 Axes>"
      ]
     },
     "metadata": {
      "needs_background": "light"
     },
     "output_type": "display_data"
    }
   ],
   "source": [
    "fig, ax = plt.subplots()\n",
    "hours = mdates.MinuteLocator(interval = 10)\n",
    "h_fmt = mdates.DateFormatter('%H:%M:%S')\n",
    "\n",
    "ax.plot(bounds.index, bounds['zone_temp'].values, '--', color = 'green', label = 'Actual')\n",
    "ax.plot(bounds.index, bounds['pred'].values, '--', color = 'black', label = 'Predicted')\n",
    "\n",
    "#Then tick and format with matplotlib:\n",
    "ax.xaxis.set_major_locator(hours)\n",
    "ax.xaxis.set_major_formatter(h_fmt)\n",
    "\n",
    "fig.autofmt_xdate()\n",
    "fig.set_size_inches(14, 8)\n",
    "#plt.fill_between(bounds.index, bounds['upper'].values,bounds['lower'].values,color='cornflowerblue',alpha=.5)\n",
    "plt.legend()\n",
    "plt.show()"
   ]
  },
  {
   "cell_type": "code",
   "execution_count": 18,
   "metadata": {},
   "outputs": [
    {
     "name": "stdout",
     "output_type": "stream",
     "text": [
      "<class 'pandas.core.frame.DataFrame'>\n"
     ]
    }
   ],
   "source": [
    "\n",
    "d = pd.read_csv('data/result.csv')\n",
    "err = 100000\n",
    "end_index = 2\n",
    "while err < 0.1:\n",
    "    zone_data = d[0:end_index]\n",
    "    zone_data['time'] = pd.to_datetime(zone_data['time'], dayfirst=False)\n",
    "    start_time = zone_data['time'][0]\n",
    "    end_time = zone_data['time'][len(zone_data['time'])-1]\n",
    "    train = data.loc['2017-07-04 07:30:00':'2017-07-04 07:40:00']\n",
    "    test_data = data.loc['2017-07-04 09:35:00':'2017-07-04 09:45:00']\n",
    "    x_train = train[['supply_temp', 'air_flow','outdoor_temp','occupancy']]\n",
    "    y_train = train[['zone_temp']]\n",
    "\n",
    "    scaler = MinMaxScaler().fit(x_train)\n",
    "\n",
    "    x_train_norm = scaler.transform(x_train)  \n",
    "    \n",
    "#test_data = data.loc['2017-07-04 09:35:00':'2017-07-04 11:00:00']"
   ]
  },
  {
   "cell_type": "code",
   "execution_count": null,
   "metadata": {},
   "outputs": [],
   "source": []
  }
 ],
 "metadata": {
  "kernelspec": {
   "display_name": "Python 3",
   "language": "python",
   "name": "python3"
  },
  "language_info": {
   "codemirror_mode": {
    "name": "ipython",
    "version": 3
   },
   "file_extension": ".py",
   "mimetype": "text/x-python",
   "name": "python",
   "nbconvert_exporter": "python",
   "pygments_lexer": "ipython3",
   "version": "3.8.3"
  }
 },
 "nbformat": 4,
 "nbformat_minor": 4
}
