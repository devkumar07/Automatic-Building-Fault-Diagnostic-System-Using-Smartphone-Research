{
 "cells": [
  {
   "cell_type": "code",
   "execution_count": 15,
   "metadata": {},
   "outputs": [
    {
     "data": {
      "text/html": [
       "<div>\n",
       "<style scoped>\n",
       "    .dataframe tbody tr th:only-of-type {\n",
       "        vertical-align: middle;\n",
       "    }\n",
       "\n",
       "    .dataframe tbody tr th {\n",
       "        vertical-align: top;\n",
       "    }\n",
       "\n",
       "    .dataframe thead th {\n",
       "        text-align: right;\n",
       "    }\n",
       "</style>\n",
       "<table border=\"1\" class=\"dataframe\">\n",
       "  <thead>\n",
       "    <tr style=\"text-align: right;\">\n",
       "      <th></th>\n",
       "      <th>outdoor_temp</th>\n",
       "      <th>zone_temp</th>\n",
       "      <th>occupancy</th>\n",
       "      <th>supply_temp</th>\n",
       "      <th>air_flow</th>\n",
       "    </tr>\n",
       "    <tr>\n",
       "      <th>time</th>\n",
       "      <th></th>\n",
       "      <th></th>\n",
       "      <th></th>\n",
       "      <th></th>\n",
       "      <th></th>\n",
       "    </tr>\n",
       "  </thead>\n",
       "  <tbody>\n",
       "    <tr>\n",
       "      <th>2017-01-01 00:00:00</th>\n",
       "      <td>2.200</td>\n",
       "      <td>22.832449</td>\n",
       "      <td>0</td>\n",
       "      <td>25.000003</td>\n",
       "      <td>0.733767</td>\n",
       "    </tr>\n",
       "    <tr>\n",
       "      <th>2017-01-01 00:05:00</th>\n",
       "      <td>1.825</td>\n",
       "      <td>22.824465</td>\n",
       "      <td>0</td>\n",
       "      <td>25.000003</td>\n",
       "      <td>0.733767</td>\n",
       "    </tr>\n",
       "    <tr>\n",
       "      <th>2017-01-01 00:10:00</th>\n",
       "      <td>1.450</td>\n",
       "      <td>22.812760</td>\n",
       "      <td>0</td>\n",
       "      <td>25.000003</td>\n",
       "      <td>0.733767</td>\n",
       "    </tr>\n",
       "    <tr>\n",
       "      <th>2017-01-01 00:15:00</th>\n",
       "      <td>1.075</td>\n",
       "      <td>22.799019</td>\n",
       "      <td>0</td>\n",
       "      <td>25.000003</td>\n",
       "      <td>0.733767</td>\n",
       "    </tr>\n",
       "    <tr>\n",
       "      <th>2017-01-01 00:20:00</th>\n",
       "      <td>0.700</td>\n",
       "      <td>22.784421</td>\n",
       "      <td>0</td>\n",
       "      <td>25.000003</td>\n",
       "      <td>0.733767</td>\n",
       "    </tr>\n",
       "    <tr>\n",
       "      <th>...</th>\n",
       "      <td>...</td>\n",
       "      <td>...</td>\n",
       "      <td>...</td>\n",
       "      <td>...</td>\n",
       "      <td>...</td>\n",
       "    </tr>\n",
       "    <tr>\n",
       "      <th>2017-12-31 23:40:00</th>\n",
       "      <td>6.000</td>\n",
       "      <td>22.990503</td>\n",
       "      <td>0</td>\n",
       "      <td>25.000004</td>\n",
       "      <td>0.733767</td>\n",
       "    </tr>\n",
       "    <tr>\n",
       "      <th>2017-12-31 23:45:00</th>\n",
       "      <td>6.000</td>\n",
       "      <td>22.988552</td>\n",
       "      <td>0</td>\n",
       "      <td>25.000004</td>\n",
       "      <td>0.733767</td>\n",
       "    </tr>\n",
       "    <tr>\n",
       "      <th>2017-12-31 23:50:00</th>\n",
       "      <td>6.000</td>\n",
       "      <td>22.986715</td>\n",
       "      <td>0</td>\n",
       "      <td>25.000004</td>\n",
       "      <td>0.733767</td>\n",
       "    </tr>\n",
       "    <tr>\n",
       "      <th>2017-12-31 23:55:00</th>\n",
       "      <td>6.000</td>\n",
       "      <td>22.984990</td>\n",
       "      <td>0</td>\n",
       "      <td>25.000004</td>\n",
       "      <td>0.733767</td>\n",
       "    </tr>\n",
       "    <tr>\n",
       "      <th>2018-01-01 00:00:00</th>\n",
       "      <td>6.000</td>\n",
       "      <td>22.983374</td>\n",
       "      <td>0</td>\n",
       "      <td>25.000004</td>\n",
       "      <td>0.733767</td>\n",
       "    </tr>\n",
       "  </tbody>\n",
       "</table>\n",
       "<p>105121 rows × 5 columns</p>\n",
       "</div>"
      ],
      "text/plain": [
       "                     outdoor_temp  zone_temp  occupancy  supply_temp  air_flow\n",
       "time                                                                          \n",
       "2017-01-01 00:00:00         2.200  22.832449          0    25.000003  0.733767\n",
       "2017-01-01 00:05:00         1.825  22.824465          0    25.000003  0.733767\n",
       "2017-01-01 00:10:00         1.450  22.812760          0    25.000003  0.733767\n",
       "2017-01-01 00:15:00         1.075  22.799019          0    25.000003  0.733767\n",
       "2017-01-01 00:20:00         0.700  22.784421          0    25.000003  0.733767\n",
       "...                           ...        ...        ...          ...       ...\n",
       "2017-12-31 23:40:00         6.000  22.990503          0    25.000004  0.733767\n",
       "2017-12-31 23:45:00         6.000  22.988552          0    25.000004  0.733767\n",
       "2017-12-31 23:50:00         6.000  22.986715          0    25.000004  0.733767\n",
       "2017-12-31 23:55:00         6.000  22.984990          0    25.000004  0.733767\n",
       "2018-01-01 00:00:00         6.000  22.983374          0    25.000004  0.733767\n",
       "\n",
       "[105121 rows x 5 columns]"
      ]
     },
     "execution_count": 15,
     "metadata": {},
     "output_type": "execute_result"
    }
   ],
   "source": [
    "import pandas as pd\n",
    "import numpy as np\n",
    "\n",
    "data = pd.read_csv('data/result.csv', parse_dates=['time'], index_col=['time'])\n",
    "data"
   ]
  },
  {
   "cell_type": "code",
   "execution_count": 19,
   "metadata": {},
   "outputs": [],
   "source": [
    "train_data = data.loc['2017-07-04 07:00:00':'2017-07-04 09:00:00']\n",
    "test_data = data.loc['2017-04-07 08:35:00':'2017-04-07 09:30:00']"
   ]
  },
  {
   "cell_type": "markdown",
   "metadata": {},
   "source": [
    "# Data Visualization"
   ]
  },
  {
   "cell_type": "code",
   "execution_count": 21,
   "metadata": {},
   "outputs": [
    {
     "data": {
      "image/png": "[encoded data removed]",
      "text/plain": [
       "<Figure size 1008x576 with 1 Axes>"
      ]
     },
     "metadata": {
      "needs_background": "light"
     },
     "output_type": "display_data"
    }
   ],
   "source": [
    "import matplotlib.pyplot as plt\n",
    "import matplotlib.dates as mdates\n",
    "from datetime import datetime\n",
    "\n",
    "fig, ax = plt.subplots()\n",
    "hours = mdates.HourLocator(interval = 1)\n",
    "h_fmt = mdates.DateFormatter('%H:%M:%S')\n",
    "\n",
    "ax.plot(train_data.index, train_data['zone_temp'].values, color = 'red', linewidth = 0.8, label = 'zone temp')\n",
    "#ax.plot(train_data.index, train_data['zone_temp'].values * 1.3, color = 'brown', linewidth = 0.8, label = 'true zone temp')\n",
    "ax.plot(train_data.index, train_data['supply_temp'].values, color = 'green', linewidth = 0.8, label = 'supply temp')\n",
    "ax.plot(train_data.index, train_data['occupancy'].values, color = 'black', linewidth = 0.8, label = 'occupancy')\n",
    "ax.plot(train_data.index, train_data['outdoor_temp'].values, color = 'violet', linewidth = 0.8, label = 'outdoor temp')\n",
    "#Then tick and format with matplotlib:\n",
    "ax.xaxis.set_major_locator(hours)\n",
    "ax.xaxis.set_major_formatter(h_fmt)\n",
    "\n",
    "fig.autofmt_xdate()\n",
    "fig.set_size_inches(14, 8)\n",
    "plt.legend()\n",
    "plt.show()"
   ]
  },
  {
   "cell_type": "code",
   "execution_count": 8,
   "metadata": {},
   "outputs": [
    {
     "data": {
      "text/plain": [
       "<AxesSubplot:>"
      ]
     },
     "execution_count": 8,
     "metadata": {},
     "output_type": "execute_result"
    },
    {
     "data": {
      "image/png": "[encoded data removed]",
      "text/plain": [
       "<Figure size 864x864 with 2 Axes>"
      ]
     },
     "metadata": {
      "needs_background": "light"
     },
     "output_type": "display_data"
    }
   ],
   "source": [
    "import seaborn as sns\n",
    "plt.figure(figsize=(12,12))\n",
    "sns.heatmap(train_data.corr())"
   ]
  },
  {
   "cell_type": "markdown",
   "metadata": {},
   "source": [
    "# Data Preprocessing"
   ]
  },
  {
   "cell_type": "code",
   "execution_count": 9,
   "metadata": {},
   "outputs": [],
   "source": [
    "from sklearn.preprocessing import MinMaxScaler\n",
    "\n",
    "x_train = train_data[['supply_temp', 'air_flow','outdoor_temp','occupancy']]\n",
    "y_train = train_data[['zone_temp']]\n",
    "\n",
    "x_test = test_data[['supply_temp', 'air_flow','outdoor_temp','occupancy']]\n",
    "y_test = test_data[['zone_temp']]\n",
    "\n",
    "\n",
    "scaler = MinMaxScaler().fit(x_train)\n",
    "\n",
    "x_train_norm = scaler.transform(x_train)\n",
    "x_test_norm = scaler.transform(x_test)"
   ]
  },
  {
   "cell_type": "markdown",
   "metadata": {},
   "source": [
    "# Linear Regression"
   ]
  },
  {
   "cell_type": "code",
   "execution_count": 10,
   "metadata": {},
   "outputs": [
    {
     "name": "stderr",
     "output_type": "stream",
     "text": [
      "/Users/devanshukumar/opt/anaconda3/lib/python3.8/site-packages/scipy/stats/stats.py:1603: UserWarning: kurtosistest only valid for n>=20 ... continuing anyway, n=19\n",
      "  warnings.warn(\"kurtosistest only valid for n>=20 ... continuing \"\n",
      "/Users/devanshukumar/opt/anaconda3/lib/python3.8/site-packages/statsmodels/regression/linear_model.py:1860: RuntimeWarning: divide by zero encountered in double_scalars\n",
      "  return np.sqrt(eigvals[0]/eigvals[-1])\n"
     ]
    },
    {
     "data": {
      "text/html": [
       "<table class=\"simpletable\">\n",
       "<caption>OLS Regression Results</caption>\n",
       "<tr>\n",
       "  <th>Dep. Variable:</th>        <td>zone_temp</td>    <th>  R-squared (uncentered):</th>      <td>   0.953</td>\n",
       "</tr>\n",
       "<tr>\n",
       "  <th>Model:</th>                   <td>OLS</td>       <th>  Adj. R-squared (uncentered):</th> <td>   0.947</td>\n",
       "</tr>\n",
       "<tr>\n",
       "  <th>Method:</th>             <td>Least Squares</td>  <th>  F-statistic:       </th>          <td>   171.3</td>\n",
       "</tr>\n",
       "<tr>\n",
       "  <th>Date:</th>             <td>Mon, 29 Mar 2021</td> <th>  Prob (F-statistic):</th>          <td>5.43e-12</td>\n",
       "</tr>\n",
       "<tr>\n",
       "  <th>Time:</th>                 <td>15:28:53</td>     <th>  Log-Likelihood:    </th>          <td> -55.938</td>\n",
       "</tr>\n",
       "<tr>\n",
       "  <th>No. Observations:</th>      <td>    19</td>      <th>  AIC:               </th>          <td>   115.9</td>\n",
       "</tr>\n",
       "<tr>\n",
       "  <th>Df Residuals:</th>          <td>    17</td>      <th>  BIC:               </th>          <td>   117.8</td>\n",
       "</tr>\n",
       "<tr>\n",
       "  <th>Df Model:</th>              <td>     2</td>      <th>                     </th>              <td> </td>   \n",
       "</tr>\n",
       "<tr>\n",
       "  <th>Covariance Type:</th>      <td>nonrobust</td>    <th>                     </th>              <td> </td>   \n",
       "</tr>\n",
       "</table>\n",
       "<table class=\"simpletable\">\n",
       "<tr>\n",
       "    <td></td>       <th>coef</th>     <th>std err</th>      <th>t</th>      <th>P>|t|</th>  <th>[0.025</th>    <th>0.975]</th>  \n",
       "</tr>\n",
       "<tr>\n",
       "  <th>x1</th>    <td>   19.4963</td> <td>    2.288</td> <td>    8.521</td> <td> 0.000</td> <td>   14.669</td> <td>   24.324</td>\n",
       "</tr>\n",
       "<tr>\n",
       "  <th>const</th> <td>         0</td> <td>        0</td> <td>      nan</td> <td>   nan</td> <td>        0</td> <td>        0</td>\n",
       "</tr>\n",
       "<tr>\n",
       "  <th>x2</th>    <td>   19.0430</td> <td>    2.160</td> <td>    8.815</td> <td> 0.000</td> <td>   14.485</td> <td>   23.601</td>\n",
       "</tr>\n",
       "<tr>\n",
       "  <th>x3</th>    <td>         0</td> <td>        0</td> <td>      nan</td> <td>   nan</td> <td>        0</td> <td>        0</td>\n",
       "</tr>\n",
       "</table>\n",
       "<table class=\"simpletable\">\n",
       "<tr>\n",
       "  <th>Omnibus:</th>       <td>15.865</td> <th>  Durbin-Watson:     </th> <td>   0.178</td>\n",
       "</tr>\n",
       "<tr>\n",
       "  <th>Prob(Omnibus):</th> <td> 0.000</td> <th>  Jarque-Bera (JB):  </th> <td>  14.429</td>\n",
       "</tr>\n",
       "<tr>\n",
       "  <th>Skew:</th>          <td>-1.763</td> <th>  Prob(JB):          </th> <td>0.000736</td>\n",
       "</tr>\n",
       "<tr>\n",
       "  <th>Kurtosis:</th>      <td> 5.408</td> <th>  Cond. No.          </th> <td>     inf</td>\n",
       "</tr>\n",
       "</table><br/><br/>Notes:<br/>[1] R² is computed without centering (uncentered) since the model does not contain a constant.<br/>[2] Standard Errors assume that the covariance matrix of the errors is correctly specified.<br/>[3] The smallest eigenvalue is      0. This might indicate that there are<br/>strong multicollinearity problems or that the design matrix is singular."
      ],
      "text/plain": [
       "<class 'statsmodels.iolib.summary.Summary'>\n",
       "\"\"\"\n",
       "                                 OLS Regression Results                                \n",
       "=======================================================================================\n",
       "Dep. Variable:              zone_temp   R-squared (uncentered):                   0.953\n",
       "Model:                            OLS   Adj. R-squared (uncentered):              0.947\n",
       "Method:                 Least Squares   F-statistic:                              171.3\n",
       "Date:                Mon, 29 Mar 2021   Prob (F-statistic):                    5.43e-12\n",
       "Time:                        15:28:53   Log-Likelihood:                         -55.938\n",
       "No. Observations:                  19   AIC:                                      115.9\n",
       "Df Residuals:                      17   BIC:                                      117.8\n",
       "Df Model:                           2                                                  \n",
       "Covariance Type:            nonrobust                                                  \n",
       "==============================================================================\n",
       "                 coef    std err          t      P>|t|      [0.025      0.975]\n",
       "------------------------------------------------------------------------------\n",
       "x1            19.4963      2.288      8.521      0.000      14.669      24.324\n",
       "const               0          0        nan        nan           0           0\n",
       "x2            19.0430      2.160      8.815      0.000      14.485      23.601\n",
       "x3                  0          0        nan        nan           0           0\n",
       "==============================================================================\n",
       "Omnibus:                       15.865   Durbin-Watson:                   0.178\n",
       "Prob(Omnibus):                  0.000   Jarque-Bera (JB):               14.429\n",
       "Skew:                          -1.763   Prob(JB):                     0.000736\n",
       "Kurtosis:                       5.408   Cond. No.                          inf\n",
       "==============================================================================\n",
       "\n",
       "Notes:\n",
       "[1] R² is computed without centering (uncentered) since the model does not contain a constant.\n",
       "[2] Standard Errors assume that the covariance matrix of the errors is correctly specified.\n",
       "[3] The smallest eigenvalue is      0. This might indicate that there are\n",
       "strong multicollinearity problems or that the design matrix is singular.\n",
       "\"\"\""
      ]
     },
     "execution_count": 10,
     "metadata": {},
     "output_type": "execute_result"
    }
   ],
   "source": [
    "import statsmodels.api as sm\n",
    "\n",
    "model = sm.OLS(y_train, x_train_norm)\n",
    "results = model.fit()\n",
    "results.summary()"
   ]
  },
  {
   "cell_type": "code",
   "execution_count": 11,
   "metadata": {},
   "outputs": [
    {
     "name": "stdout",
     "output_type": "stream",
     "text": [
      "[38.56107448 36.39615064 37.03480461 36.56521911 36.38438332 36.47909163\n",
      " 36.82786174 37.39186598 38.19233331 39.19629145 40.4017988  41.80244106]\n",
      "                     zone_temp\n",
      "time                          \n",
      "2017-07-14 08:35:00  21.450669\n",
      "2017-07-14 08:40:00  21.494678\n",
      "2017-07-14 08:45:00  21.521697\n",
      "2017-07-14 08:50:00  21.541514\n",
      "2017-07-14 08:55:00  21.559780\n",
      "2017-07-14 09:00:00  21.579154\n",
      "2017-07-14 09:05:00  21.600545\n",
      "2017-07-14 09:10:00  21.624091\n",
      "2017-07-14 09:15:00  21.649976\n",
      "2017-07-14 09:20:00  21.678258\n",
      "2017-07-14 09:25:00  21.708965\n",
      "2017-07-14 09:30:00  21.742116\n"
     ]
    }
   ],
   "source": [
    "pred = results.predict(x_test_norm)\n",
    "print(pred)\n",
    "print(y_test)"
   ]
  },
  {
   "cell_type": "code",
   "execution_count": 12,
   "metadata": {},
   "outputs": [
    {
     "data": {
      "text/plain": [
       "16.421096028422497"
      ]
     },
     "execution_count": 12,
     "metadata": {},
     "output_type": "execute_result"
    }
   ],
   "source": [
    "from sklearn.metrics import mean_squared_error\n",
    "\n",
    "mean_squared_error(y_test, pred, squared = False)"
   ]
  },
  {
   "cell_type": "code",
   "execution_count": 13,
   "metadata": {},
   "outputs": [],
   "source": [
    "bounds = y_test.copy()\n",
    "bounds['pred'] = pred\n"
   ]
  },
  {
   "cell_type": "code",
   "execution_count": 14,
   "metadata": {},
   "outputs": [
    {
     "name": "stdout",
     "output_type": "stream",
     "text": [
      "0.39752599725824833\n",
      "y_test:  [21.45066933 21.4946783  21.5216967  21.54151382 21.55977994 21.57915412\n",
      " 21.600545   21.62409098 21.64997557 21.67825832 21.70896541 21.7421159 ]\n",
      "y_pred:  [21.20433261 21.20476906 21.20531671 21.20581911 21.20633187 21.20685426\n",
      " 21.20738523 21.20792302 21.20846827 21.20901946 21.20957628 21.21013825]\n"
     ]
    },
    {
     "name": "stderr",
     "output_type": "stream",
     "text": [
      "/Users/devanshukumar/opt/anaconda3/lib/python3.8/site-packages/sklearn/utils/validation.py:72: DataConversionWarning: A column-vector y was passed when a 1d array was expected. Please change the shape of y to (n_samples, ), for example using ravel().\n",
      "  return f(**kwargs)\n"
     ]
    }
   ],
   "source": [
    "from sklearn.svm import SVR\n",
    "from sklearn.metrics import r2_score, mean_squared_error\n",
    "import numpy as np\n",
    "regressor = SVR()\n",
    "model = regressor.fit(x_train, y_train)\n",
    "y_pred = model.predict(x_test)\n",
    "mse = mean_squared_error(y_test, y_pred)\n",
    "rmse = np.sqrt(mse)\n",
    "print(rmse)\n",
    "print('y_test: ',y_test.zone_temp.values)\n",
    "print('y_pred: ',y_pred)"
   ]
  },
  {
   "cell_type": "markdown",
   "metadata": {},
   "source": [
    "# Actual values vs Predicted values (Linear Regression)"
   ]
  },
  {
   "cell_type": "code",
   "execution_count": 15,
   "metadata": {},
   "outputs": [
    {
     "data": {
      "image/png": "[encoded data removed]",
      "text/plain": [
       "<Figure size 1008x576 with 1 Axes>"
      ]
     },
     "metadata": {
      "needs_background": "light"
     },
     "output_type": "display_data"
    }
   ],
   "source": [
    "fig, ax = plt.subplots()\n",
    "hours = mdates.MinuteLocator(interval = 10)\n",
    "h_fmt = mdates.DateFormatter('%H:%M:%S')\n",
    "\n",
    "ax.plot(bounds.index, bounds['zone_temp'].values, '--', color = 'green', label = 'Actual')\n",
    "ax.plot(bounds.index, bounds['pred'].values, '--', color = 'black', label = 'Predicted')\n",
    "\n",
    "#Then tick and format with matplotlib:\n",
    "ax.xaxis.set_major_locator(hours)\n",
    "ax.xaxis.set_major_formatter(h_fmt)\n",
    "\n",
    "fig.autofmt_xdate()\n",
    "fig.set_size_inches(14, 8)\n",
    "#plt.fill_between(bounds.index, bounds['upper'].values,bounds['lower'].values,color='cornflowerblue',alpha=.5)\n",
    "plt.legend()\n",
    "plt.show()"
   ]
  },
  {
   "cell_type": "code",
   "execution_count": 16,
   "metadata": {},
   "outputs": [],
   "source": [
    "from sklearn.gaussian_process import GaussianProcessRegressor\n",
    "from sklearn.gaussian_process.kernels import DotProduct, WhiteKernel\n",
    "\n",
    "kernel = DotProduct() + WhiteKernel()\n",
    "gpr = GaussianProcessRegressor(random_state=0).fit(x_train_norm, y_train)\n",
    "gpr.score(x_train_norm, y_train)\n",
    "\n",
    "pred = gpr.predict(x_test_norm, return_std=True)\n",
    "# print(pred)\n",
    "# print(y_test)"
   ]
  },
  {
   "cell_type": "code",
   "execution_count": 17,
   "metadata": {},
   "outputs": [
    {
     "data": {
      "text/plain": [
       "0.609723558669909"
      ]
     },
     "execution_count": 17,
     "metadata": {},
     "output_type": "execute_result"
    }
   ],
   "source": [
    "mean_squared_error(y_test, pred[0],squared = False)"
   ]
  },
  {
   "cell_type": "code",
   "execution_count": 18,
   "metadata": {},
   "outputs": [
    {
     "data": {
      "text/html": [
       "<div>\n",
       "<style scoped>\n",
       "    .dataframe tbody tr th:only-of-type {\n",
       "        vertical-align: middle;\n",
       "    }\n",
       "\n",
       "    .dataframe tbody tr th {\n",
       "        vertical-align: top;\n",
       "    }\n",
       "\n",
       "    .dataframe thead th {\n",
       "        text-align: right;\n",
       "    }\n",
       "</style>\n",
       "<table border=\"1\" class=\"dataframe\">\n",
       "  <thead>\n",
       "    <tr style=\"text-align: right;\">\n",
       "      <th></th>\n",
       "      <th>zone_temp</th>\n",
       "      <th>pred</th>\n",
       "    </tr>\n",
       "    <tr>\n",
       "      <th>time</th>\n",
       "      <th></th>\n",
       "      <th></th>\n",
       "    </tr>\n",
       "  </thead>\n",
       "  <tbody>\n",
       "    <tr>\n",
       "      <th>2017-07-14 08:35:00</th>\n",
       "      <td>21.450669</td>\n",
       "      <td>21.446021</td>\n",
       "    </tr>\n",
       "    <tr>\n",
       "      <th>2017-07-14 08:40:00</th>\n",
       "      <td>21.494678</td>\n",
       "      <td>21.370408</td>\n",
       "    </tr>\n",
       "    <tr>\n",
       "      <th>2017-07-14 08:45:00</th>\n",
       "      <td>21.521697</td>\n",
       "      <td>21.341074</td>\n",
       "    </tr>\n",
       "    <tr>\n",
       "      <th>2017-07-14 08:50:00</th>\n",
       "      <td>21.541514</td>\n",
       "      <td>21.298464</td>\n",
       "    </tr>\n",
       "    <tr>\n",
       "      <th>2017-07-14 08:55:00</th>\n",
       "      <td>21.559780</td>\n",
       "      <td>21.256868</td>\n",
       "    </tr>\n",
       "    <tr>\n",
       "      <th>2017-07-14 09:00:00</th>\n",
       "      <td>21.579154</td>\n",
       "      <td>21.209960</td>\n",
       "    </tr>\n",
       "    <tr>\n",
       "      <th>2017-07-14 09:05:00</th>\n",
       "      <td>21.600545</td>\n",
       "      <td>21.151994</td>\n",
       "    </tr>\n",
       "    <tr>\n",
       "      <th>2017-07-14 09:10:00</th>\n",
       "      <td>21.624091</td>\n",
       "      <td>21.078134</td>\n",
       "    </tr>\n",
       "    <tr>\n",
       "      <th>2017-07-14 09:15:00</th>\n",
       "      <td>21.649976</td>\n",
       "      <td>20.982528</td>\n",
       "    </tr>\n",
       "    <tr>\n",
       "      <th>2017-07-14 09:20:00</th>\n",
       "      <td>21.678258</td>\n",
       "      <td>20.860410</td>\n",
       "    </tr>\n",
       "    <tr>\n",
       "      <th>2017-07-14 09:25:00</th>\n",
       "      <td>21.708965</td>\n",
       "      <td>20.706237</td>\n",
       "    </tr>\n",
       "    <tr>\n",
       "      <th>2017-07-14 09:30:00</th>\n",
       "      <td>21.742116</td>\n",
       "      <td>20.514582</td>\n",
       "    </tr>\n",
       "  </tbody>\n",
       "</table>\n",
       "</div>"
      ],
      "text/plain": [
       "                     zone_temp       pred\n",
       "time                                     \n",
       "2017-07-14 08:35:00  21.450669  21.446021\n",
       "2017-07-14 08:40:00  21.494678  21.370408\n",
       "2017-07-14 08:45:00  21.521697  21.341074\n",
       "2017-07-14 08:50:00  21.541514  21.298464\n",
       "2017-07-14 08:55:00  21.559780  21.256868\n",
       "2017-07-14 09:00:00  21.579154  21.209960\n",
       "2017-07-14 09:05:00  21.600545  21.151994\n",
       "2017-07-14 09:10:00  21.624091  21.078134\n",
       "2017-07-14 09:15:00  21.649976  20.982528\n",
       "2017-07-14 09:20:00  21.678258  20.860410\n",
       "2017-07-14 09:25:00  21.708965  20.706237\n",
       "2017-07-14 09:30:00  21.742116  20.514582"
      ]
     },
     "execution_count": 18,
     "metadata": {},
     "output_type": "execute_result"
    }
   ],
   "source": [
    "bounds = y_test.copy()\n",
    "bounds['pred'] = pred[0]\n",
    "bounds"
   ]
  },
  {
   "cell_type": "markdown",
   "metadata": {},
   "source": [
    "# Actual values vs Predicted values (Gaussain Process Regression)"
   ]
  },
  {
   "cell_type": "code",
   "execution_count": 19,
   "metadata": {},
   "outputs": [
    {
     "data": {
      "image/png": "[encoded data removed]",
      "text/plain": [
       "<Figure size 1008x576 with 1 Axes>"
      ]
     },
     "metadata": {
      "needs_background": "light"
     },
     "output_type": "display_data"
    }
   ],
   "source": [
    "fig, ax = plt.subplots()\n",
    "hours = mdates.MinuteLocator(interval = 10)\n",
    "h_fmt = mdates.DateFormatter('%H:%M:%S')\n",
    "\n",
    "ax.plot(bounds.index, bounds['zone_temp'].values, '--', color = 'green', label = 'Actual')\n",
    "ax.plot(bounds.index, bounds['pred'].values, '--', color = 'black', label = 'Predicted')\n",
    "\n",
    "#Then tick and format with matplotlib:\n",
    "ax.xaxis.set_major_locator(hours)\n",
    "ax.xaxis.set_major_formatter(h_fmt)\n",
    "\n",
    "fig.autofmt_xdate()\n",
    "fig.set_size_inches(14, 8)\n",
    "#plt.fill_between(bounds.index, bounds['upper'].values,bounds['lower'].values,color='cornflowerblue',alpha=.5)\n",
    "plt.legend()\n",
    "plt.show()"
   ]
  },
  {
   "cell_type": "markdown",
   "metadata": {},
   "source": [
    "# Sample set up for Model precision feedback"
   ]
  },
  {
   "cell_type": "code",
   "execution_count": 20,
   "metadata": {
    "scrolled": true
   },
   "outputs": [
    {
     "name": "stdout",
     "output_type": "stream",
     "text": [
      "0.42067556347822893\n"
     ]
    },
    {
     "name": "stderr",
     "output_type": "stream",
     "text": [
      "/Users/devanshukumar/opt/anaconda3/lib/python3.8/site-packages/sklearn/utils/validation.py:72: DataConversionWarning: A column-vector y was passed when a 1d array was expected. Please change the shape of y to (n_samples, ), for example using ravel().\n",
      "  return f(**kwargs)\n"
     ]
    }
   ],
   "source": [
    "from sklearn.model_selection import train_test_split\n",
    "\n",
    "## loading dataset and initializations\n",
    "#train = pd.read_csv('data/train_test/train2.csv')\n",
    "#test = pd.read_csv('data/train_test/test2.csv')\n",
    "#non_date_data = pd.read_csv('data/result.csv')\n",
    "train = data.loc['2017-07-14 07:00:00':'2017-07-14 08:30:00']\n",
    "test = data.loc['2017-07-14 08:35:00':'2017-07-14 09:30:00']\n",
    "#train = data.loc['2017-06-01 07:45:00':'2017-06-01 08:45:00']\n",
    "#print(train)\n",
    "#train = train.set_index(pd.Index(range(0,13)),'time')\n",
    "#print(train)\n",
    "#test = data.loc['2017-06-01 08:50:00':'2017-06-01 09:20:00']\n",
    "#test = test.set_index(pd.Index(range(0,7)),'time')\n",
    "filtered_data = train[['supply_temp', 'air_flow','outdoor_temp','occupancy', 'zone_temp']]\n",
    "err = 100000\n",
    "end_index = 5\n",
    "kernel = DotProduct() + WhiteKernel()\n",
    "\n",
    "##Epochs configuration for the semi-active learning\n",
    "\n",
    "while err > 0.5 and end_index < len(train):\n",
    "    zone_data = filtered_data[0:end_index+1]\n",
    "    X = zone_data[['supply_temp', 'air_flow','outdoor_temp','occupancy']]\n",
    "    Y = zone_data[['zone_temp']]\n",
    "    #print(X)\n",
    "    \n",
    "    X1 = test[['supply_temp', 'air_flow','outdoor_temp','occupancy']]\n",
    "    Y1 = test[['zone_temp']]\n",
    "    \n",
    "    scaler = MinMaxScaler()\n",
    "    X_norm = scaler.fit_transform(X)\n",
    "    X1_norm = scaler.transform(X1)\n",
    "    \n",
    "    #x_train, x_test, y_train, y_test = train_test_split(X_norm, y, test_size=0.50)\n",
    "    regressor = SVR()\n",
    "    svr_model = regressor.fit(x_train, y_train)\n",
    "    #gpr = GaussianProcessRegressor().fit(X_norm, Y)\n",
    "    #ols = sm.OLS(Y, X_norm)\n",
    "    #model_linear = ols.fit()\n",
    "    \n",
    "    #pred = gpr.predict(x_test, return_std=True)\n",
    "    #pred1 = gpr.predict(X1_norm, return_std=True)\n",
    "    #pred_linear_model = model_linear.predict(X1_norm)\n",
    "    pred_svr_model = svr_model.predict(X1_norm)\n",
    "    \n",
    "    temp_error = mean_squared_error(Y1, pred_svr_model, squared = False) #For Gaussian Process\n",
    "    #temp_error = mean_squared_error(Y1, pred_linear_model, squared = False) #For Linear Regression\n",
    "    \n",
    "    if temp_error < err:\n",
    "        err = temp_error\n",
    "    print(err)\n",
    "    end_index = end_index + 1"
   ]
  },
  {
   "cell_type": "code",
   "execution_count": 21,
   "metadata": {},
   "outputs": [
    {
     "name": "stdout",
     "output_type": "stream",
     "text": [
      "                     zone_temp\n",
      "time                          \n",
      "2017-07-14 08:35:00  21.450669\n",
      "2017-07-14 08:40:00  21.494678\n",
      "2017-07-14 08:45:00  21.521697\n",
      "2017-07-14 08:50:00  21.541514\n",
      "2017-07-14 08:55:00  21.559780\n",
      "2017-07-14 09:00:00  21.579154\n",
      "2017-07-14 09:05:00  21.600545\n",
      "2017-07-14 09:10:00  21.624091\n",
      "2017-07-14 09:15:00  21.649976\n",
      "2017-07-14 09:20:00  21.678258\n",
      "2017-07-14 09:25:00  21.708965\n",
      "2017-07-14 09:30:00  21.742116\n",
      "[21.18384814 21.1842098  21.18409231 21.18417002 21.18420045 21.18418475\n",
      " 21.18412572 21.18402943 21.18389124 21.18371637 21.18350451 21.1832562 ]\n"
     ]
    }
   ],
   "source": [
    "print(Y1)\n",
    "print(pred_svr_model)"
   ]
  },
  {
   "cell_type": "markdown",
   "metadata": {},
   "source": [
    "# DataFrame setup for Post validation"
   ]
  },
  {
   "cell_type": "code",
   "execution_count": 22,
   "metadata": {},
   "outputs": [
    {
     "data": {
      "text/html": [
       "<div>\n",
       "<style scoped>\n",
       "    .dataframe tbody tr th:only-of-type {\n",
       "        vertical-align: middle;\n",
       "    }\n",
       "\n",
       "    .dataframe tbody tr th {\n",
       "        vertical-align: top;\n",
       "    }\n",
       "\n",
       "    .dataframe thead th {\n",
       "        text-align: right;\n",
       "    }\n",
       "</style>\n",
       "<table border=\"1\" class=\"dataframe\">\n",
       "  <thead>\n",
       "    <tr style=\"text-align: right;\">\n",
       "      <th></th>\n",
       "      <th>zone_temp</th>\n",
       "      <th>upper</th>\n",
       "      <th>lower</th>\n",
       "      <th>upper_BMS</th>\n",
       "      <th>lower_BMS</th>\n",
       "      <th>pred</th>\n",
       "    </tr>\n",
       "    <tr>\n",
       "      <th>date</th>\n",
       "      <th></th>\n",
       "      <th></th>\n",
       "      <th></th>\n",
       "      <th></th>\n",
       "      <th></th>\n",
       "      <th></th>\n",
       "    </tr>\n",
       "  </thead>\n",
       "  <tbody>\n",
       "    <tr>\n",
       "      <th>2017-07-04 08:35:00</th>\n",
       "      <td>21.450669</td>\n",
       "      <td>22.273848</td>\n",
       "      <td>20.093848</td>\n",
       "      <td>22.290669</td>\n",
       "      <td>20.610669</td>\n",
       "      <td>21.183848</td>\n",
       "    </tr>\n",
       "    <tr>\n",
       "      <th>2017-07-04 08:40:00</th>\n",
       "      <td>21.494678</td>\n",
       "      <td>22.274210</td>\n",
       "      <td>20.094210</td>\n",
       "      <td>22.334678</td>\n",
       "      <td>20.654678</td>\n",
       "      <td>21.184210</td>\n",
       "    </tr>\n",
       "    <tr>\n",
       "      <th>2017-07-04 08:45:00</th>\n",
       "      <td>21.521697</td>\n",
       "      <td>22.274092</td>\n",
       "      <td>20.094092</td>\n",
       "      <td>22.361697</td>\n",
       "      <td>20.681697</td>\n",
       "      <td>21.184092</td>\n",
       "    </tr>\n",
       "    <tr>\n",
       "      <th>2017-07-04 08:50:00</th>\n",
       "      <td>21.541514</td>\n",
       "      <td>22.274170</td>\n",
       "      <td>20.094170</td>\n",
       "      <td>22.381514</td>\n",
       "      <td>20.701514</td>\n",
       "      <td>21.184170</td>\n",
       "    </tr>\n",
       "    <tr>\n",
       "      <th>2017-07-04 08:55:00</th>\n",
       "      <td>21.559780</td>\n",
       "      <td>22.274200</td>\n",
       "      <td>20.094200</td>\n",
       "      <td>22.399780</td>\n",
       "      <td>20.719780</td>\n",
       "      <td>21.184200</td>\n",
       "    </tr>\n",
       "    <tr>\n",
       "      <th>2017-07-04 09:00:00</th>\n",
       "      <td>21.579154</td>\n",
       "      <td>22.274185</td>\n",
       "      <td>20.094185</td>\n",
       "      <td>22.419154</td>\n",
       "      <td>20.739154</td>\n",
       "      <td>21.184185</td>\n",
       "    </tr>\n",
       "    <tr>\n",
       "      <th>2017-07-04 09:05:00</th>\n",
       "      <td>21.600545</td>\n",
       "      <td>22.274126</td>\n",
       "      <td>20.094126</td>\n",
       "      <td>22.440545</td>\n",
       "      <td>20.760545</td>\n",
       "      <td>21.184126</td>\n",
       "    </tr>\n",
       "    <tr>\n",
       "      <th>2017-07-04 09:10:00</th>\n",
       "      <td>21.624091</td>\n",
       "      <td>22.274029</td>\n",
       "      <td>20.094029</td>\n",
       "      <td>22.464091</td>\n",
       "      <td>20.784091</td>\n",
       "      <td>21.184029</td>\n",
       "    </tr>\n",
       "    <tr>\n",
       "      <th>2017-07-04 09:15:00</th>\n",
       "      <td>21.649976</td>\n",
       "      <td>22.273891</td>\n",
       "      <td>20.093891</td>\n",
       "      <td>22.489976</td>\n",
       "      <td>20.809976</td>\n",
       "      <td>21.183891</td>\n",
       "    </tr>\n",
       "    <tr>\n",
       "      <th>2017-07-04 09:20:00</th>\n",
       "      <td>21.678258</td>\n",
       "      <td>22.273716</td>\n",
       "      <td>20.093716</td>\n",
       "      <td>22.518258</td>\n",
       "      <td>20.838258</td>\n",
       "      <td>21.183716</td>\n",
       "    </tr>\n",
       "    <tr>\n",
       "      <th>2017-07-04 09:25:00</th>\n",
       "      <td>21.708965</td>\n",
       "      <td>22.273505</td>\n",
       "      <td>20.093505</td>\n",
       "      <td>22.548965</td>\n",
       "      <td>20.868965</td>\n",
       "      <td>21.183505</td>\n",
       "    </tr>\n",
       "    <tr>\n",
       "      <th>2017-07-04 09:30:00</th>\n",
       "      <td>21.742116</td>\n",
       "      <td>22.273256</td>\n",
       "      <td>20.093256</td>\n",
       "      <td>22.582116</td>\n",
       "      <td>20.902116</td>\n",
       "      <td>21.183256</td>\n",
       "    </tr>\n",
       "  </tbody>\n",
       "</table>\n",
       "</div>"
      ],
      "text/plain": [
       "                     zone_temp      upper      lower  upper_BMS  lower_BMS  \\\n",
       "date                                                                         \n",
       "2017-07-04 08:35:00  21.450669  22.273848  20.093848  22.290669  20.610669   \n",
       "2017-07-04 08:40:00  21.494678  22.274210  20.094210  22.334678  20.654678   \n",
       "2017-07-04 08:45:00  21.521697  22.274092  20.094092  22.361697  20.681697   \n",
       "2017-07-04 08:50:00  21.541514  22.274170  20.094170  22.381514  20.701514   \n",
       "2017-07-04 08:55:00  21.559780  22.274200  20.094200  22.399780  20.719780   \n",
       "2017-07-04 09:00:00  21.579154  22.274185  20.094185  22.419154  20.739154   \n",
       "2017-07-04 09:05:00  21.600545  22.274126  20.094126  22.440545  20.760545   \n",
       "2017-07-04 09:10:00  21.624091  22.274029  20.094029  22.464091  20.784091   \n",
       "2017-07-04 09:15:00  21.649976  22.273891  20.093891  22.489976  20.809976   \n",
       "2017-07-04 09:20:00  21.678258  22.273716  20.093716  22.518258  20.838258   \n",
       "2017-07-04 09:25:00  21.708965  22.273505  20.093505  22.548965  20.868965   \n",
       "2017-07-04 09:30:00  21.742116  22.273256  20.093256  22.582116  20.902116   \n",
       "\n",
       "                          pred  \n",
       "date                            \n",
       "2017-07-04 08:35:00  21.183848  \n",
       "2017-07-04 08:40:00  21.184210  \n",
       "2017-07-04 08:45:00  21.184092  \n",
       "2017-07-04 08:50:00  21.184170  \n",
       "2017-07-04 08:55:00  21.184200  \n",
       "2017-07-04 09:00:00  21.184185  \n",
       "2017-07-04 09:05:00  21.184126  \n",
       "2017-07-04 09:10:00  21.184029  \n",
       "2017-07-04 09:15:00  21.183891  \n",
       "2017-07-04 09:20:00  21.183716  \n",
       "2017-07-04 09:25:00  21.183505  \n",
       "2017-07-04 09:30:00  21.183256  "
      ]
     },
     "execution_count": 22,
     "metadata": {},
     "output_type": "execute_result"
    }
   ],
   "source": [
    "upper_bound = []\n",
    "lower_bound = []\n",
    "\n",
    "upper_bound = pred_svr_model + 0.5 + 0.59\n",
    "lower_bound = pred_svr_model - 0.5 - 0.59\n",
    "bounds = Y1.copy()\n",
    "temp = pd.date_range(start='2017-07-04 08:35:00', periods=12, freq='300s')\n",
    "bounds['date'] = temp\n",
    "bounds['upper'] = upper_bound\n",
    "bounds['lower'] = lower_bound\n",
    "#bounds['zone_temp'] = bounds['zone_temp'] + 6\n",
    "bounds['upper_BMS'] = Y1['zone_temp'] + 0.25 + 0.59\n",
    "bounds['lower_BMS'] = Y1['zone_temp'] - 0.25 - 0.59\n",
    "bounds['pred'] = pred_svr_model\n",
    "bounds.set_index('date',inplace=True)\n",
    "bounds"
   ]
  },
  {
   "cell_type": "markdown",
   "metadata": {},
   "source": [
    "# Bounds Visualization"
   ]
  },
  {
   "cell_type": "code",
   "execution_count": 23,
   "metadata": {},
   "outputs": [
    {
     "data": {
      "image/png": "[encoded data removed]",
      "text/plain": [
       "<Figure size 1008x576 with 1 Axes>"
      ]
     },
     "metadata": {
      "needs_background": "light"
     },
     "output_type": "display_data"
    }
   ],
   "source": [
    "fig, ax = plt.subplots()\n",
    "hours = mdates.HourLocator(interval = 1)\n",
    "h_fmt = mdates.DateFormatter('%H:%M:%S')\n",
    "\n",
    "#ax.plot(bounds.index, bounds['upper'].values, '--', color = 'red', label = 'Upper bound')\n",
    "ax.plot(bounds.index, bounds['zone_temp'].values, 'o', color = 'green', label = 'Actual')\n",
    "ax.plot(bounds.index, bounds['pred'].values, 'o', color = 'black', label = 'Predicted')\n",
    "#ax.plot(bounds.index, bounds['lower'].values, '--', color = 'violet', label = 'Lower Bound')\n",
    "\n",
    "#Then tick and format with matplotlib:\n",
    "ax.xaxis.set_major_locator(hours)\n",
    "ax.xaxis.set_major_formatter(h_fmt)\n",
    "\n",
    "fig.autofmt_xdate()\n",
    "fig.set_size_inches(14, 8)\n",
    "plt.fill_between(bounds.index, bounds['upper'].values,bounds['lower'].values,color='cornflowerblue',alpha=.5)\n",
    "plt.fill_between(bounds.index, bounds['upper_BMS'].values,bounds['lower_BMS'].values,color='coral',alpha=.5)\n",
    "plt.legend()\n",
    "plt.show()"
   ]
  },
  {
   "cell_type": "code",
   "execution_count": null,
   "metadata": {},
   "outputs": [],
   "source": []
  }
 ],
 "metadata": {
  "kernelspec": {
   "display_name": "Python 3",
   "language": "python",
   "name": "python3"
  },
  "language_info": {
   "codemirror_mode": {
    "name": "ipython",
    "version": 3
   },
   "file_extension": ".py",
   "mimetype": "text/x-python",
   "name": "python",
   "nbconvert_exporter": "python",
   "pygments_lexer": "ipython3",
   "version": "3.8.3"
  }
 },
 "nbformat": 4,
 "nbformat_minor": 4
}
